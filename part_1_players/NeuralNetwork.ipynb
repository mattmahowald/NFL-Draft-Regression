{
 "cells": [
  {
   "cell_type": "code",
   "execution_count": 1,
   "metadata": {},
   "outputs": [
    {
     "name": "stderr",
     "output_type": "stream",
     "text": [
      "Using TensorFlow backend.\n"
     ]
    }
   ],
   "source": [
    "import numpy as np\n",
    "import pandas as pd\n",
    "from keras.models import Sequential\n",
    "from keras.layers import Dense\n",
    "from keras.wrappers.scikit_learn import KerasRegressor\n",
    "from sklearn.model_selection import cross_val_score\n",
    "from sklearn.metrics import mean_squared_error, r2_score\n",
    "from sklearn.model_selection import KFold\n",
    "from sklearn.preprocessing import StandardScaler\n",
    "from sklearn.pipeline import Pipeline\n",
    "from collections import defaultdict\n",
    "import math"
   ]
  },
  {
   "cell_type": "code",
   "execution_count": 2,
   "metadata": {
    "collapsed": true
   },
   "outputs": [],
   "source": [
    "# format the data to be fed into the network\n",
    "combine_cleaned = pd.read_csv('combine_cleaned.csv')\n",
    "final_continuous = pd.read_csv('finalData.csv')\n",
    "final_discrete = pd.read_csv('discreteData.csv')\n",
    "\n",
    "# Set which of the datasets to use \n",
    "data = final_continuous\n",
    "TEST_YEAR = 2015"
   ]
  },
  {
   "cell_type": "code",
   "execution_count": 3,
   "metadata": {
    "collapsed": true
   },
   "outputs": [],
   "source": [
    "featuresStandard = ['heightinchestotal', 'weight', 'fortyyd', 'vertical', 'bench', 'twentyss', 'threecone', 'broad', \n",
    "            'games', 'rushingAtt', 'rushingYds', 'rushingAvg', 'rushingTD', 'passCmp',\n",
    "            'passPct', 'passYds', 'passTD', 'passInt', 'passRate', 'recYds', 'recAtt', 'recTD', 'recAvg', 'soloTackles', \n",
    "            'tackleAssists', 'totalTackles', 'sacks', 'ints', 'intTDs', 'passDef', 'fumbles', 'fumblesForced']\n",
    "featuresDiscrete = ['confACC','confPac-12','confUnknown','confSEC','confBig 12','confBig Ten','confAmerican',\n",
    "            'confBig East','confPac-10','confMAC','confSun Belt','confMWC','confWAC','confCUSA','confInd','confSouthern','confMVC','confPac-8',\n",
    "            'confBig West','confSWC','confSouthland','confBig 8','confSWAC','heightinchestotalNone','heightinchestotalQ1','heightinchestotalQ2',\n",
    "            'heightinchestotalQ3','heightinchestotalQ4','weightNone','weightQ1','weightQ2','weightQ3','weightQ4','fortyydNone','fortyydQ1','fortyydQ2',\n",
    "            'fortyydQ3','fortyydQ4','verticalNone','verticalQ1','verticalQ2','verticalQ3','verticalQ4','benchNone','benchQ1','benchQ2','benchQ3',\n",
    "            'benchQ4','twentyssNone','twentyssQ1','twentyssQ2','twentyssQ3','twentyssQ4','threeconeNone','threeconeQ1','threeconeQ2','threeconeQ3',\n",
    "            'threeconeQ4','broadNone','broadQ1','broadQ2','broadQ3','broadQ4','gamesNone','gamesQ1','gamesQ2','gamesQ3','gamesQ4','rushingAttNone',\n",
    "            'rushingAttQ1','rushingAttQ2','rushingAttQ3','rushingAttQ4','rushingYdsNone','rushingYdsQ1','rushingYdsQ2','rushingYdsQ3','rushingYdsQ4',\n",
    "            'rushingAvgNone','rushingAvgQ1','rushingAvgQ2','rushingAvgQ3','rushingAvgQ4','rushingTDNone','rushingTDQ1','rushingTDQ2','rushingTDQ3','rushingTDQ4'\n",
    "            ,'passCmpNone','passCmpQ1','passCmpQ2','passCmpQ3','passCmpQ4','passPctNone','passPctQ1','passPctQ2','passPctQ3','passPctQ4','passYdsNone','passYdsQ1',\n",
    "            'passYdsQ2','passYdsQ3','passYdsQ4','passTDNone','passTDQ1','passTDQ2','passTDQ3','passTDQ4','passIntNone','passIntQ1','passIntQ2','passIntQ3','passIntQ4','passRateNone',\n",
    "            'passRateQ1','passRateQ2','passRateQ3','passRateQ4','recYdsNone','recYdsQ1','recYdsQ2','recYdsQ3','recYdsQ4','recAttNone','recAttQ1','recAttQ2','recAttQ3',\n",
    "            'recAttQ4','recTDNone','recTDQ1','recTDQ2','recTDQ3','recTDQ4','recAvgNone','recAvgQ1','recAvgQ2','recAvgQ3','recAvgQ4','soloTacklesNone','soloTacklesQ1',\n",
    "            'soloTacklesQ2','soloTacklesQ3','soloTacklesQ4','tackleAssistsNone','tackleAssistsQ1','tackleAssistsQ2','tackleAssistsQ3','tackleAssistsQ4','totalTacklesNone',\n",
    "            'totalTacklesQ1','totalTacklesQ2','totalTacklesQ3','totalTacklesQ4','sacksNone','sacksQ1','sacksQ2','sacksQ3','sacksQ4','intsNone','intsQ1','intsQ2','intsQ3',\n",
    "            'intsQ4','intTDsNone','intTDsQ1','intTDsQ2','intTDsQ3','intTDsQ4','passDefNone','passDefQ1','passDefQ2','passDefQ3','passDefQ4','fumblesNone','fumblesQ1',\n",
    "            'fumblesQ2','fumblesQ3','fumblesQ4','fumblesForcedNone','fumblesForcedQ1','fumblesForcedQ2','fumblesForcedQ3','fumblesForcedQ4']\n",
    "features = featuresStandard"
   ]
  },
  {
   "cell_type": "code",
   "execution_count": 4,
   "metadata": {
    "collapsed": true,
    "scrolled": true
   },
   "outputs": [],
   "source": [
    "numFeatures = len(features)"
   ]
  },
  {
   "cell_type": "code",
   "execution_count": 5,
   "metadata": {
    "collapsed": true
   },
   "outputs": [],
   "source": [
    "# get player values/draft positions based on 'nfl_draft' data\n",
    "def get_player_draft_info():\n",
    "    valuesMap = {}\n",
    "    pickMap = {}\n",
    "    MAX_VALUE = 256 # number of draft picks + 1 (7 rounds * 32 picks + 32 compensatory + 1)\n",
    "    for index, row in data.iterrows():\n",
    "        primaryKey = (row['name'], row['year'])\n",
    "        valuesMap[primaryKey] = (MAX_VALUE - row['pick'])\n",
    "        pickMap[primaryKey] = row['pick']\n",
    "    return valuesMap, pickMap"
   ]
  },
  {
   "cell_type": "code",
   "execution_count": 6,
   "metadata": {
    "collapsed": true
   },
   "outputs": [],
   "source": [
    "# Creates list of positions to partition by\n",
    "positionsSet = set()\n",
    "for position in data['pos']:\n",
    "    positionsSet.add(position)\n",
    "positions = list(positionsSet)"
   ]
  },
  {
   "cell_type": "code",
   "execution_count": 7,
   "metadata": {
    "collapsed": true
   },
   "outputs": [],
   "source": [
    "draftValues, draftPositions = get_player_draft_info()"
   ]
  },
  {
   "cell_type": "code",
   "execution_count": 8,
   "metadata": {
    "collapsed": true
   },
   "outputs": [],
   "source": [
    "combineFeatures = data[['name', 'pos', 'year'] + features]"
   ]
  },
  {
   "cell_type": "code",
   "execution_count": 9,
   "metadata": {
    "collapsed": true
   },
   "outputs": [],
   "source": [
    "def get_position_maps():\n",
    "    positionMaps = {}\n",
    "    for position in positions:\n",
    "        positionMaps[position] = combineFeatures[combineFeatures['pos'] == position]\n",
    "    return positionMaps"
   ]
  },
  {
   "cell_type": "code",
   "execution_count": 10,
   "metadata": {
    "collapsed": true
   },
   "outputs": [],
   "source": [
    "positionMaps = get_position_maps()"
   ]
  },
  {
   "cell_type": "code",
   "execution_count": 11,
   "metadata": {
    "collapsed": true
   },
   "outputs": [],
   "source": [
    "# build X matrix and \n",
    "def build_data_arrays():\n",
    "    X = defaultdict(list)\n",
    "    Y = defaultdict(list)\n",
    "    xTrain = defaultdict(list)\n",
    "    yTrain = defaultdict(list)\n",
    "    xTest = defaultdict(list)\n",
    "    yTest = defaultdict(list)\n",
    "    names = defaultdict(list)\n",
    "    for position in positionMaps:\n",
    "        for index, row in positionMaps[position].iterrows(): \n",
    "            X[position].append(row[3:])                  \n",
    "            Y[position].append(draftValues[(row['name'], row['year'])])\n",
    "            if row['year'] == TEST_YEAR:\n",
    "                xTest[position].append(row[3:]) \n",
    "                yTest[position].append(draftValues[(row['name'], row['year'])])\n",
    "                names[position].append(row['name'])\n",
    "            if not row['year'] == TEST_YEAR:\n",
    "                xTrain[position].append(row[3:])                  \n",
    "                yTrain[position].append(draftValues[(row['name'], row['year'])])\n",
    "    return X, Y, xTrain, yTrain, xTest, yTest, names"
   ]
  },
  {
   "cell_type": "code",
   "execution_count": 12,
   "metadata": {
    "collapsed": true
   },
   "outputs": [],
   "source": [
    "X, Y, xTrain, yTrain, xTest, yTest, names = build_data_arrays()"
   ]
  },
  {
   "cell_type": "code",
   "execution_count": 13,
   "metadata": {
    "collapsed": true
   },
   "outputs": [],
   "source": [
    "def base_model():\n",
    "    model = Sequential()\n",
    "    model.add(Dense(numFeatures, input_dim=numFeatures, kernel_initializer='normal', activation='relu'))\n",
    "    model.add(Dense(1, kernel_initializer='normal'))\n",
    "    model.compile(loss='mean_squared_error', optimizer='adam')\n",
    "    return model"
   ]
  },
  {
   "cell_type": "code",
   "execution_count": 14,
   "metadata": {
    "collapsed": true
   },
   "outputs": [],
   "source": [
    "def deep_model():\n",
    "    model = Sequential()\n",
    "    model.add(Dense(numFeatures, input_dim=numFeatures, kernel_initializer='normal', activation='relu'))\n",
    "    model.add(Dense(numFeatures // 2, kernel_initializer='normal'))\n",
    "    model.add(Dense(1, kernel_initializer='normal'))\n",
    "    model.compile(loss='mean_squared_error', optimizer='adam')\n",
    "    return model"
   ]
  },
  {
   "cell_type": "code",
   "execution_count": 15,
   "metadata": {
    "collapsed": true
   },
   "outputs": [],
   "source": [
    "def wide_model():\n",
    "    model = Sequential()\n",
    "    model.add(Dense(numFeatures, input_dim=numFeatures, kernel_initializer='normal', activation='relu'))\n",
    "    model.add(Dense(numFeatures * 2, kernel_initializer='normal'))\n",
    "    model.add(Dense(1, kernel_initializer='normal'))\n",
    "    model.compile(loss='mean_squared_error', optimizer='adam')\n",
    "    # model.compile(optimizer='rmsprop', loss='mse')\n",
    "    return model"
   ]
  },
  {
   "cell_type": "code",
   "execution_count": 16,
   "metadata": {
    "collapsed": true
   },
   "outputs": [],
   "source": [
    "seed = 7\n",
    "np.random.seed(seed)\n",
    "estimators = []\n",
    "estimators.append(('standardize', StandardScaler())) # Makes data Gaussian \n",
    "predictor = KerasRegressor(build_fn=base_model, nb_epoch=1000, batch_size=5, verbose=0)\n",
    "estimators.append(('mlp', predictor))\n",
    "pipeline = Pipeline(estimators)"
   ]
  },
  {
   "cell_type": "code",
   "execution_count": 17,
   "metadata": {
    "collapsed": true
   },
   "outputs": [],
   "source": [
    "numFolds = 10\n",
    "kFold = KFold(n_splits=numFolds, random_state=seed)\n",
    "def eval_data():\n",
    "    errorMap = {}\n",
    "    for p in positions:\n",
    "        if len(X[p]) > numFolds:\n",
    "            results = cross_val_score(pipeline, np.array(X[p]), np.array(Y[p]), cv=kFold)\n",
    "            errorMap[p] = (results.mean(), results.std())\n",
    "            print 'Results[{}]: mean={} (std={}) Mean Squared Error'.format(p, results.mean(), results.std())\n",
    "        else:\n",
    "            print 'Position: {} has too little data ({} row(s))'.format(p, len(X[p]))\n",
    "    return errorMap"
   ]
  },
  {
   "cell_type": "code",
   "execution_count": 18,
   "metadata": {
    "collapsed": true
   },
   "outputs": [],
   "source": [
    "# errors = eval_data()"
   ]
  },
  {
   "cell_type": "code",
   "execution_count": 19,
   "metadata": {
    "collapsed": true
   },
   "outputs": [],
   "source": [
    "# Map players to their true and predicted draft positions \n",
    "def get_relative_error(results, test_year):\n",
    "    trueDraftMap = {}      # true pick number\n",
    "    predictedDraftMap = {} # relative pick based on regression\n",
    "    i = 0\n",
    "    for index, row in results.iterrows():\n",
    "        trueDraftMap[row['name']] = draftPositions[(row['name'], test_year)] #need primary key to get draft positions \n",
    "        predictedDraftMap[row['name']] = i\n",
    "        i += 1\n",
    "    \n",
    "    # Compute absolute_error based on relative draft positions\n",
    "    i = 0\n",
    "    absolute_error = 0\n",
    "    errors = {}\n",
    "    for key, value in sorted(trueDraftMap.iteritems(), key=lambda (k,v): (v,k)):  \n",
    "        errors[key] = math.fabs(i - predictedDraftMap[key]) \n",
    "        absolute_error += errors[key]\n",
    "        i += 1\n",
    "        \n",
    "    #Add the errors to the results Dataframe (for visualization)\n",
    "    results['error'] = 0.0\n",
    "    for index, row in results.iterrows():\n",
    "        results.at[index, 'error'] = errors[row['name']]\n",
    "\n",
    "    #average the error by the total number of players\n",
    "    return absolute_error / float(len(results))"
   ]
  },
  {
   "cell_type": "code",
   "execution_count": 20,
   "metadata": {},
   "outputs": [
    {
     "name": "stdout",
     "output_type": "stream",
     "text": [
      "Not enough data for position: LS\n",
      "Not enough data for position: K\n",
      "Not enough data for position: P\n"
     ]
    }
   ],
   "source": [
    "scores = {}\n",
    "output = {}\n",
    "relativeError = {} \n",
    "scaler = StandardScaler()\n",
    "for p in positions:\n",
    "    if len(xTrain[p]) > 1 and len(xTest[p]) > 1:\n",
    "#         scaler.fit(np.array(xTrain[p]))\n",
    "#         predictor.fit(scaler.transform(np.array(xTrain[p])), np.array(yTrain[p]))\n",
    "#         prediction = predictor.predict(scaler.transform(np.array(xTest[p])))\n",
    "        predictor.fit(np.array(xTrain[p]), np.array(yTrain[p]))\n",
    "        prediction = predictor.predict(np.array(xTest[p]))\n",
    "        output[p] = pd.DataFrame(zip(names[p], prediction), columns = ['name', 'value']).sort_values(by=['value'], ascending=False)\n",
    "        # scores[p] = predictor.score(np.array(xTest[p]), np.array(yTest[p]))\n",
    "        scores[p] = (mean_squared_error(np.array(yTest[p]), np.array(prediction)), \n",
    "                     r2_score(np.array(yTest[p]), np.array(prediction)))\n",
    "        relativeError[p] = get_relative_error(output[p], TEST_YEAR)\n",
    "    else:\n",
    "        print 'Not enough data for position: {}'.format(p)"
   ]
  },
  {
   "cell_type": "code",
   "execution_count": 21,
   "metadata": {},
   "outputs": [
    {
     "data": {
      "text/plain": [
       "{'C': (22319.180921313739, -3.5262429130806519),\n",
       " 'DB': (6377.162198762263, -0.10337768836066097),\n",
       " 'DE': (15982.595983537854, -2.2226924284576022),\n",
       " 'DT': (16486.286777516976, -2.2452634080419887),\n",
       " 'FB': (8012.1579072414625, -2.7297293216916412),\n",
       " 'G': (15799.915410982701, -3.1534701252388526),\n",
       " 'LB': (10997.612005838948, -1.1206313163620116),\n",
       " 'QB': (29208.742428056888, -3.572702284947276),\n",
       " 'RB': (18014.087944847954, -3.1459910411857814),\n",
       " 'T': (23034.432155804112, -1.9539617092240142),\n",
       " 'TE': (10826.223481529025, -1.5526637499707392),\n",
       " 'WR': (10978.519992709873, -0.90352651096273462)}"
      ]
     },
     "execution_count": 21,
     "metadata": {},
     "output_type": "execute_result"
    }
   ],
   "source": [
    "scores"
   ]
  },
  {
   "cell_type": "code",
   "execution_count": 22,
   "metadata": {},
   "outputs": [
    {
     "data": {
      "text/plain": [
       "{'C':             name     value  error\n",
       " 2   HronissGrasu  3.486539    2.0\n",
       " 4      MaxGarcia  3.486539    3.0\n",
       " 1      AliMarpet  3.425262    1.0\n",
       " 0  CameronErving  3.387036    3.0\n",
       " 3      ShaqMason  3.373101    1.0\n",
       " 6   AustinReiter  3.373101    1.0\n",
       " 5     AndyGallik  3.316045    1.0,\n",
       " 'DB':                 name       value  error\n",
       " 39     IfoEkpreOlomu  113.231590   39.0\n",
       " 23        TrayWalker  112.602882   22.0\n",
       " 21          JoshShaw  112.073265   19.0\n",
       " 7      JaquiskiTartt  111.704742    4.0\n",
       " 30          TyeSmith  111.203499   26.0\n",
       " 6       JalenCollins  108.027824    1.0\n",
       " 10     SenquezGolson  106.268242    4.0\n",
       " 3         ByronJones  106.098999    4.0\n",
       " 43         AkeemKing  106.092003   35.0\n",
       " 40    DexterMcDonald  105.740150   31.0\n",
       " 1       KevinJohnson  105.453987    9.0\n",
       " 35      RandallEvans  105.368240   24.0\n",
       " 18       JamesSample  105.046883    6.0\n",
       " 24        AdrianAmos  105.009964   11.0\n",
       " 17      StevenNelson  104.841377    3.0\n",
       " 32      TevinMitchel  104.453720   17.0\n",
       " 16        CraigMager  104.074852    0.0\n",
       " 41     DarrylRoberts  104.013649   24.0\n",
       " 29       DamianSwann  103.877060   11.0\n",
       " 22        DoranGrant  103.772018    3.0\n",
       " 15        AlexCarter  103.730110    5.0\n",
       " 25   MykkeleThompson  103.632423    4.0\n",
       " 44      TaureanNixon  103.399429   22.0\n",
       " 38     GerodHolliman  103.166359   15.0\n",
       " 33     CharlesGaines  103.053543    9.0\n",
       " 34   JaCoreyShepherd  102.885742    9.0\n",
       " 27    CedricThompson  102.238541    1.0\n",
       " 9        RonaldDarby  101.940971   18.0\n",
       " 20  IbraheimCampbell  101.719818    8.0\n",
       " 26       BobbyMcCain  101.678337    3.0\n",
       " 8           EricRowe  101.514175   22.0\n",
       " 0         TraeWaynes  101.152206   31.0\n",
       " 28       LorenzoDoss  100.541916    4.0\n",
       " 36       DerronSmith  100.463356    3.0\n",
       " 45        JoshFurman  100.405998   11.0\n",
       " 11    QuintenRollins   99.901222   24.0\n",
       " 42        RyanMurphy   99.558403    6.0\n",
       " 37      QuandreDiggs   99.324348    0.0\n",
       " 4   DamariousRandall   98.956207   34.0\n",
       " 13        DJounSmith   98.671776   26.0\n",
       " 5      LandonCollins   98.652100   35.0\n",
       " 12    JordanRichards   98.578598   29.0\n",
       " 14        PJWilliams   97.930931   28.0\n",
       " 31    KyshoenJarrett   97.806038   12.0\n",
       " 2       MarcusPeters   97.422935   42.0\n",
       " 19   ClaytonGeathers   95.579903   26.0,\n",
       " 'DE':                   name      value  error\n",
       " 13    ShaquilleRiddick  30.681105   13.0\n",
       " 1             ShaneRay  30.249147    0.0\n",
       " 15            BJDubose  30.157862   13.0\n",
       " 7       DanielleHunter  29.874250    4.0\n",
       " 6   OwamagbeOdighizuwa  29.801970    2.0\n",
       " 11       ZaDariusSmith  29.660852    6.0\n",
       " 14         RyanRussell  29.586205    8.0\n",
       " 18    AnthonyChickillo  29.454718   11.0\n",
       " 17      ChristianRingo  29.367479    9.0\n",
       " 20        BrianMihalik  29.273663   11.0\n",
       " 16         ObumGwacham  29.171309    6.0\n",
       " 10         TreyFlowers  29.115221    1.0\n",
       " 2         PrestonSmith  29.097477   10.0\n",
       " 4         MarkusGolden  28.998522    9.0\n",
       " 5           FrankClark  28.949389    9.0\n",
       " 19         MartinIfedi  28.848467    4.0\n",
       " 0      LeonardWilliams  28.805939   16.0\n",
       " 12      MarcusHardison  28.802971    5.0\n",
       " 8        HenryAnderson  28.436676   10.0\n",
       " 3          NateOrchard  28.373350   16.0\n",
       " 9         GeneoGrissom  28.168093   11.0,\n",
       " 'DT':                   name      value  error\n",
       " 21           DeonSimon  24.512484   21.0\n",
       " 3         MarioEdwards  24.326027    2.0\n",
       " 10        RodneyGunter  24.326027    8.0\n",
       " 20   RakeemNunezRoches  24.203501   17.0\n",
       " 12          DavidParry  23.188099    8.0\n",
       " 8       AngeloBlackson  22.970387    3.0\n",
       " 6            CarlDavis  22.641876    0.0\n",
       " 4         EddieGoldman  22.576046    3.0\n",
       " 9           GabeWright  22.526731    1.0\n",
       " 5       JordanPhillips  22.478138    4.0\n",
       " 2          MalcomBrown  22.432823    8.0\n",
       " 18      KristjanSokoli  22.202795    7.0\n",
       " 14      MichaelBennett  22.196835    2.0\n",
       " 15        DariusPhilon  22.106810    2.0\n",
       " 16     LeterriusWalton  22.089985    2.0\n",
       " 11        GradyJarrett  22.025768    4.0\n",
       " 0         DannyShelton  21.843342   16.0\n",
       " 17         DariusKilgo  21.812283    0.0\n",
       " 19  ChristianCovington  21.773399    1.0\n",
       " 13       TyelerDavison  21.628962    6.0\n",
       " 1         ArikArmstead  21.199787   19.0\n",
       " 7         XavierCooper  21.107082   14.0,\n",
       " 'FB':              name     value  error\n",
       " 2  AaronRipkowski  1.200941    2.0\n",
       " 1   MichaelBurton  1.198366    0.0\n",
       " 0   JalstonFowler  1.180499    2.0\n",
       " 3      JoeyIosefa  0.983464    0.0,\n",
       " 'G':                name      value  error\n",
       " 0    LakenTomlinson  12.751943    0.0\n",
       " 8      JamilDouglas  12.733080    7.0\n",
       " 12   JarvisHarrison  12.733080   10.0\n",
       " 18     TrentonBrown  12.733080   15.0\n",
       " 2   JeremiahPoutasi  12.733080    2.0\n",
       " 5     DarylWilliams  12.731234    0.0\n",
       " 13      RobertMyers  12.686153    7.0\n",
       " 9      JonFeliciano  12.684308    2.0\n",
       " 6        TreJackson  12.681736    2.0\n",
       " 3            AJCann  12.606248    6.0\n",
       " 1        MitchMorse  12.585170    9.0\n",
       " 10       TerryPoole  12.585170    1.0\n",
       " 11    MarkGlowinski  12.566388    1.0\n",
       " 7     ArieKouandjio  12.559953    6.0\n",
       " 17        BobbyHart  12.559953    3.0\n",
       " 4        JohnMiller  12.551627   11.0\n",
       " 14     IanSilberman  12.204730    2.0\n",
       " 15     CodyWichmann  12.204730    2.0\n",
       " 16    AnthonyMorris  12.204730    2.0,\n",
       " 'LB':                   name      value  error\n",
       " 20           DavisTull  57.830414   20.0\n",
       " 0          DanteFowler  57.699375    1.0\n",
       " 21         KyleEmanuel  56.878567   19.0\n",
       " 33      EdmondRobinson  56.668030   30.0\n",
       " 2            BudDupree  56.325512    2.0\n",
       " 12         JordanHicks  55.329578    7.0\n",
       " 28         TonySteward  55.122463   22.0\n",
       " 8       DenzelPerryman  54.376244    1.0\n",
       " 22          NeironBall  54.083488   14.0\n",
       " 14         RamikWilson  53.908573    5.0\n",
       " 24         DJAlexander  53.718220   14.0\n",
       " 18           BenHeeney  53.717152    7.0\n",
       " 34         MarkNzeocha  53.423698   22.0\n",
       " 23           DavidMayo  53.368721   10.0\n",
       " 17            JakeRyan  53.290668    3.0\n",
       " 6         HauoliKikaha  53.264824    9.0\n",
       " 32          BryceHager  53.108498   16.0\n",
       " 4      StephoneAnthony  53.104237   13.0\n",
       " 30       ReshardCliett  53.067829   12.0\n",
       " 9         RandyGregory  53.052551   10.0\n",
       " 25      DeiontrezMount  52.767365    5.0\n",
       " 16        DamienWilson  52.491730    5.0\n",
       " 26        MatthewWells  52.220749    4.0\n",
       " 7        EricKendricks  52.177322   16.0\n",
       " 29       AmarloHerrera  52.023880    5.0\n",
       " 19     MartrellSpaight  51.847694    6.0\n",
       " 10           EliHarold  51.842003   16.0\n",
       " 5   BenardrickMcKinney  51.836372   22.0\n",
       " 15       KwonAlexander  51.793270   13.0\n",
       " 35      XzavierDickson  51.434498    6.0\n",
       " 11      LorenzoMauldin  51.138580   19.0\n",
       " 1           VicBeasley  50.637367   30.0\n",
       " 3         ShaqThompson  50.379581   29.0\n",
       " 31        HayesPullard  50.237026    2.0\n",
       " 27           MaxValles  49.584358    7.0\n",
       " 13          PaulDawson  48.563675   22.0,\n",
       " 'QB':              name      value  error\n",
       " 6   TrevorSiemian  10.169089    6.0\n",
       " 0   JameisWinston   9.974310    1.0\n",
       " 2  GarrettGrayson   9.913507    0.0\n",
       " 3     SeanMannion   9.605603    0.0\n",
       " 4      BrycePetty   9.484447    0.0\n",
       " 5    BrettHundley   9.430219    0.0\n",
       " 1   MarcusMariota   9.353751    5.0,\n",
       " 'RB':                  name      value  error\n",
       " 8      JeremyLangford  23.707060    8.0\n",
       " 11          DavidCobb  23.683279   10.0\n",
       " 4        TevinColeman  23.570375    2.0\n",
       " 3       AmeerAbdullah  23.525293    0.0\n",
       " 1        MelvinGordon  23.455318    3.0\n",
       " 0          ToddGurley  23.434156    5.0\n",
       " 2            TJYeldon  23.274687    4.0\n",
       " 14  CameronArtisPayne  23.203430    7.0\n",
       " 5         DukeJohnson  22.894598    3.0\n",
       " 12           JayAjayi  22.795378    3.0\n",
       " 7           MattJones  22.763832    3.0\n",
       " 13     KarlosWilliams  22.670778    2.0\n",
       " 10          MikeDavis  22.401415    2.0\n",
       " 17      KennyHilliard  22.112221    4.0\n",
       " 9       JavoriusAllen  22.090919    5.0\n",
       " 16       MarcusMurphy  21.955774    1.0\n",
       " 15       JoshRobinson  21.473188    1.0\n",
       " 6        DavidJohnson  21.387117   11.0,\n",
       " 'T':               name      value  error\n",
       " 0   BrandonScherff  21.622967    0.0\n",
       " 1     EreckFlowers  21.622967    0.0\n",
       " 9       JamonBrown  21.590017    7.0\n",
       " 13    TayoFabuluje  21.555443   10.0\n",
       " 17   CoreyRobinson  21.539806   13.0\n",
       " 3    CedricOgbuehi  21.539806    2.0\n",
       " 15     JakeRodgers  21.443550    9.0\n",
       " 19    DenzellGoode  21.443550   12.0\n",
       " 14   TyrusThompson  21.422068    6.0\n",
       " 12    AndrewDonnal  21.333765    3.0\n",
       " 2       AndrusPeat  21.333765    8.0\n",
       " 4      DJHumphries  21.283548    7.0\n",
       " 16  AustinShepherd  21.202400    4.0\n",
       " 8      TySambrailo  21.152185    5.0\n",
       " 10       ChazGreen  21.152185    4.0\n",
       " 11     TJClemmings  20.937584    4.0\n",
       " 5     DonovanSmith  20.937584   11.0\n",
       " 18  LaurenceGibson  20.937584    1.0\n",
       " 6       JakeFisher  20.831207   12.0\n",
       " 7    RobHavenstein  20.670992   12.0,\n",
       " 'TE':                  name      value  error\n",
       " 9           NickBoyle  13.037931    9.0\n",
       " 4        JeffHeuerman  12.932232    3.0\n",
       " 5           BlakeBell  12.774652    3.0\n",
       " 18  RoryBustaAnderson  12.723442   15.0\n",
       " 14            AJDerby  12.664690   10.0\n",
       " 6        MyColePruitt  12.636118    1.0\n",
       " 10  JamesOShaughnessy  12.630693    4.0\n",
       " 7            CJUzomah  12.630693    0.0\n",
       " 17         GeoffSwaim  12.630693    9.0\n",
       " 13      RandallTelfer  12.532579    4.0\n",
       " 16          BenKoyack  12.471262    6.0\n",
       " 8          JesseJames  12.440019    3.0\n",
       " 2        CliveWalford  12.370863   10.0\n",
       " 12     MalcolmJohnson  12.347547    1.0\n",
       " 19    GeraldChristian  12.335307    5.0\n",
       " 3          TylerKroft  12.296712   12.0\n",
       " 11         NickOLeary  12.154466    5.0\n",
       " 15     KennardBackman  12.087234    2.0\n",
       " 1        MaxxWilliams  12.027866   17.0\n",
       " 0       DevinFunchess  11.741882   19.0,\n",
       " 'WR':                   name      value  error\n",
       " 1           KevinWhite  57.869904    1.0\n",
       " 8         TylerLockett  57.868618    7.0\n",
       " 9         JaelenStrong  57.552326    7.0\n",
       " 0          AmariCooper  57.524368    3.0\n",
       " 18         StefonDiggs  57.295700   14.0\n",
       " 5       PhillipDorsett  57.195755    0.0\n",
       " 10         ChrisConley  57.113556    4.0\n",
       " 32         MarioAlford  57.082016   25.0\n",
       " 17        RashadGreene  56.984230    9.0\n",
       " 21           KennyBell  56.948574   12.0\n",
       " 26           BudSasser  56.883202   16.0\n",
       " 2        DeVanteParker  56.561207    9.0\n",
       " 20            JJNelson  56.549129    8.0\n",
       " 4      BreshadPerriman  56.508320    9.0\n",
       " 25         EvanSpencer  56.487484   11.0\n",
       " 29         AndreDebose  56.487484   14.0\n",
       " 28        NealSterling  56.487484   12.0\n",
       " 16      DeAndreSmelter  56.487484    1.0\n",
       " 15          VinceMayle  56.318317    3.0\n",
       " 3        NelsonAgholor  56.172367   16.0\n",
       " 6           DevinSmith  56.084072   14.0\n",
       " 11        SammieCoates  56.042870   10.0\n",
       " 33          TreMcBride  55.991879   11.0\n",
       " 7   DorialGreenBeckham  55.827160   16.0\n",
       " 24         GeremyDavis  55.760860    0.0\n",
       " 30          DaRonBrown  55.682919    5.0\n",
       " 27        DarrenWaller  55.201740    1.0\n",
       " 13      JamisonCrowder  54.965397   14.0\n",
       " 19         TonyLippett  54.946766    9.0\n",
       " 31         DezminLewis  54.420666    2.0\n",
       " 22       KeithMumphery  53.806076    8.0\n",
       " 14         JustinHardy  53.711147   17.0\n",
       " 12        TyMontgomery  53.304047   20.0\n",
       " 23          KaelinClay  52.256443   10.0}"
      ]
     },
     "execution_count": 22,
     "metadata": {},
     "output_type": "execute_result"
    }
   ],
   "source": [
    "output"
   ]
  },
  {
   "cell_type": "code",
   "execution_count": 23,
   "metadata": {},
   "outputs": [
    {
     "data": {
      "text/plain": [
       "{'C': 1.7142857142857142,\n",
       " 'DB': 15.652173913043478,\n",
       " 'DE': 8.285714285714286,\n",
       " 'DT': 6.7272727272727275,\n",
       " 'FB': 1.0,\n",
       " 'G': 4.631578947368421,\n",
       " 'LB': 12.333333333333334,\n",
       " 'QB': 1.7142857142857142,\n",
       " 'RB': 4.111111111111111,\n",
       " 'T': 6.5,\n",
       " 'TE': 6.9,\n",
       " 'WR': 9.352941176470589}"
      ]
     },
     "execution_count": 23,
     "metadata": {},
     "output_type": "execute_result"
    }
   ],
   "source": [
    "relativeError"
   ]
  }
 ],
 "metadata": {
  "kernelspec": {
   "display_name": "221",
   "language": "python",
   "name": "221"
  },
  "language_info": {
   "codemirror_mode": {
    "name": "ipython",
    "version": 2
   },
   "file_extension": ".py",
   "mimetype": "text/x-python",
   "name": "python",
   "nbconvert_exporter": "python",
   "pygments_lexer": "ipython2",
   "version": "2.7.14"
  }
 },
 "nbformat": 4,
 "nbformat_minor": 2
}
