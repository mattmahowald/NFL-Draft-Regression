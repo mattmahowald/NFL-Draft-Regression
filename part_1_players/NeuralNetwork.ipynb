{
 "cells": [
  {
   "cell_type": "code",
   "execution_count": 1,
   "metadata": {},
   "outputs": [
    {
     "name": "stderr",
     "output_type": "stream",
     "text": [
      "Using TensorFlow backend.\n"
     ]
    }
   ],
   "source": [
    "from numpy.random import seed \n",
    "s = 1\n",
    "seed(s)\n",
    "from tensorflow import set_random_seed\n",
    "set_random_seed(s)\n",
    "import pandas as pd\n",
    "import numpy as np\n",
    "from keras.models import Sequential\n",
    "from keras.layers import Dense\n",
    "from keras.wrappers.scikit_learn import KerasRegressor\n",
    "from sklearn.model_selection import cross_val_score\n",
    "from sklearn.metrics import mean_squared_error, r2_score\n",
    "from sklearn.model_selection import KFold\n",
    "from sklearn.preprocessing import StandardScaler\n",
    "from sklearn.pipeline import Pipeline\n",
    "from collections import defaultdict\n",
    "import math"
   ]
  },
  {
   "cell_type": "code",
   "execution_count": 2,
   "metadata": {
    "collapsed": true
   },
   "outputs": [],
   "source": [
    "# format the data to be fed into the network\n",
    "final_continuous = pd.read_csv('finalData.csv')\n",
    "final_discrete = pd.read_csv('discreteData.csv')\n",
    "final_beast = pd.read_csv('superbeastfire.csv')\n",
    "\n",
    "# Set which of the datasets to use \n",
    "data = final_beast\n",
    "TEST_YEAR = 2015"
   ]
  },
  {
   "cell_type": "code",
   "execution_count": 3,
   "metadata": {
    "collapsed": true
   },
   "outputs": [],
   "source": [
    "featuresStandard = ['heightinchestotal', 'weight', 'fortyyd', 'vertical', 'bench', 'twentyss', 'threecone', 'broad', \n",
    "            'games', 'rushingAtt', 'rushingYds', 'rushingAvg', 'rushingTD', 'passCmp',\n",
    "            'passPct', 'passYds', 'passTD', 'passInt', 'passRate', 'recYds', 'recAtt', 'recTD', 'recAvg', 'soloTackles', \n",
    "            'tackleAssists', 'totalTackles', 'sacks', 'ints', 'intTDs', 'passDef', 'fumbles', 'fumblesForced']\n",
    "featuresDiscrete = ['confACC','confPac-12','confUnknown','confSEC','confBig 12','confBig Ten','confAmerican',\n",
    "            'confBig East','confPac-10','confMAC','confSun Belt','confMWC','confWAC','confCUSA','confInd','confSouthern','confMVC','confPac-8',\n",
    "            'confBig West','confSWC','confSouthland','confBig 8','confSWAC','heightinchestotalNone','heightinchestotalQ1','heightinchestotalQ2',\n",
    "            'heightinchestotalQ3','heightinchestotalQ4','weightNone','weightQ1','weightQ2','weightQ3','weightQ4','fortyydNone','fortyydQ1','fortyydQ2',\n",
    "            'fortyydQ3','fortyydQ4','verticalNone','verticalQ1','verticalQ2','verticalQ3','verticalQ4','benchNone','benchQ1','benchQ2','benchQ3',\n",
    "            'benchQ4','twentyssNone','twentyssQ1','twentyssQ2','twentyssQ3','twentyssQ4','threeconeNone','threeconeQ1','threeconeQ2','threeconeQ3',\n",
    "            'threeconeQ4','broadNone','broadQ1','broadQ2','broadQ3','broadQ4','gamesNone','gamesQ1','gamesQ2','gamesQ3','gamesQ4','rushingAttNone',\n",
    "            'rushingAttQ1','rushingAttQ2','rushingAttQ3','rushingAttQ4','rushingYdsNone','rushingYdsQ1','rushingYdsQ2','rushingYdsQ3','rushingYdsQ4',\n",
    "            'rushingAvgNone','rushingAvgQ1','rushingAvgQ2','rushingAvgQ3','rushingAvgQ4','rushingTDNone','rushingTDQ1','rushingTDQ2','rushingTDQ3','rushingTDQ4'\n",
    "            ,'passCmpNone','passCmpQ1','passCmpQ2','passCmpQ3','passCmpQ4','passPctNone','passPctQ1','passPctQ2','passPctQ3','passPctQ4','passYdsNone','passYdsQ1',\n",
    "            'passYdsQ2','passYdsQ3','passYdsQ4','passTDNone','passTDQ1','passTDQ2','passTDQ3','passTDQ4','passIntNone','passIntQ1','passIntQ2','passIntQ3','passIntQ4','passRateNone',\n",
    "            'passRateQ1','passRateQ2','passRateQ3','passRateQ4','recYdsNone','recYdsQ1','recYdsQ2','recYdsQ3','recYdsQ4','recAttNone','recAttQ1','recAttQ2','recAttQ3',\n",
    "            'recAttQ4','recTDNone','recTDQ1','recTDQ2','recTDQ3','recTDQ4','recAvgNone','recAvgQ1','recAvgQ2','recAvgQ3','recAvgQ4','soloTacklesNone','soloTacklesQ1',\n",
    "            'soloTacklesQ2','soloTacklesQ3','soloTacklesQ4','tackleAssistsNone','tackleAssistsQ1','tackleAssistsQ2','tackleAssistsQ3','tackleAssistsQ4','totalTacklesNone',\n",
    "            'totalTacklesQ1','totalTacklesQ2','totalTacklesQ3','totalTacklesQ4','sacksNone','sacksQ1','sacksQ2','sacksQ3','sacksQ4','intsNone','intsQ1','intsQ2','intsQ3',\n",
    "            'intsQ4','intTDsNone','intTDsQ1','intTDsQ2','intTDsQ3','intTDsQ4','passDefNone','passDefQ1','passDefQ2','passDefQ3','passDefQ4','fumblesNone','fumblesQ1',\n",
    "            'fumblesQ2','fumblesQ3','fumblesQ4','fumblesForcedNone','fumblesForcedQ1','fumblesForcedQ2','fumblesForcedQ3','fumblesForcedQ4']\n",
    "featuresBeast = featuresDiscrete + featuresStandard\n",
    "# features = featuresStandard if data.equals(final_continuous) else featuresDiscrete\n",
    "features = featuresBeast"
   ]
  },
  {
   "cell_type": "code",
   "execution_count": 4,
   "metadata": {
    "collapsed": true,
    "scrolled": true
   },
   "outputs": [],
   "source": [
    "numFeatures = len(features)"
   ]
  },
  {
   "cell_type": "code",
   "execution_count": 5,
   "metadata": {
    "collapsed": true
   },
   "outputs": [],
   "source": [
    "# get player values/draft positions based on 'nfl_draft' data\n",
    "def get_player_draft_info():\n",
    "    valuesMap = {}\n",
    "    pickMap = {}\n",
    "    MAX_VALUE = 256 # number of draft picks (7 rounds * 32 picks + 32 compensatory + 1)\n",
    "    for index, row in data.iterrows():\n",
    "        primaryKey = (row['name'], row['year'])\n",
    "        valuesMap[primaryKey] = (MAX_VALUE - row['pick'])\n",
    "        pickMap[primaryKey] = row['pick']\n",
    "    return valuesMap, pickMap"
   ]
  },
  {
   "cell_type": "code",
   "execution_count": 6,
   "metadata": {
    "collapsed": true
   },
   "outputs": [],
   "source": [
    "# Creates list of positions to partition by\n",
    "positionsSet = set()\n",
    "for position in data['pos']:\n",
    "    positionsSet.add(position)\n",
    "positions = list(positionsSet)"
   ]
  },
  {
   "cell_type": "code",
   "execution_count": 7,
   "metadata": {
    "collapsed": true
   },
   "outputs": [],
   "source": [
    "draftValues, draftPositions = get_player_draft_info()"
   ]
  },
  {
   "cell_type": "code",
   "execution_count": 8,
   "metadata": {
    "collapsed": true
   },
   "outputs": [],
   "source": [
    "combineFeatures = data[['name', 'pos', 'year'] + features]"
   ]
  },
  {
   "cell_type": "code",
   "execution_count": 9,
   "metadata": {
    "collapsed": true
   },
   "outputs": [],
   "source": [
    "def get_position_maps():\n",
    "    positionMaps = {}\n",
    "    for position in positions:\n",
    "        positionMaps[position] = combineFeatures[combineFeatures['pos'] == position]\n",
    "    return positionMaps"
   ]
  },
  {
   "cell_type": "code",
   "execution_count": 10,
   "metadata": {
    "collapsed": true
   },
   "outputs": [],
   "source": [
    "positionMaps = get_position_maps()"
   ]
  },
  {
   "cell_type": "code",
   "execution_count": 11,
   "metadata": {
    "collapsed": true
   },
   "outputs": [],
   "source": [
    "# build X matrix and \n",
    "def build_data_arrays():\n",
    "    X = defaultdict(list)\n",
    "    Y = defaultdict(list)\n",
    "    xTrain = defaultdict(list)\n",
    "    yTrain = defaultdict(list)\n",
    "    xTest = defaultdict(list)\n",
    "    yTest = defaultdict(list)\n",
    "    names = defaultdict(list)\n",
    "    for position in positionMaps:\n",
    "        for index, row in positionMaps[position].iterrows(): \n",
    "            X[position].append(row[3:])                  \n",
    "            Y[position].append(draftValues[(row['name'], row['year'])])\n",
    "            if row['year'] == TEST_YEAR:\n",
    "                xTest[position].append(row[3:]) \n",
    "                yTest[position].append(draftValues[(row['name'], row['year'])])\n",
    "                names[position].append(row['name'])\n",
    "            if not row['year'] == TEST_YEAR:\n",
    "                xTrain[position].append(row[3:])                  \n",
    "                yTrain[position].append(draftValues[(row['name'], row['year'])])\n",
    "    return X, Y, xTrain, yTrain, xTest, yTest, names"
   ]
  },
  {
   "cell_type": "code",
   "execution_count": 12,
   "metadata": {
    "collapsed": true
   },
   "outputs": [],
   "source": [
    "X, Y, xTrain, yTrain, xTest, yTest, names = build_data_arrays()"
   ]
  },
  {
   "cell_type": "code",
   "execution_count": 13,
   "metadata": {
    "collapsed": true
   },
   "outputs": [],
   "source": [
    "def base_model():\n",
    "    model = Sequential()\n",
    "    model.add(Dense(numFeatures, input_dim=numFeatures, kernel_initializer='normal', activation='relu'))\n",
    "    model.add(Dense(1, kernel_initializer='normal'))\n",
    "    model.compile(loss='mean_squared_error', optimizer='adam')\n",
    "    return model"
   ]
  },
  {
   "cell_type": "code",
   "execution_count": 14,
   "metadata": {
    "collapsed": true
   },
   "outputs": [],
   "source": [
    "def deep_model():\n",
    "    model = Sequential()\n",
    "    model.add(Dense(numFeatures, input_dim=numFeatures, kernel_initializer='normal', activation='relu'))\n",
    "    model.add(Dense(numFeatures // 2, kernel_initializer='normal'))\n",
    "    model.add(Dense(1, kernel_initializer='normal'))\n",
    "    model.compile(loss='mean_squared_error', optimizer='adam')\n",
    "    return model"
   ]
  },
  {
   "cell_type": "code",
   "execution_count": 15,
   "metadata": {
    "collapsed": true
   },
   "outputs": [],
   "source": [
    "def wide_model():\n",
    "    model = Sequential()\n",
    "    model.add(Dense(numFeatures, input_dim=numFeatures, kernel_initializer='normal', activation='relu'))\n",
    "    model.add(Dense(numFeatures * 2, kernel_initializer='normal'))\n",
    "    model.add(Dense(1, kernel_initializer='normal', activation='linear'))\n",
    "    model.compile(loss='mean_squared_error', optimizer='adam', metrics=['mae'])\n",
    "    model.output_shape\n",
    "    model.summary()\n",
    "    return model"
   ]
  },
  {
   "cell_type": "code",
   "execution_count": 16,
   "metadata": {
    "collapsed": true
   },
   "outputs": [],
   "source": [
    "def positions_model():\n",
    "    model = Sequential()\n",
    "    model.add(Dense(numFeatures, input_dim=numFeatures, kernel_initializer='normal', activation='relu'))\n",
    "    model.add(Dense(len(positions), kernel_initializer='normal'))\n",
    "    model.add(Dense(1, kernel_initializer='normal'))\n",
    "    model.compile(loss='mean_squared_error', optimizer='adam')\n",
    "    return model"
   ]
  },
  {
   "cell_type": "code",
   "execution_count": 17,
   "metadata": {
    "collapsed": true
   },
   "outputs": [],
   "source": [
    "estimators = []\n",
    "estimators.append(('standardize', StandardScaler())) # Makes data Gaussian \n",
    "predictor = KerasRegressor(build_fn=deep_model, nb_epoch=1000, batch_size=5, verbose=0)\n",
    "estimators.append(('mlp', predictor))\n",
    "pipeline = Pipeline(estimators)"
   ]
  },
  {
   "cell_type": "code",
   "execution_count": 18,
   "metadata": {},
   "outputs": [],
   "source": [
    "numFolds = 10\n",
    "kFold = KFold(n_splits=numFolds, random_state=s)\n",
    "def eval_data():\n",
    "    errorMap = {}\n",
    "    for p in positions:\n",
    "        if len(X[p]) > numFolds:\n",
    "            results = cross_val_score(predictor, np.array(X[p]), np.array(Y[p]), cv=kFold)\n",
    "            errorMap[p] = (results.mean(), results.std())\n",
    "            print 'Results[{}]: mean={} (std={}) Mean Squared Error'.format(p, results.mean(), results.std())\n",
    "        else:\n",
    "            print 'Position: {} has too little data ({} row(s))'.format(p, len(X[p]))\n",
    "    return errorMap"
   ]
  },
  {
   "cell_type": "code",
   "execution_count": 19,
   "metadata": {},
   "outputs": [
    {
     "name": "stdout",
     "output_type": "stream",
     "text": [
      "Results[C]: mean=-5197.67579769 (std=1902.84752465) Mean Squared Error\n",
      "Results[LB]: mean=-5130.48856205 (std=809.989380131) Mean Squared Error\n",
      "Results[G]: mean=-4563.06433569 (std=741.287290085) Mean Squared Error\n",
      "Position: LS has too little data (1 row(s))\n",
      "Results[K]: mean=-5140.38017578 (std=4372.54165176) Mean Squared Error\n",
      "Results[DE]: mean=-5494.04582425 (std=1189.13414068) Mean Squared Error\n",
      "Results[DB]: mean=-5024.38101267 (std=1036.85331149) Mean Squared Error\n",
      "Results[P]: mean=-4923.29293823 (std=2316.24253703) Mean Squared Error\n",
      "Results[FB]: mean=-3846.32945557 (std=2718.86504525) Mean Squared Error\n",
      "Results[QB]: mean=-6190.05264987 (std=2016.92437681) Mean Squared Error\n",
      "Results[WR]: mean=-5474.94888374 (std=1022.45953815) Mean Squared Error\n",
      "Results[RB]: mean=-5346.14606501 (std=1077.64195902) Mean Squared Error\n",
      "Results[DT]: mean=-5372.30746787 (std=641.528902992) Mean Squared Error\n",
      "Results[TE]: mean=-4454.29576842 (std=990.440713541) Mean Squared Error\n",
      "Results[T]: mean=-5878.9578201 (std=1171.70441029) Mean Squared Error\n"
     ]
    },
    {
     "data": {
      "text/plain": [
       "{'C': (-5197.675797687878, 1902.8475246543571),\n",
       " 'DB': (-5024.3810126749404, 1036.8533114859035),\n",
       " 'DE': (-5494.0458242465293, 1189.1341406771467),\n",
       " 'DT': (-5372.3074678693501, 641.52890299199464),\n",
       " 'FB': (-3846.3294555664061, 2718.8650452476404),\n",
       " 'G': (-4563.0643356910123, 741.28729008531025),\n",
       " 'K': (-5140.3801757812498, 4372.5416517571211),\n",
       " 'LB': (-5130.4885620541045, 809.98938013093107),\n",
       " 'P': (-4923.2929382324219, 2316.2425370314304),\n",
       " 'QB': (-6190.0526498687223, 2016.9243768142208),\n",
       " 'RB': (-5346.146065014751, 1077.6419590198273),\n",
       " 'T': (-5878.9578201037502, 1171.7044102877292),\n",
       " 'TE': (-4454.2957684150115, 990.44071354067637),\n",
       " 'WR': (-5474.9488837427898, 1022.4595381499059)}"
      ]
     },
     "execution_count": 19,
     "metadata": {},
     "output_type": "execute_result"
    }
   ],
   "source": [
    "errors = eval_data()\n",
    "errors"
   ]
  },
  {
   "cell_type": "code",
   "execution_count": 20,
   "metadata": {
    "collapsed": true
   },
   "outputs": [],
   "source": [
    "# Map players to their true and predicted draft positions \n",
    "def get_relative_error(results, test_year):\n",
    "    trueDraftMap = {}      # true pick number\n",
    "    predictedDraftMap = {} # relative pick based on regression\n",
    "    i = 0\n",
    "    for index, row in results.iterrows():\n",
    "        trueDraftMap[row['name']] = draftPositions[(row['name'], test_year)] #need primary key to get draft positions \n",
    "        predictedDraftMap[row['name']] = i\n",
    "        i += 1\n",
    "    \n",
    "    # Compute absolute_error based on relative draft positions\n",
    "    i = 0\n",
    "    absolute_error = 0\n",
    "    errors = {}\n",
    "    for key, value in sorted(trueDraftMap.iteritems(), key=lambda (k,v): (v,k)):  \n",
    "        errors[key] = math.fabs(i - predictedDraftMap[key]) \n",
    "        absolute_error += errors[key]\n",
    "        i += 1\n",
    "        \n",
    "    #Add the errors to the results Dataframe (for visualization)\n",
    "    results['error'] = 0.0\n",
    "    for index, row in results.iterrows():\n",
    "        results.at[index, 'error'] = errors[row['name']]\n",
    "\n",
    "    #average the error by the total number of players\n",
    "    return absolute_error / float(len(results))"
   ]
  },
  {
   "cell_type": "code",
   "execution_count": 21,
   "metadata": {},
   "outputs": [
    {
     "name": "stdout",
     "output_type": "stream",
     "text": [
      "Not enough data for position: LS\n",
      "Not enough data for position: K\n",
      "Not enough data for position: P\n"
     ]
    }
   ],
   "source": [
    "scores = {}\n",
    "output = {}\n",
    "relativeError = {} \n",
    "for p in positions:\n",
    "    if len(xTrain[p]) > 1 and len(xTest[p]) > 1:\n",
    "        predictor.fit(np.array(xTrain[p]), np.array(yTrain[p]))\n",
    "        prediction = predictor.predict(np.array(xTest[p]))\n",
    "        output[p] = pd.DataFrame(zip(names[p], prediction), columns = ['name', 'value']).sort_values(by=['value'], ascending=False)\n",
    "        # scores[p] = predictor.score(np.array(xTest[p]), np.array(yTest[p]))\n",
    "        scores[p] = (mean_squared_error(np.array(yTest[p]), np.array(prediction)), \n",
    "                     r2_score(np.array(yTest[p]), np.array(prediction)))\n",
    "        relativeError[p] = get_relative_error(output[p], TEST_YEAR)\n",
    "    else:\n",
    "        print 'Not enough data for position: {}'.format(p)"
   ]
  },
  {
   "cell_type": "code",
   "execution_count": 22,
   "metadata": {},
   "outputs": [
    {
     "data": {
      "text/plain": [
       "{'C': (4054.5767462891695, 0.17774763652246361),\n",
       " 'DB': (5744.677387570704, 0.0060549412549414372),\n",
       " 'DE': (4654.1707876361015, 0.061544133787000743),\n",
       " 'DT': (4880.2815936542465, 0.03933496423065852),\n",
       " 'FB': (2636.5975183620249, -0.22735911942603937),\n",
       " 'G': (3407.3827784200489, 0.1042697250402056),\n",
       " 'LB': (5359.2650882208382, -0.033408468377745137),\n",
       " 'QB': (4938.6712135652615, 0.22683856730577001),\n",
       " 'RB': (3510.6664588062881, 0.19201062349842235),\n",
       " 'T': (7350.3495499262208, 0.05738283570307301),\n",
       " 'TE': (3929.9196565236225, 0.073382933151081464),\n",
       " 'WR': (5517.5024680240795, 0.043339882865784496)}"
      ]
     },
     "execution_count": 22,
     "metadata": {},
     "output_type": "execute_result"
    }
   ],
   "source": [
    "scores"
   ]
  },
  {
   "cell_type": "code",
   "execution_count": 23,
   "metadata": {},
   "outputs": [
    {
     "data": {
      "text/plain": [
       "{'C':             name       value  error\n",
       " 0  CameronErving  164.338867    0.0\n",
       " 4      MaxGarcia  161.217636    3.0\n",
       " 1      AliMarpet  161.150543    1.0\n",
       " 5     AndyGallik  157.847031    2.0\n",
       " 2   HronissGrasu  156.396729    2.0\n",
       " 3      ShaqMason  121.159370    2.0\n",
       " 6   AustinReiter  121.159370    0.0,\n",
       " 'DB':                 name       value  error\n",
       " 3         ByronJones  161.506241    3.0\n",
       " 24        AdrianAmos  156.177673   23.0\n",
       " 8           EricRowe  155.231934    6.0\n",
       " 19   ClaytonGeathers  154.522385   16.0\n",
       " 5      LandonCollins  153.668167    1.0\n",
       " 16        CraigMager  152.551437   11.0\n",
       " 1       KevinJohnson  151.415802    5.0\n",
       " 26       BobbyMcCain  151.244308   19.0\n",
       " 6       JalenCollins  149.875595    2.0\n",
       " 15        AlexCarter  148.715042    6.0\n",
       " 14        PJWilliams  148.567764    4.0\n",
       " 22        DoranGrant  147.815292   11.0\n",
       " 12    JordanRichards  147.772705    0.0\n",
       " 2       MarcusPeters  147.699326   11.0\n",
       " 21          JoshShaw  146.998596    7.0\n",
       " 9        RonaldDarby  146.964310    6.0\n",
       " 37      QuandreDiggs  146.517792   21.0\n",
       " 20  IbraheimCampbell  146.379013    3.0\n",
       " 18       JamesSample  146.128510    0.0\n",
       " 7      JaquiskiTartt  145.986038   12.0\n",
       " 35      RandallEvans  145.671097   15.0\n",
       " 4   DamariousRandall  145.344376   17.0\n",
       " 29       DamianSwann  145.160492    7.0\n",
       " 42        RyanMurphy  145.016983   19.0\n",
       " 25   MykkeleThompson  144.803894    1.0\n",
       " 31    KyshoenJarrett  144.781570    6.0\n",
       " 41     DarrylRoberts  144.717148   15.0\n",
       " 36       DerronSmith  144.629074    9.0\n",
       " 38     GerodHolliman  144.588150   10.0\n",
       " 13        DJounSmith  144.361877   16.0\n",
       " 0         TraeWaynes  143.984207   30.0\n",
       " 32      TevinMitchel  143.661407    1.0\n",
       " 27    CedricThompson  143.182312    5.0\n",
       " 17      StevenNelson  142.798706   16.0\n",
       " 11    QuintenRollins  142.464386   23.0\n",
       " 34   JaCoreyShepherd  141.116470    1.0\n",
       " 10     SenquezGolson  140.925613   26.0\n",
       " 30          TyeSmith  140.857437    7.0\n",
       " 40    DexterMcDonald  140.824661    2.0\n",
       " 33     CharlesGaines  140.732620    6.0\n",
       " 45        JoshFurman  140.207138    5.0\n",
       " 43         AkeemKing  138.991364    2.0\n",
       " 28       LorenzoDoss  138.087616   14.0\n",
       " 44      TaureanNixon  137.503830    1.0\n",
       " 23        TrayWalker  135.233643   21.0\n",
       " 39     IfoEkpreOlomu  130.638260    6.0,\n",
       " 'DE':                   name       value  error\n",
       " 0      LeonardWilliams  137.689621    0.0\n",
       " 12      MarcusHardison  135.077072   11.0\n",
       " 8        HenryAnderson  132.053253    6.0\n",
       " 2         PrestonSmith  130.172562    1.0\n",
       " 6   OwamagbeOdighizuwa  130.158234    2.0\n",
       " 5           FrankClark  129.332443    0.0\n",
       " 10         TreyFlowers  129.164047    4.0\n",
       " 14         RyanRussell  129.152359    7.0\n",
       " 19         MartinIfedi  128.265045   11.0\n",
       " 18    AnthonyChickillo  127.913765    9.0\n",
       " 15            BJDubose  127.740097    5.0\n",
       " 11       ZaDariusSmith  126.886826    0.0\n",
       " 9         GeneoGrissom  124.975029    3.0\n",
       " 16         ObumGwacham  122.332558    3.0\n",
       " 4         MarkusGolden  121.957756   10.0\n",
       " 3          NateOrchard  119.835434   12.0\n",
       " 7       DanielleHunter  119.618027    9.0\n",
       " 1             ShaneRay  117.452705   16.0\n",
       " 20        BrianMihalik  105.041084    2.0\n",
       " 17      ChristianRingo  104.601067    2.0\n",
       " 13    ShaquilleRiddick  100.147972    7.0,\n",
       " 'DT':                   name       value  error\n",
       " 0         DannyShelton  146.548172    0.0\n",
       " 4         EddieGoldman  141.927124    3.0\n",
       " 5       JordanPhillips  140.974823    3.0\n",
       " 13       TyelerDavison  139.441833   10.0\n",
       " 16     LeterriusWalton  138.420929   12.0\n",
       " 6            CarlDavis  137.537155    1.0\n",
       " 8       AngeloBlackson  136.899887    2.0\n",
       " 21           DeonSimon  136.143509   14.0\n",
       " 2          MalcomBrown  135.935837    6.0\n",
       " 12          DavidParry  135.091019    3.0\n",
       " 11        GradyJarrett  134.893768    1.0\n",
       " 9           GabeWright  132.546158    2.0\n",
       " 15        DariusPhilon  131.079391    3.0\n",
       " 20   RakeemNunezRoches  130.957733    7.0\n",
       " 7         XavierCooper  130.431030    7.0\n",
       " 1         ArikArmstead  129.988998   14.0\n",
       " 14      MichaelBennett  129.396149    2.0\n",
       " 19  ChristianCovington  126.318779    2.0\n",
       " 17         DariusKilgo   98.917351    1.0\n",
       " 18      KristjanSokoli   98.411972    1.0\n",
       " 10        RodneyGunter   94.456726   10.0\n",
       " 3         MarioEdwards   94.456726   18.0,\n",
       " 'FB':              name      value  error\n",
       " 3      JoeyIosefa  60.995789    3.0\n",
       " 0   JalstonFowler  57.401211    1.0\n",
       " 1   MichaelBurton  55.719635    1.0\n",
       " 2  AaronRipkowski  49.271503    1.0,\n",
       " 'G':                name       value  error\n",
       " 18     TrentonBrown  129.776062   18.0\n",
       " 2   JeremiahPoutasi  123.812309    1.0\n",
       " 12   JarvisHarrison  123.024864   10.0\n",
       " 17        BobbyHart  122.856491   14.0\n",
       " 6        TreJackson  121.559509    2.0\n",
       " 5     DarylWilliams  121.527168    0.0\n",
       " 0    LakenTomlinson  121.039116    6.0\n",
       " 13      RobertMyers  120.469879    6.0\n",
       " 9      JonFeliciano  119.617599    1.0\n",
       " 3            AJCann  118.307304    6.0\n",
       " 11    MarkGlowinski  117.332886    1.0\n",
       " 1        MitchMorse  117.208397   10.0\n",
       " 10       TerryPoole  117.139526    2.0\n",
       " 7     ArieKouandjio  116.981422    6.0\n",
       " 8      JamilDouglas  114.827454    6.0\n",
       " 4        JohnMiller  114.710289   11.0\n",
       " 14     IanSilberman   84.917458    2.0\n",
       " 15     CodyWichmann   84.917458    2.0\n",
       " 16    AnthonyMorris   84.917458    2.0,\n",
       " 'LB':                   name       value  error\n",
       " 2            BudDupree  166.324066    2.0\n",
       " 1           VicBeasley  163.205704    0.0\n",
       " 4      StephoneAnthony  160.735596    2.0\n",
       " 11      LorenzoMauldin  159.986893    8.0\n",
       " 5   BenardrickMcKinney  158.973297    1.0\n",
       " 10           EliHarold  158.864487    5.0\n",
       " 27           MaxValles  158.858521   21.0\n",
       " 29       AmarloHerrera  157.756195   22.0\n",
       " 35      XzavierDickson  157.749893   27.0\n",
       " 6         HauoliKikaha  157.595047    3.0\n",
       " 16        DamienWilson  156.731354    6.0\n",
       " 7        EricKendricks  156.416290    4.0\n",
       " 21         KyleEmanuel  156.387466    9.0\n",
       " 20           DavisTull  156.321442    7.0\n",
       " 12         JordanHicks  155.968353    2.0\n",
       " 17            JakeRyan  155.605957    2.0\n",
       " 9         RandyGregory  154.470886    7.0\n",
       " 31        HayesPullard  154.334259   14.0\n",
       " 8       DenzelPerryman  153.637589   10.0\n",
       " 32          BryceHager  153.570038   13.0\n",
       " 14         RamikWilson  152.815903    6.0\n",
       " 33      EdmondRobinson  152.312637   12.0\n",
       " 19     MartrellSpaight  151.960205    3.0\n",
       " 18           BenHeeney  150.816681    5.0\n",
       " 22          NeironBall  150.208374    2.0\n",
       " 15       KwonAlexander  149.731339   10.0\n",
       " 3         ShaqThompson  148.957367   23.0\n",
       " 13          PaulDawson  147.774887   14.0\n",
       " 34         MarkNzeocha  146.071136    6.0\n",
       " 26        MatthewWells  138.675903    3.0\n",
       " 25      DeiontrezMount  135.819702    5.0\n",
       " 30       ReshardCliett  135.636810    1.0\n",
       " 23           DavidMayo  135.348740    9.0\n",
       " 24         DJAlexander  134.833282    9.0\n",
       " 28         TonySteward  134.714645    6.0\n",
       " 0          DanteFowler  130.175186   35.0,\n",
       " 'QB':              name       value  error\n",
       " 4      BrycePetty  177.836136    4.0\n",
       " 1   MarcusMariota  170.776398    0.0\n",
       " 0   JameisWinston  169.870163    2.0\n",
       " 5    BrettHundley  165.525482    2.0\n",
       " 3     SeanMannion  163.857773    1.0\n",
       " 2  GarrettGrayson  161.774048    3.0\n",
       " 6   TrevorSiemian  133.302658    0.0,\n",
       " 'RB':                  name       value  error\n",
       " 1        MelvinGordon  158.846771    1.0\n",
       " 4        TevinColeman  148.751801    3.0\n",
       " 11          DavidCobb  148.170166    9.0\n",
       " 3       AmeerAbdullah  146.364899    0.0\n",
       " 12           JayAjayi  146.260483    8.0\n",
       " 0          ToddGurley  144.787933    5.0\n",
       " 5         DukeJohnson  142.098526    1.0\n",
       " 2            TJYeldon  140.533661    5.0\n",
       " 9       JavoriusAllen  140.314667    1.0\n",
       " 8      JeremyLangford  139.969803    1.0\n",
       " 15       JoshRobinson  135.298294    5.0\n",
       " 7           MattJones  133.526672    4.0\n",
       " 14  CameronArtisPayne  132.356216    2.0\n",
       " 13     KarlosWilliams  128.038589    0.0\n",
       " 10          MikeDavis  122.487724    4.0\n",
       " 17      KennyHilliard  117.963379    2.0\n",
       " 16       MarcusMurphy  113.796173    0.0\n",
       " 6        DavidJohnson  112.373375   11.0,\n",
       " 'T':               name       value  error\n",
       " 13    TayoFabuluje  141.718170   13.0\n",
       " 5     DonovanSmith  138.802505    4.0\n",
       " 1     EreckFlowers  136.728806    1.0\n",
       " 17   CoreyRobinson  134.063660   14.0\n",
       " 9       JamonBrown  132.154770    5.0\n",
       " 0   BrandonScherff  131.873260    5.0\n",
       " 14   TyrusThompson  131.850784    8.0\n",
       " 10       ChazGreen  129.775589    3.0\n",
       " 11     TJClemmings  129.570953    3.0\n",
       " 7    RobHavenstein  129.479660    2.0\n",
       " 18  LaurenceGibson  129.060089    8.0\n",
       " 2       AndrusPeat  128.856537    9.0\n",
       " 6       JakeFisher  128.230072    6.0\n",
       " 12    AndrewDonnal  128.070068    1.0\n",
       " 4      DJHumphries  127.902023   10.0\n",
       " 3    CedricOgbuehi  127.725967   12.0\n",
       " 8      TySambrailo  127.254524    8.0\n",
       " 16  AustinShepherd  126.982025    1.0\n",
       " 15     JakeRodgers   95.729546    3.0\n",
       " 19    DenzellGoode   95.729546    0.0,\n",
       " 'TE':                  name       value  error\n",
       " 2        CliveWalford  123.838928    2.0\n",
       " 8          JesseJames  121.462166    7.0\n",
       " 0       DevinFunchess  121.218735    2.0\n",
       " 11         NickOLeary  120.983650    8.0\n",
       " 1        MaxxWilliams  120.161766    3.0\n",
       " 3          TylerKroft  115.088013    2.0\n",
       " 19    GeraldChristian  114.985962   13.0\n",
       " 16          BenKoyack  111.756783    9.0\n",
       " 13      RandallTelfer  110.184662    5.0\n",
       " 9           NickBoyle  105.722054    0.0\n",
       " 15     KennardBackman  103.252274    5.0\n",
       " 12     MalcolmJohnson  102.944557    1.0\n",
       " 4        JeffHeuerman  102.174866    8.0\n",
       " 6        MyColePruitt  101.601547    7.0\n",
       " 5           BlakeBell  101.472824    9.0\n",
       " 14            AJDerby  100.597122    1.0\n",
       " 18  RoryBustaAnderson   98.009232    2.0\n",
       " 7            CJUzomah   87.797951   10.0\n",
       " 17         GeoffSwaim   87.797951    1.0\n",
       " 10  JamesOShaughnessy   87.797951    9.0,\n",
       " 'WR':                   name       value  error\n",
       " 0          AmariCooper  180.358017    0.0\n",
       " 9         JaelenStrong  179.796066    8.0\n",
       " 15          VinceMayle  177.796661   13.0\n",
       " 14         JustinHardy  174.300293   11.0\n",
       " 12        TyMontgomery  173.523926    8.0\n",
       " 11        SammieCoates  173.173874    6.0\n",
       " 8         TylerLockett  173.101456    2.0\n",
       " 24         GeremyDavis  171.899292   17.0\n",
       " 10         ChrisConley  170.655777    2.0\n",
       " 17        RashadGreene  169.989807    8.0\n",
       " 30          DaRonBrown  169.830093   20.0\n",
       " 18         StefonDiggs  169.495209    7.0\n",
       " 13      JamisonCrowder  169.328217    1.0\n",
       " 7   DorialGreenBeckham  168.507675    6.0\n",
       " 21           KennyBell  167.262299    7.0\n",
       " 1           KevinWhite  166.887955   14.0\n",
       " 4      BreshadPerriman  165.476212   12.0\n",
       " 3        NelsonAgholor  164.904587   14.0\n",
       " 6           DevinSmith  163.525986   12.0\n",
       " 5       PhillipDorsett  162.502029   14.0\n",
       " 26           BudSasser  159.156052    6.0\n",
       " 22       KeithMumphery  159.149719    1.0\n",
       " 19         TonyLippett  158.948578    3.0\n",
       " 32         MarioAlford  158.551453    9.0\n",
       " 23          KaelinClay  143.111542    1.0\n",
       " 27        DarrenWaller  140.765396    2.0\n",
       " 2        DeVanteParker  131.601685   24.0\n",
       " 33          TreMcBride  130.886337    6.0\n",
       " 31         DezminLewis  129.997345    3.0\n",
       " 16      DeAndreSmelter  128.956589   13.0\n",
       " 25         EvanSpencer  122.893524    5.0\n",
       " 28        NealSterling  122.893524    3.0\n",
       " 29         AndreDebose  122.893524    3.0\n",
       " 20            JJNelson  115.693878   13.0}"
      ]
     },
     "execution_count": 23,
     "metadata": {},
     "output_type": "execute_result"
    }
   ],
   "source": [
    "output"
   ]
  },
  {
   "cell_type": "code",
   "execution_count": 24,
   "metadata": {},
   "outputs": [
    {
     "data": {
      "text/plain": [
       "{'C': 1.4285714285714286,\n",
       " 'DB': 9.73913043478261,\n",
       " 'DE': 5.714285714285714,\n",
       " 'DT': 5.545454545454546,\n",
       " 'FB': 1.5,\n",
       " 'G': 5.578947368421052,\n",
       " 'LB': 8.722222222222221,\n",
       " 'QB': 1.7142857142857142,\n",
       " 'RB': 3.4444444444444446,\n",
       " 'T': 5.8,\n",
       " 'TE': 5.2,\n",
       " 'WR': 8.058823529411764}"
      ]
     },
     "execution_count": 24,
     "metadata": {},
     "output_type": "execute_result"
    }
   ],
   "source": [
    "relativeError"
   ]
  }
 ],
 "metadata": {
  "kernelspec": {
   "display_name": "221",
   "language": "python",
   "name": "221"
  },
  "language_info": {
   "codemirror_mode": {
    "name": "ipython",
    "version": 2
   },
   "file_extension": ".py",
   "mimetype": "text/x-python",
   "name": "python",
   "nbconvert_exporter": "python",
   "pygments_lexer": "ipython2",
   "version": "2.7.14"
  }
 },
 "nbformat": 4,
 "nbformat_minor": 2
}
