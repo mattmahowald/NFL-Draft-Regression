{
 "cells": [
  {
   "cell_type": "code",
   "execution_count": 1,
   "metadata": {},
   "outputs": [
    {
     "name": "stderr",
     "output_type": "stream",
     "text": [
      "Using TensorFlow backend.\n"
     ]
    }
   ],
   "source": [
    "import numpy as np\n",
    "import pandas as pd\n",
    "from keras.models import Sequential\n",
    "from keras.layers import Dense\n",
    "from keras.wrappers.scikit_learn import KerasRegressor\n",
    "from sklearn.model_selection import cross_val_score\n",
    "from sklearn.metrics import mean_squared_error, r2_score\n",
    "from sklearn.model_selection import KFold\n",
    "from sklearn.preprocessing import StandardScaler\n",
    "from sklearn.pipeline import Pipeline\n",
    "from collections import defaultdict\n",
    "import math"
   ]
  },
  {
   "cell_type": "code",
   "execution_count": 2,
   "metadata": {},
   "outputs": [],
   "source": [
    "# format the data to be fed into the network\n",
    "combine_cleaned = pd.read_csv('combine_cleaned.csv')\n",
    "final_continuous = pd.read_csv('finalData.csv')\n",
    "final_discrete = pd.read_csv('discreteFeatures.csv')\n",
    "train_continuous = pd.read_csv('finalData.csv')\n",
    "test_continuous = pd.read_csv('finalData.csv')\n",
    "train_discrete = pd.read_csv('finalData.csv')\n",
    "test_discrete = pd.read_csv('finalData.csv')\n",
    "\n",
    "# Set which of the datasets to use \n",
    "data = final_continuous\n",
    "TEST_YEAR = 2015"
   ]
  },
  {
   "cell_type": "code",
   "execution_count": 3,
   "metadata": {
    "collapsed": true
   },
   "outputs": [],
   "source": [
    "features = ['heightinchestotal', 'weight', 'fortyyd', 'vertical', 'bench', 'twentyss', 'threecone', 'broad', \n",
    "            'games', 'rushingAtt', 'rushingYds', 'rushingAvg', 'rushingTD', 'passCmp',\n",
    "            'passPct', 'passYds', 'passTD', 'passInt', 'passRate', 'recYds', 'recAtt', 'recTD', 'recAvg', 'soloTackles', \n",
    "            'tackleAssists', 'totalTackles', 'sacks', 'ints', 'intTDs', 'passDef', 'fumbles', 'fumblesForced']"
   ]
  },
  {
   "cell_type": "code",
   "execution_count": 4,
   "metadata": {
    "collapsed": true
   },
   "outputs": [],
   "source": [
    "featuresDiscrete = [] # TO-DO - add all features from discretized data"
   ]
  },
  {
   "cell_type": "code",
   "execution_count": 5,
   "metadata": {
    "scrolled": true
   },
   "outputs": [],
   "source": [
    "numFeatures = len(features) + 1"
   ]
  },
  {
   "cell_type": "code",
   "execution_count": 6,
   "metadata": {
    "collapsed": true
   },
   "outputs": [],
   "source": [
    "# get player values/draft positions based on 'nfl_draft' data\n",
    "def get_player_draft_info():\n",
    "    valuesMap = {}\n",
    "    pickMap = {}\n",
    "    MAX_VALUE = 256 # number of draft picks + 1 (7 rounds * 32 picks + 32 compensatory + 1)\n",
    "    for index, row in data.iterrows():\n",
    "        primaryKey = (row['name'], row['year'])\n",
    "        valuesMap[primaryKey] = (MAX_VALUE - row['pick'])\n",
    "        pickMap[primaryKey] = row['pick']\n",
    "    return valuesMap, pickMap"
   ]
  },
  {
   "cell_type": "code",
   "execution_count": 7,
   "metadata": {
    "collapsed": true
   },
   "outputs": [],
   "source": [
    "# Creates list of positions to partition by\n",
    "positionsSet = set()\n",
    "for position in data['pos']:\n",
    "    positionsSet.add(position)\n",
    "positions = list(positionsSet)"
   ]
  },
  {
   "cell_type": "code",
   "execution_count": 8,
   "metadata": {},
   "outputs": [],
   "source": [
    "draftValues, draftPositions = get_player_draft_info()"
   ]
  },
  {
   "cell_type": "code",
   "execution_count": 9,
   "metadata": {
    "collapsed": true
   },
   "outputs": [],
   "source": [
    "combineFeatures = data[['name', 'pos', 'year'] + features]"
   ]
  },
  {
   "cell_type": "code",
   "execution_count": 10,
   "metadata": {
    "collapsed": true
   },
   "outputs": [],
   "source": [
    "def get_position_maps():\n",
    "    positionMaps = {}\n",
    "    for position in positions:\n",
    "        positionMaps[position] = combineFeatures[combineFeatures['pos'] == position]\n",
    "    return positionMaps"
   ]
  },
  {
   "cell_type": "code",
   "execution_count": 11,
   "metadata": {
    "collapsed": true
   },
   "outputs": [],
   "source": [
    "positionMaps = get_position_maps()"
   ]
  },
  {
   "cell_type": "code",
   "execution_count": 12,
   "metadata": {
    "collapsed": true
   },
   "outputs": [],
   "source": [
    "# build X matrix and \n",
    "def build_data_arrays():\n",
    "    X = defaultdict(list)\n",
    "    Y = defaultdict(list)\n",
    "    xTrain = defaultdict(list)\n",
    "    yTrain = defaultdict(list)\n",
    "    xTest = defaultdict(list)\n",
    "    yTest = defaultdict(list)\n",
    "    names = defaultdict(list)\n",
    "    for position in positionMaps:\n",
    "        for index, row in positionMaps[position].iterrows(): \n",
    "            X[position].append(row[2:])                  \n",
    "            Y[position].append(draftValues[(row['name'], row['year'])])\n",
    "            if row['year'] == TEST_YEAR:\n",
    "                xTest[position].append(row[2:]) \n",
    "                yTest[position].append(draftValues[(row['name'], row['year'])])\n",
    "                names[position].append(row['name'])\n",
    "            if not row['year'] == TEST_YEAR:\n",
    "                xTrain[position].append(row[2:])                  \n",
    "                yTrain[position].append(draftValues[(row['name'], row['year'])])\n",
    "    return X, Y, xTrain, yTrain, xTest, yTest, names"
   ]
  },
  {
   "cell_type": "code",
   "execution_count": 13,
   "metadata": {},
   "outputs": [],
   "source": [
    "X, Y, xTrain, yTrain, xTest, yTest, names = build_data_arrays()"
   ]
  },
  {
   "cell_type": "code",
   "execution_count": 14,
   "metadata": {},
   "outputs": [],
   "source": [
    "def base_model():\n",
    "    model = Sequential()\n",
    "    model.add(Dense(numFeatures, input_dim=numFeatures, kernel_initializer='normal', activation='relu'))\n",
    "    model.add(Dense(1, kernel_initializer='normal'))\n",
    "    model.compile(loss='mean_squared_error', optimizer='adam')\n",
    "    return model"
   ]
  },
  {
   "cell_type": "code",
   "execution_count": 15,
   "metadata": {
    "collapsed": true
   },
   "outputs": [],
   "source": [
    "def deep_model():\n",
    "    model = Sequential()\n",
    "    model.add(Dense(numFeatures, input_dim=numFeatures, kernel_initializer='normal', activation='relu'))\n",
    "    model.add(Dense(numFeatures // 2, kernel_initializer='normal'))\n",
    "    model.add(Dense(1, kernel_initializer='normal'))\n",
    "    model.compile(loss='mean_squared_error', optimizer='adam')\n",
    "    return model"
   ]
  },
  {
   "cell_type": "code",
   "execution_count": 16,
   "metadata": {
    "collapsed": true
   },
   "outputs": [],
   "source": [
    "def wide_model():\n",
    "    model = Sequential()\n",
    "    model.add(Dense(numFeatures, input_dim=numFeatures, kernel_initializer='normal', activation='relu'))\n",
    "    model.add(Dense(numFeatures * 2, kernel_initializer='normal'))\n",
    "    model.add(Dense(1, kernel_initializer='normal'))\n",
    "    model.compile(loss='mean_squared_error', optimizer='adam')\n",
    "    # model.compile(optimizer='rmsprop', loss='mse')\n",
    "    return model"
   ]
  },
  {
   "cell_type": "code",
   "execution_count": 17,
   "metadata": {
    "collapsed": true
   },
   "outputs": [],
   "source": [
    "seed = 7\n",
    "np.random.seed(seed)\n",
    "estimators = []\n",
    "estimators.append(('standardize', StandardScaler())) # Makes data Gaussian \n",
    "predictor = KerasRegressor(build_fn=wide_model, nb_epoch=100, batch_size=5, verbose=0)\n",
    "estimators.append(('mlp', predictor))\n",
    "pipeline = Pipeline(estimators)"
   ]
  },
  {
   "cell_type": "code",
   "execution_count": 18,
   "metadata": {
    "collapsed": true
   },
   "outputs": [],
   "source": [
    "numFolds = 10\n",
    "kFold = KFold(n_splits=numFolds, random_state=seed)\n",
    "def eval_data():\n",
    "    errorMap = {}\n",
    "    for p in positions:\n",
    "        if len(X[p]) > numFolds:\n",
    "            results = cross_val_score(pipeline, np.array(X[p]), np.array(Y[p]), cv=kFold)\n",
    "            errorMap[p] = (results.mean(), results.std())\n",
    "            print 'Results[{}]: mean={} (std={}) Mean Squared Error'.format(p, results.mean(), results.std())\n",
    "        else:\n",
    "            print 'Position: {} has too little data ({} row(s))'.format(p, len(X[p]))\n",
    "    return errorMap"
   ]
  },
  {
   "cell_type": "code",
   "execution_count": 19,
   "metadata": {},
   "outputs": [],
   "source": [
    "# errors = eval_data()"
   ]
  },
  {
   "cell_type": "code",
   "execution_count": 20,
   "metadata": {},
   "outputs": [
    {
     "name": "stdout",
     "output_type": "stream",
     "text": [
      "Not enough data for position: LS\n",
      "Not enough data for position: K\n",
      "Not enough data for position: P\n"
     ]
    }
   ],
   "source": [
    "scores = {}\n",
    "output = {}\n",
    "scaler = StandardScaler()\n",
    "for p in positions:\n",
    "    if len(xTrain[p]) > 1 and len(xTest[p]) > 1:\n",
    "#         scaler.fit(np.array(xTrain[p]))\n",
    "#         predictor.fit(scaler.transform(np.array(xTrain[p])), np.array(yTrain[p]))\n",
    "#         prediction = predictor.predict(scaler.transform(np.array(xTest[p])))\n",
    "        predictor.fit(np.array(xTrain[p]), np.array(yTrain[p]))\n",
    "        prediction = predictor.predict(np.array(xTest[p]))\n",
    "        output[p] = pd.DataFrame(zip(names[p], prediction), columns = ['name', 'value']).sort_values(by=['value'], ascending=False)\n",
    "        # scores[p] = predictor.score(np.array(xTest[p]), np.array(yTest[p]))\n",
    "        scores[p] = (mean_squared_error(np.array(yTest[p]), np.array(prediction)), \n",
    "                     r2_score(np.array(yTest[p]), np.array(prediction)))\n",
    "    else:\n",
    "        print 'Not enough data for position: {}'.format(p)"
   ]
  },
  {
   "cell_type": "code",
   "execution_count": 21,
   "metadata": {},
   "outputs": [
    {
     "data": {
      "text/plain": [
       "{'C': (5983.6430441121092, -0.21345949111212281),\n",
       " 'DB': (5775.2052514764728, 0.00077300504929278535),\n",
       " 'DE': (4938.8639660918243, 0.0041392821854341344),\n",
       " 'DT': (5060.9997924140343, 0.003761268011676977),\n",
       " 'FB': (3034.7880206454392, -0.41272026796796801),\n",
       " 'G': (3747.9723042288801, 0.014735801369138102),\n",
       " 'LB': (5168.8975738628587, 0.0032994380615065655),\n",
       " 'QB': (6192.5772970221669, 0.030536407873357874),\n",
       " 'RB': (4945.6807871805895, -0.13826180370567953),\n",
       " 'T': (7905.8465705712906, -0.01385473236348278),\n",
       " 'TE': (4824.1882664527247, -0.13747240963742136),\n",
       " 'WR': (5796.6683339816727, -0.0050636931316190292)}"
      ]
     },
     "execution_count": 21,
     "metadata": {},
     "output_type": "execute_result"
    }
   ],
   "source": [
    "scores"
   ]
  },
  {
   "cell_type": "code",
   "execution_count": 22,
   "metadata": {},
   "outputs": [
    {
     "data": {
      "text/plain": [
       "{'C':             name       value\n",
       " 0  CameronErving  102.452324\n",
       " 4      MaxGarcia  102.274246\n",
       " 1      AliMarpet  102.166084\n",
       " 2   HronissGrasu  101.954193\n",
       " 5     AndyGallik  101.789841\n",
       " 3      ShaqMason   99.553421\n",
       " 6   AustinReiter   99.553413, 'DB':                 name       value\n",
       " 19   ClaytonGeathers  125.546227\n",
       " 24        AdrianAmos  125.481461\n",
       " 12    JordanRichards  125.267471\n",
       " 5      LandonCollins  125.233475\n",
       " 8           EricRowe  125.216911\n",
       " 3         ByronJones  125.173737\n",
       " 35      RandallEvans  125.071228\n",
       " 42        RyanMurphy  125.063644\n",
       " 41     DarrylRoberts  125.027718\n",
       " 25   MykkeleThompson  125.019760\n",
       " 20  IbraheimCampbell  124.997238\n",
       " 36       DerronSmith  124.935341\n",
       " 31    KyshoenJarrett  124.866219\n",
       " 22        DoranGrant  124.837036\n",
       " 32      TevinMitchel  124.760529\n",
       " 27    CedricThompson  124.747574\n",
       " 37      QuandreDiggs  124.707314\n",
       " 16        CraigMager  124.707153\n",
       " 1       KevinJohnson  124.645142\n",
       " 38     GerodHolliman  124.618172\n",
       " 15        AlexCarter  124.598969\n",
       " 26       BobbyMcCain  124.590614\n",
       " 6       JalenCollins  124.570770\n",
       " 29       DamianSwann  124.522667\n",
       " 2       MarcusPeters  124.431381\n",
       " 18       JamesSample  124.403687\n",
       " 45        JoshFurman  124.387512\n",
       " 40    DexterMcDonald  124.376915\n",
       " 34   JaCoreyShepherd  124.325172\n",
       " 14        PJWilliams  124.217834\n",
       " 4   DamariousRandall  124.209236\n",
       " 43         AkeemKing  124.167122\n",
       " 7      JaquiskiTartt  124.043938\n",
       " 17      StevenNelson  124.018379\n",
       " 13        DJounSmith  123.992424\n",
       " 9        RonaldDarby  123.978226\n",
       " 44      TaureanNixon  123.969124\n",
       " 10     SenquezGolson  123.874771\n",
       " 0         TraeWaynes  123.860275\n",
       " 28       LorenzoDoss  123.788666\n",
       " 11    QuintenRollins  123.756760\n",
       " 33     CharlesGaines  123.620857\n",
       " 21          JoshShaw  123.525978\n",
       " 23        TrayWalker  123.429688\n",
       " 30          TyeSmith  123.217072\n",
       " 39     IfoEkpreOlomu  122.762100, 'DE':                   name       value\n",
       " 6   OwamagbeOdighizuwa  135.906433\n",
       " 10         TreyFlowers  135.873230\n",
       " 0      LeonardWilliams  135.801331\n",
       " 14         RyanRussell  135.745575\n",
       " 2         PrestonSmith  135.728027\n",
       " 18    AnthonyChickillo  135.696106\n",
       " 5           FrankClark  135.523499\n",
       " 16         ObumGwacham  135.495636\n",
       " 12      MarcusHardison  135.467514\n",
       " 11       ZaDariusSmith  135.295975\n",
       " 19         MartinIfedi  135.284790\n",
       " 15            BJDubose  135.268799\n",
       " 8        HenryAnderson  135.238159\n",
       " 9         GeneoGrissom  135.228745\n",
       " 7       DanielleHunter  135.021652\n",
       " 4         MarkusGolden  134.907639\n",
       " 3          NateOrchard  134.851822\n",
       " 1             ShaneRay  134.810364\n",
       " 20        BrianMihalik  134.312927\n",
       " 17      ChristianRingo  134.228149\n",
       " 13    ShaquilleRiddick  133.606323, 'DT':                   name       value\n",
       " 0         DannyShelton  127.027008\n",
       " 13       TyelerDavison  126.203308\n",
       " 4         EddieGoldman  126.109703\n",
       " 8       AngeloBlackson  126.010239\n",
       " 6            CarlDavis  125.984497\n",
       " 5       JordanPhillips  125.886650\n",
       " 16     LeterriusWalton  125.869385\n",
       " 12          DavidParry  125.727570\n",
       " 9           GabeWright  125.615028\n",
       " 11        GradyJarrett  125.587181\n",
       " 2          MalcomBrown  125.392319\n",
       " 14      MichaelBennett  125.303963\n",
       " 15        DariusPhilon  125.126839\n",
       " 21           DeonSimon  125.118866\n",
       " 7         XavierCooper  124.979111\n",
       " 1         ArikArmstead  124.732826\n",
       " 19  ChristianCovington  124.669739\n",
       " 20   RakeemNunezRoches  124.548264\n",
       " 18      KristjanSokoli  122.277908\n",
       " 17         DariusKilgo  122.245125\n",
       " 10        RodneyGunter  121.236549\n",
       " 3         MarioEdwards  121.236549, 'FB':              name      value\n",
       " 3      JoeyIosefa  48.760246\n",
       " 2  AaronRipkowski  48.433872\n",
       " 1   MichaelBurton  48.154186\n",
       " 0   JalstonFowler  48.077724, 'G':                name       value\n",
       " 18     TrentonBrown  118.012741\n",
       " 2   JeremiahPoutasi  117.238853\n",
       " 12   JarvisHarrison  117.149887\n",
       " 17        BobbyHart  116.983932\n",
       " 5     DarylWilliams  116.901398\n",
       " 0    LakenTomlinson  116.873726\n",
       " 6        TreJackson  116.720177\n",
       " 13      RobertMyers  116.632378\n",
       " 1        MitchMorse  116.482849\n",
       " 9      JonFeliciano  116.460907\n",
       " 3            AJCann  116.438286\n",
       " 11    MarkGlowinski  116.401749\n",
       " 10       TerryPoole  116.323410\n",
       " 7     ArieKouandjio  116.134537\n",
       " 8      JamilDouglas  115.993301\n",
       " 4        JohnMiller  115.948235\n",
       " 14     IanSilberman  111.428856\n",
       " 15     CodyWichmann  111.428856\n",
       " 16    AnthonyMorris  111.428856, 'LB':                   name       value\n",
       " 4      StephoneAnthony  133.208160\n",
       " 7        EricKendricks  133.081375\n",
       " 1           VicBeasley  133.043961\n",
       " 29       AmarloHerrera  133.006012\n",
       " 8       DenzelPerryman  132.791733\n",
       " 31        HayesPullard  132.757965\n",
       " 12         JordanHicks  132.739548\n",
       " 32          BryceHager  132.618362\n",
       " 10           EliHarold  132.589218\n",
       " 6         HauoliKikaha  132.553360\n",
       " 17            JakeRyan  132.549561\n",
       " 5   BenardrickMcKinney  132.524292\n",
       " 18           BenHeeney  132.411453\n",
       " 11      LorenzoMauldin  132.398514\n",
       " 14         RamikWilson  132.359299\n",
       " 9         RandyGregory  132.342377\n",
       " 16        DamienWilson  132.321869\n",
       " 22          NeironBall  132.265060\n",
       " 3         ShaqThompson  132.222656\n",
       " 27           MaxValles  132.195541\n",
       " 35      XzavierDickson  132.165359\n",
       " 15       KwonAlexander  132.118027\n",
       " 19     MartrellSpaight  132.117340\n",
       " 2            BudDupree  132.055878\n",
       " 13          PaulDawson  131.950348\n",
       " 26        MatthewWells  131.859375\n",
       " 34         MarkNzeocha  131.772141\n",
       " 20           DavisTull  131.711105\n",
       " 21         KyleEmanuel  131.583450\n",
       " 23           DavidMayo  131.395432\n",
       " 30       ReshardCliett  131.301529\n",
       " 33      EdmondRobinson  131.290207\n",
       " 24         DJAlexander  131.254532\n",
       " 25      DeiontrezMount  131.246933\n",
       " 28         TonySteward  131.203400\n",
       " 0          DanteFowler  130.182678, 'QB':              name       value\n",
       " 4      BrycePetty  151.722336\n",
       " 1   MarcusMariota  150.694016\n",
       " 0   JameisWinston  150.123856\n",
       " 5    BrettHundley  149.500427\n",
       " 2  GarrettGrayson  148.702759\n",
       " 3     SeanMannion  148.285645\n",
       " 6   TrevorSiemian  142.534439, 'RB':                  name       value\n",
       " 3       AmeerAbdullah  115.220467\n",
       " 1        MelvinGordon  115.044052\n",
       " 12           JayAjayi  114.829430\n",
       " 11          DavidCobb  114.360603\n",
       " 5         DukeJohnson  114.297768\n",
       " 2            TJYeldon  114.141792\n",
       " 4        TevinColeman  114.123627\n",
       " 0          ToddGurley  114.057312\n",
       " 9       JavoriusAllen  113.918457\n",
       " 7           MattJones  113.898071\n",
       " 8      JeremyLangford  113.770111\n",
       " 14  CameronArtisPayne  112.996071\n",
       " 15       JoshRobinson  112.693039\n",
       " 13     KarlosWilliams  112.555099\n",
       " 10          MikeDavis  111.590424\n",
       " 16       MarcusMurphy  111.548523\n",
       " 17      KennyHilliard  111.284279\n",
       " 6        DavidJohnson  111.051231, 'T':               name       value\n",
       " 13    TayoFabuluje  160.817657\n",
       " 5     DonovanSmith  160.408066\n",
       " 1     EreckFlowers  160.252640\n",
       " 17   CoreyRobinson  159.881470\n",
       " 14   TyrusThompson  159.784988\n",
       " 9       JamonBrown  159.686966\n",
       " 0   BrandonScherff  159.641693\n",
       " 7    RobHavenstein  159.431244\n",
       " 10       ChazGreen  159.386795\n",
       " 11     TJClemmings  159.282639\n",
       " 2       AndrusPeat  159.253098\n",
       " 16  AustinShepherd  159.231079\n",
       " 12    AndrewDonnal  159.222778\n",
       " 8      TySambrailo  159.200806\n",
       " 4      DJHumphries  159.188446\n",
       " 18  LaurenceGibson  159.178558\n",
       " 6       JakeFisher  159.176392\n",
       " 3    CedricOgbuehi  159.139160\n",
       " 15     JakeRodgers  155.351608\n",
       " 19    DenzellGoode  155.351608, 'TE':                  name       value\n",
       " 2        CliveWalford  120.422325\n",
       " 0       DevinFunchess  120.262329\n",
       " 11         NickOLeary  120.143257\n",
       " 8          JesseJames  120.070885\n",
       " 1        MaxxWilliams  120.010818\n",
       " 19    GeraldChristian  119.683136\n",
       " 3          TylerKroft  119.579155\n",
       " 16          BenKoyack  119.144722\n",
       " 13      RandallTelfer  119.025604\n",
       " 15     KennardBackman  118.848083\n",
       " 12     MalcolmJohnson  118.743919\n",
       " 9           NickBoyle  118.330879\n",
       " 4        JeffHeuerman  118.177048\n",
       " 5           BlakeBell  118.026932\n",
       " 6        MyColePruitt  118.012665\n",
       " 14            AJDerby  117.973785\n",
       " 18  RoryBustaAnderson  117.840591\n",
       " 7            CJUzomah  117.112793\n",
       " 17         GeoffSwaim  117.112793\n",
       " 10  JamesOShaughnessy  117.112793, 'WR':                   name       value\n",
       " 9         JaelenStrong  146.816299\n",
       " 15          VinceMayle  146.798660\n",
       " 0          AmariCooper  146.782852\n",
       " 12        TyMontgomery  146.095657\n",
       " 14         JustinHardy  145.990524\n",
       " 11        SammieCoates  145.690033\n",
       " 1           KevinWhite  145.598312\n",
       " 4      BreshadPerriman  145.593460\n",
       " 24         GeremyDavis  145.563873\n",
       " 8         TylerLockett  145.514893\n",
       " 18         StefonDiggs  145.474777\n",
       " 30          DaRonBrown  145.416519\n",
       " 7   DorialGreenBeckham  145.320770\n",
       " 13      JamisonCrowder  145.254745\n",
       " 3        NelsonAgholor  145.060181\n",
       " 17        RashadGreene  144.917419\n",
       " 10         ChrisConley  144.848022\n",
       " 26           BudSasser  144.539856\n",
       " 21           KennyBell  144.278198\n",
       " 6           DevinSmith  144.272049\n",
       " 5       PhillipDorsett  144.114105\n",
       " 22       KeithMumphery  143.934586\n",
       " 19         TonyLippett  143.860001\n",
       " 32         MarioAlford  143.593155\n",
       " 23          KaelinClay  141.952026\n",
       " 27        DarrenWaller  140.958847\n",
       " 16      DeAndreSmelter  140.204269\n",
       " 31         DezminLewis  139.726089\n",
       " 33          TreMcBride  139.650650\n",
       " 2        DeVanteParker  139.597137\n",
       " 29         AndreDebose  139.249634\n",
       " 28        NealSterling  139.249634\n",
       " 25         EvanSpencer  139.249634\n",
       " 20            JJNelson  136.902725}"
      ]
     },
     "execution_count": 22,
     "metadata": {},
     "output_type": "execute_result"
    }
   ],
   "source": [
    "output"
   ]
  },
  {
   "cell_type": "code",
   "execution_count": null,
   "metadata": {
    "collapsed": true
   },
   "outputs": [],
   "source": []
  }
 ],
 "metadata": {
  "kernelspec": {
   "display_name": "221",
   "language": "python",
   "name": "221"
  },
  "language_info": {
   "codemirror_mode": {
    "name": "ipython",
    "version": 2
   },
   "file_extension": ".py",
   "mimetype": "text/x-python",
   "name": "python",
   "nbconvert_exporter": "python",
   "pygments_lexer": "ipython2",
   "version": "2.7.14"
  }
 },
 "nbformat": 4,
 "nbformat_minor": 2
}
