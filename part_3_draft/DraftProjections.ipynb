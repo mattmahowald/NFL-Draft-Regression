{
 "cells": [
  {
   "cell_type": "code",
   "execution_count": 1,
   "metadata": {},
   "outputs": [],
   "source": [
    "import pandas as pd\n",
    "import matplotlib.pyplot as plt \n",
    "from sklearn import datasets, linear_model\n",
    "from sklearn.metrics import mean_squared_error, r2_score\n",
    "from sklearn.model_selection import cross_val_score\n",
    "from sklearn.model_selection import KFold\n",
    "from sklearn.preprocessing import StandardScaler\n",
    "from sklearn.pipeline import Pipeline\n",
    "import numpy as np\n",
    "from collections import defaultdict\n",
    "import math\n",
    "\n",
    "from KNNLib import get_draft_probability_matrix\n",
    "from KNNLib import positionMLE"
   ]
  },
  {
   "cell_type": "code",
   "execution_count": 2,
   "metadata": {},
   "outputs": [],
   "source": [
    "# format the data to be fed into the network\n",
    "combine_cleaned = pd.read_csv('data/combine_cleaned.csv')\n",
    "final_continuous = pd.read_csv('data/finalData.csv')\n",
    "final_discrete = pd.read_csv('data/discreteData.csv')\n",
    "\n",
    "\n",
    "# Choose dataset to use\n",
    "data = final_continuous\n"
   ]
  },
  {
   "cell_type": "code",
   "execution_count": 3,
   "metadata": {},
   "outputs": [],
   "source": [
    "# need to figure out how to add 'school', 'conference' back in. \n",
    "featuresStandard = ['heightinchestotal', 'weight', 'fortyyd', 'vertical', 'bench', 'twentyss', 'threecone', 'broad', \n",
    "            'games', 'rushingAtt', 'rushingYds', 'rushingAvg', 'rushingTD', 'passCmp',\n",
    "            'passPct', 'passYds', 'passTD', 'passInt', 'passRate', 'recYds', 'recAtt', 'recTD', 'recAvg', 'soloTackles', \n",
    "            'tackleAssists', 'totalTackles', 'sacks', 'ints', 'intTDs', 'passDef', 'fumbles', 'fumblesForced']\n",
    "featuresDiscrete = ['confACC','confPac-12','confUnknown','confSEC','confBig 12','confBig Ten','confAmerican',\n",
    "            'confBig East','confPac-10','confMAC','confSun Belt','confMWC','confWAC','confCUSA','confInd','confSouthern','confMVC','confPac-8',\n",
    "            'confBig West','confSWC','confSouthland','confBig 8','confSWAC','heightinchestotalNone','heightinchestotalQ1','heightinchestotalQ2',\n",
    "            'heightinchestotalQ3','heightinchestotalQ4','weightNone','weightQ1','weightQ2','weightQ3','weightQ4','fortyydNone','fortyydQ1','fortyydQ2',\n",
    "            'fortyydQ3','fortyydQ4','verticalNone','verticalQ1','verticalQ2','verticalQ3','verticalQ4','benchNone','benchQ1','benchQ2','benchQ3',\n",
    "            'benchQ4','twentyssNone','twentyssQ1','twentyssQ2','twentyssQ3','twentyssQ4','threeconeNone','threeconeQ1','threeconeQ2','threeconeQ3',\n",
    "            'threeconeQ4','broadNone','broadQ1','broadQ2','broadQ3','broadQ4','gamesNone','gamesQ1','gamesQ2','gamesQ3','gamesQ4','rushingAttNone',\n",
    "            'rushingAttQ1','rushingAttQ2','rushingAttQ3','rushingAttQ4','rushingYdsNone','rushingYdsQ1','rushingYdsQ2','rushingYdsQ3','rushingYdsQ4',\n",
    "            'rushingAvgNone','rushingAvgQ1','rushingAvgQ2','rushingAvgQ3','rushingAvgQ4','rushingTDNone','rushingTDQ1','rushingTDQ2','rushingTDQ3','rushingTDQ4'\n",
    "            ,'passCmpNone','passCmpQ1','passCmpQ2','passCmpQ3','passCmpQ4','passPctNone','passPctQ1','passPctQ2','passPctQ3','passPctQ4','passYdsNone','passYdsQ1',\n",
    "            'passYdsQ2','passYdsQ3','passYdsQ4','passTDNone','passTDQ1','passTDQ2','passTDQ3','passTDQ4','passIntNone','passIntQ1','passIntQ2','passIntQ3','passIntQ4','passRateNone',\n",
    "            'passRateQ1','passRateQ2','passRateQ3','passRateQ4','recYdsNone','recYdsQ1','recYdsQ2','recYdsQ3','recYdsQ4','recAttNone','recAttQ1','recAttQ2','recAttQ3',\n",
    "            'recAttQ4','recTDNone','recTDQ1','recTDQ2','recTDQ3','recTDQ4','recAvgNone','recAvgQ1','recAvgQ2','recAvgQ3','recAvgQ4','soloTacklesNone','soloTacklesQ1',\n",
    "            'soloTacklesQ2','soloTacklesQ3','soloTacklesQ4','tackleAssistsNone','tackleAssistsQ1','tackleAssistsQ2','tackleAssistsQ3','tackleAssistsQ4','totalTacklesNone',\n",
    "            'totalTacklesQ1','totalTacklesQ2','totalTacklesQ3','totalTacklesQ4','sacksNone','sacksQ1','sacksQ2','sacksQ3','sacksQ4','intsNone','intsQ1','intsQ2','intsQ3',\n",
    "            'intsQ4','intTDsNone','intTDsQ1','intTDsQ2','intTDsQ3','intTDsQ4','passDefNone','passDefQ1','passDefQ2','passDefQ3','passDefQ4','fumblesNone','fumblesQ1',\n",
    "            'fumblesQ2','fumblesQ3','fumblesQ4','fumblesForcedNone','fumblesForcedQ1','fumblesForcedQ2','fumblesForcedQ3','fumblesForcedQ4']\n"
   ]
  },
  {
   "cell_type": "code",
   "execution_count": 4,
   "metadata": {},
   "outputs": [],
   "source": [
    "MAX_YEAR = 2015 \n",
    "MIN_YEAR = 1999\n",
    "TEST_YEAR = 2015\n",
    "features = featuresStandard\n",
    "shouldNormalize = True if features == featuresStandard else False "
   ]
  },
  {
   "cell_type": "code",
   "execution_count": 5,
   "metadata": {},
   "outputs": [],
   "source": [
    "# get player values/draft positions based on 'nfl_draft' data\n",
    "def get_player_draft_info():\n",
    "    valuesMap = {}\n",
    "    pickMap = {}\n",
    "    MAX_VALUE = 256 # number of draft picks + 1 (7 rounds * 32 picks + 32 compensatory + 1)\n",
    "    for index, row in data.iterrows():\n",
    "        primaryKey = (row['name'], row['year'])\n",
    "        valuesMap[primaryKey] = (MAX_VALUE - row['pick'])\n",
    "        pickMap[primaryKey] = row['pick']\n",
    "    return valuesMap, pickMap"
   ]
  },
  {
   "cell_type": "code",
   "execution_count": 6,
   "metadata": {},
   "outputs": [],
   "source": [
    "# Creates list of positions to partition by\n",
    "positionsSet = set()\n",
    "for position in data['pos']:\n",
    "    positionsSet.add(position)\n",
    "positions = list(positionsSet)"
   ]
  },
  {
   "cell_type": "code",
   "execution_count": 7,
   "metadata": {},
   "outputs": [],
   "source": [
    "draftValues, draftPositions = get_player_draft_info()\n",
    "# print draftPositions"
   ]
  },
  {
   "cell_type": "code",
   "execution_count": 8,
   "metadata": {},
   "outputs": [],
   "source": [
    "# replace here with NEW dataset \n",
    "combineFeatures = data[['name', 'pos', 'year'] + features]"
   ]
  },
  {
   "cell_type": "code",
   "execution_count": 9,
   "metadata": {},
   "outputs": [],
   "source": [
    "def get_position_maps():\n",
    "    positionMaps = {}\n",
    "    for position in positions:\n",
    "        positionMaps[position] = combineFeatures[combineFeatures['pos'] == position]\n",
    "    return positionMaps"
   ]
  },
  {
   "cell_type": "code",
   "execution_count": 10,
   "metadata": {},
   "outputs": [],
   "source": [
    "positionMaps = get_position_maps()"
   ]
  },
  {
   "cell_type": "code",
   "execution_count": 11,
   "metadata": {},
   "outputs": [],
   "source": [
    "# build X matrix and Y values \n",
    "def build_data_arrays():\n",
    "    X = defaultdict(list)\n",
    "    Y = defaultdict(list)\n",
    "    xTrain = defaultdict(list)\n",
    "    yTrain = defaultdict(list)\n",
    "    xTest = defaultdict(list)\n",
    "    yTest = defaultdict(list)\n",
    "    names = defaultdict(list)\n",
    "    for position in positionMaps:\n",
    "        for index, row in positionMaps[position].iterrows(): \n",
    "            X[position].append(row[3:])                  \n",
    "            Y[position].append(draftValues[(row['name'], row['year'])])\n",
    "            if row['year'] == TEST_YEAR:\n",
    "                xTest[position].append(row[3:]) \n",
    "                yTest[position].append(draftValues[(row['name'], row['year'])])\n",
    "                names[position].append(row['name'])\n",
    "            if not row['year'] == TEST_YEAR:\n",
    "                xTrain[position].append(row[3:])                  \n",
    "                yTrain[position].append(draftValues[(row['name'], row['year'])])\n",
    "    return X, Y, xTrain, yTrain, xTest, yTest, names"
   ]
  },
  {
   "cell_type": "code",
   "execution_count": 12,
   "metadata": {},
   "outputs": [],
   "source": [
    "X, Y, xTrain, yTrain, xTest, yTest, names = build_data_arrays()"
   ]
  },
  {
   "cell_type": "code",
   "execution_count": 13,
   "metadata": {},
   "outputs": [],
   "source": [
    "seed = 7\n",
    "np.random.seed(seed)\n",
    "predictor = linear_model.LinearRegression(fit_intercept=True, normalize=shouldNormalize, copy_X=True, n_jobs=1)"
   ]
  },
  {
   "cell_type": "code",
   "execution_count": 14,
   "metadata": {},
   "outputs": [],
   "source": [
    "numFolds = 10\n",
    "kFold = KFold(n_splits=numFolds, random_state=seed)\n",
    "def eval_data():\n",
    "    errorMap = {}\n",
    "    for p in positions:\n",
    "        print p, len(X[p])\n",
    "        if len(X[p]) > numFolds:\n",
    "            results = cross_val_score(predictor, np.array(X[p]), np.array(Y[p]), cv=kFold, scoring='mean_squared_error')\n",
    "            errorMap[p] = (results.mean(), results.std())\n",
    "            print 'Results[{}]: mean={} (std={}) Mean Squared Error'.format(p, results.mean(), results.std())\n",
    "        else:\n",
    "            print 'Position: {} has too little data ({} row(s))'.format(p, len(X[p]))\n",
    "    return errorMap"
   ]
  },
  {
   "cell_type": "code",
   "execution_count": 15,
   "metadata": {},
   "outputs": [],
   "source": [
    "def get_player_draft(playerName, year, draftPositions):\n",
    "    if (playerName, year) in draftPositions:\n",
    "        return draftPositions[(playerName, year)]\n",
    "    else:\n",
    "        return -1"
   ]
  },
  {
   "cell_type": "code",
   "execution_count": 16,
   "metadata": {},
   "outputs": [],
   "source": [
    "# errors = eval_data()"
   ]
  },
  {
   "cell_type": "code",
   "execution_count": 17,
   "metadata": {},
   "outputs": [],
   "source": [
    "# errors"
   ]
  },
  {
   "cell_type": "code",
   "execution_count": 18,
   "metadata": {},
   "outputs": [],
   "source": [
    "# Map players to their true and predicted draft positions \n",
    "def get_relative_error(results, test_year):\n",
    "    trueDraftMap = {}      # true pick number\n",
    "    predictedDraftMap = {} # relative pick based on regression\n",
    "    i = 0\n",
    "    for index, row in results.iterrows():\n",
    "        trueDraftMap[row['name']] = draftPositions[(row['name'], test_year)] #need primary key to get draft positions \n",
    "        predictedDraftMap[row['name']] = i\n",
    "        i += 1\n",
    "    \n",
    "    # Compute absolute_error based on relative draft positions\n",
    "    i = 0\n",
    "    absolute_error = 0\n",
    "    errors = {}\n",
    "    for key, value in sorted(trueDraftMap.iteritems(), key=lambda (k,v): (v,k)):  \n",
    "        errors[key] = math.fabs(i - predictedDraftMap[key]) \n",
    "        absolute_error += errors[key]\n",
    "        i += 1\n",
    "        \n",
    "    #Add the errors to the results Dataframe (for visualization)\n",
    "    results['error'] = 0.0\n",
    "    for index, row in results.iterrows():\n",
    "        results.at[index, 'error'] = errors[row['name']]\n",
    "\n",
    "    #average the error by the total number of players\n",
    "    return absolute_error / float(len(results))"
   ]
  },
  {
   "cell_type": "code",
   "execution_count": 19,
   "metadata": {},
   "outputs": [
    {
     "name": "stderr",
     "output_type": "stream",
     "text": [
      "/usr/local/lib/python2.7/site-packages/scipy/linalg/basic.py:884: RuntimeWarning: internal gelsd driver lwork query error, required iwork dimension not returned. This is likely the result of LAPACK bug 0038, fixed in LAPACK 3.2.2 (released July 21, 2010). Falling back to 'gelss' driver.\n",
      "  warnings.warn(mesg, RuntimeWarning)\n"
     ]
    },
    {
     "name": "stdout",
     "output_type": "stream",
     "text": [
      "Not enough data for position: LS\n",
      "Not enough data for position: K\n",
      "Not enough data for position: P\n"
     ]
    }
   ],
   "source": [
    "scores = {}\n",
    "relativeError = {} \n",
    "coefficients = {}\n",
    "output = {}\n",
    "for p in positions:\n",
    "    if len(xTrain[p]) > 1 and len(xTest[p]) > 1:\n",
    "        predictor.fit(np.array(xTrain[p]), np.array(yTrain[p]))\n",
    "        coefficients[p] = pd.DataFrame(zip(features, predictor.coef_), columns = ['feature', 'coefficient']).sort_values(by=['coefficient'], ascending=False)\n",
    "        prediction = predictor.predict(np.array(xTest[p])) \n",
    "        output[p] = pd.DataFrame(zip(names[p], prediction), columns = ['name', 'value']).sort_values(by=['value'], ascending=False)\n",
    "        # scores[p] = predictor.score(np.array(xTest[p]), np.array(yTest[p]))\n",
    "        scores[p] = (mean_squared_error(np.array(yTest[p]), np.array(prediction)),\n",
    "                     r2_score(np.array(yTest[p]), np.array(prediction)))\n",
    "        relativeError[p] = get_relative_error(output[p], TEST_YEAR)\n",
    "    else:\n",
    "        print 'Not enough data for position: {}'.format(p)"
   ]
  },
  {
   "cell_type": "code",
   "execution_count": 20,
   "metadata": {},
   "outputs": [
    {
     "name": "stderr",
     "output_type": "stream",
     "text": [
      "/usr/local/lib/python2.7/site-packages/sklearn/utils/validation.py:395: DeprecationWarning: Passing 1d arrays as data is deprecated in 0.17 and will raise ValueError in 0.19. Reshape your data either using X.reshape(-1, 1) if your data has a single feature or X.reshape(1, -1) if it contains a single sample.\n",
      "  DeprecationWarning)\n",
      "/usr/local/lib/python2.7/site-packages/sklearn/utils/validation.py:395: DeprecationWarning: Passing 1d arrays as data is deprecated in 0.17 and will raise ValueError in 0.19. Reshape your data either using X.reshape(-1, 1) if your data has a single feature or X.reshape(1, -1) if it contains a single sample.\n",
      "  DeprecationWarning)\n",
      "/usr/local/lib/python2.7/site-packages/sklearn/utils/validation.py:395: DeprecationWarning: Passing 1d arrays as data is deprecated in 0.17 and will raise ValueError in 0.19. Reshape your data either using X.reshape(-1, 1) if your data has a single feature or X.reshape(1, -1) if it contains a single sample.\n",
      "  DeprecationWarning)\n",
      "/usr/local/lib/python2.7/site-packages/sklearn/utils/validation.py:395: DeprecationWarning: Passing 1d arrays as data is deprecated in 0.17 and will raise ValueError in 0.19. Reshape your data either using X.reshape(-1, 1) if your data has a single feature or X.reshape(1, -1) if it contains a single sample.\n",
      "  DeprecationWarning)\n",
      "/usr/local/lib/python2.7/site-packages/sklearn/utils/validation.py:395: DeprecationWarning: Passing 1d arrays as data is deprecated in 0.17 and will raise ValueError in 0.19. Reshape your data either using X.reshape(-1, 1) if your data has a single feature or X.reshape(1, -1) if it contains a single sample.\n",
      "  DeprecationWarning)\n",
      "/usr/local/lib/python2.7/site-packages/sklearn/utils/validation.py:395: DeprecationWarning: Passing 1d arrays as data is deprecated in 0.17 and will raise ValueError in 0.19. Reshape your data either using X.reshape(-1, 1) if your data has a single feature or X.reshape(1, -1) if it contains a single sample.\n",
      "  DeprecationWarning)\n",
      "/usr/local/lib/python2.7/site-packages/sklearn/utils/validation.py:395: DeprecationWarning: Passing 1d arrays as data is deprecated in 0.17 and will raise ValueError in 0.19. Reshape your data either using X.reshape(-1, 1) if your data has a single feature or X.reshape(1, -1) if it contains a single sample.\n",
      "  DeprecationWarning)\n",
      "/usr/local/lib/python2.7/site-packages/sklearn/utils/validation.py:395: DeprecationWarning: Passing 1d arrays as data is deprecated in 0.17 and will raise ValueError in 0.19. Reshape your data either using X.reshape(-1, 1) if your data has a single feature or X.reshape(1, -1) if it contains a single sample.\n",
      "  DeprecationWarning)\n",
      "/usr/local/lib/python2.7/site-packages/sklearn/utils/validation.py:395: DeprecationWarning: Passing 1d arrays as data is deprecated in 0.17 and will raise ValueError in 0.19. Reshape your data either using X.reshape(-1, 1) if your data has a single feature or X.reshape(1, -1) if it contains a single sample.\n",
      "  DeprecationWarning)\n",
      "/usr/local/lib/python2.7/site-packages/sklearn/utils/validation.py:395: DeprecationWarning: Passing 1d arrays as data is deprecated in 0.17 and will raise ValueError in 0.19. Reshape your data either using X.reshape(-1, 1) if your data has a single feature or X.reshape(1, -1) if it contains a single sample.\n",
      "  DeprecationWarning)\n",
      "/usr/local/lib/python2.7/site-packages/sklearn/utils/validation.py:395: DeprecationWarning: Passing 1d arrays as data is deprecated in 0.17 and will raise ValueError in 0.19. Reshape your data either using X.reshape(-1, 1) if your data has a single feature or X.reshape(1, -1) if it contains a single sample.\n",
      "  DeprecationWarning)\n",
      "/usr/local/lib/python2.7/site-packages/sklearn/utils/validation.py:395: DeprecationWarning: Passing 1d arrays as data is deprecated in 0.17 and will raise ValueError in 0.19. Reshape your data either using X.reshape(-1, 1) if your data has a single feature or X.reshape(1, -1) if it contains a single sample.\n",
      "  DeprecationWarning)\n",
      "/usr/local/lib/python2.7/site-packages/sklearn/utils/validation.py:395: DeprecationWarning: Passing 1d arrays as data is deprecated in 0.17 and will raise ValueError in 0.19. Reshape your data either using X.reshape(-1, 1) if your data has a single feature or X.reshape(1, -1) if it contains a single sample.\n",
      "  DeprecationWarning)\n",
      "/usr/local/lib/python2.7/site-packages/sklearn/utils/validation.py:395: DeprecationWarning: Passing 1d arrays as data is deprecated in 0.17 and will raise ValueError in 0.19. Reshape your data either using X.reshape(-1, 1) if your data has a single feature or X.reshape(1, -1) if it contains a single sample.\n",
      "  DeprecationWarning)\n",
      "/usr/local/lib/python2.7/site-packages/sklearn/utils/validation.py:395: DeprecationWarning: Passing 1d arrays as data is deprecated in 0.17 and will raise ValueError in 0.19. Reshape your data either using X.reshape(-1, 1) if your data has a single feature or X.reshape(1, -1) if it contains a single sample.\n",
      "  DeprecationWarning)\n",
      "/usr/local/lib/python2.7/site-packages/sklearn/utils/validation.py:395: DeprecationWarning: Passing 1d arrays as data is deprecated in 0.17 and will raise ValueError in 0.19. Reshape your data either using X.reshape(-1, 1) if your data has a single feature or X.reshape(1, -1) if it contains a single sample.\n",
      "  DeprecationWarning)\n",
      "/usr/local/lib/python2.7/site-packages/sklearn/utils/validation.py:395: DeprecationWarning: Passing 1d arrays as data is deprecated in 0.17 and will raise ValueError in 0.19. Reshape your data either using X.reshape(-1, 1) if your data has a single feature or X.reshape(1, -1) if it contains a single sample.\n",
      "  DeprecationWarning)\n",
      "/usr/local/lib/python2.7/site-packages/sklearn/utils/validation.py:395: DeprecationWarning: Passing 1d arrays as data is deprecated in 0.17 and will raise ValueError in 0.19. Reshape your data either using X.reshape(-1, 1) if your data has a single feature or X.reshape(1, -1) if it contains a single sample.\n",
      "  DeprecationWarning)\n",
      "/usr/local/lib/python2.7/site-packages/sklearn/utils/validation.py:395: DeprecationWarning: Passing 1d arrays as data is deprecated in 0.17 and will raise ValueError in 0.19. Reshape your data either using X.reshape(-1, 1) if your data has a single feature or X.reshape(1, -1) if it contains a single sample.\n",
      "  DeprecationWarning)\n",
      "/usr/local/lib/python2.7/site-packages/sklearn/utils/validation.py:395: DeprecationWarning: Passing 1d arrays as data is deprecated in 0.17 and will raise ValueError in 0.19. Reshape your data either using X.reshape(-1, 1) if your data has a single feature or X.reshape(1, -1) if it contains a single sample.\n",
      "  DeprecationWarning)\n",
      "/usr/local/lib/python2.7/site-packages/sklearn/utils/validation.py:395: DeprecationWarning: Passing 1d arrays as data is deprecated in 0.17 and will raise ValueError in 0.19. Reshape your data either using X.reshape(-1, 1) if your data has a single feature or X.reshape(1, -1) if it contains a single sample.\n",
      "  DeprecationWarning)\n",
      "/usr/local/lib/python2.7/site-packages/sklearn/utils/validation.py:395: DeprecationWarning: Passing 1d arrays as data is deprecated in 0.17 and will raise ValueError in 0.19. Reshape your data either using X.reshape(-1, 1) if your data has a single feature or X.reshape(1, -1) if it contains a single sample.\n",
      "  DeprecationWarning)\n",
      "/usr/local/lib/python2.7/site-packages/sklearn/utils/validation.py:395: DeprecationWarning: Passing 1d arrays as data is deprecated in 0.17 and will raise ValueError in 0.19. Reshape your data either using X.reshape(-1, 1) if your data has a single feature or X.reshape(1, -1) if it contains a single sample.\n",
      "  DeprecationWarning)\n",
      "/usr/local/lib/python2.7/site-packages/sklearn/utils/validation.py:395: DeprecationWarning: Passing 1d arrays as data is deprecated in 0.17 and will raise ValueError in 0.19. Reshape your data either using X.reshape(-1, 1) if your data has a single feature or X.reshape(1, -1) if it contains a single sample.\n",
      "  DeprecationWarning)\n",
      "/usr/local/lib/python2.7/site-packages/sklearn/utils/validation.py:395: DeprecationWarning: Passing 1d arrays as data is deprecated in 0.17 and will raise ValueError in 0.19. Reshape your data either using X.reshape(-1, 1) if your data has a single feature or X.reshape(1, -1) if it contains a single sample.\n",
      "  DeprecationWarning)\n",
      "/usr/local/lib/python2.7/site-packages/sklearn/utils/validation.py:395: DeprecationWarning: Passing 1d arrays as data is deprecated in 0.17 and will raise ValueError in 0.19. Reshape your data either using X.reshape(-1, 1) if your data has a single feature or X.reshape(1, -1) if it contains a single sample.\n",
      "  DeprecationWarning)\n",
      "/usr/local/lib/python2.7/site-packages/sklearn/utils/validation.py:395: DeprecationWarning: Passing 1d arrays as data is deprecated in 0.17 and will raise ValueError in 0.19. Reshape your data either using X.reshape(-1, 1) if your data has a single feature or X.reshape(1, -1) if it contains a single sample.\n",
      "  DeprecationWarning)\n",
      "/usr/local/lib/python2.7/site-packages/sklearn/utils/validation.py:395: DeprecationWarning: Passing 1d arrays as data is deprecated in 0.17 and will raise ValueError in 0.19. Reshape your data either using X.reshape(-1, 1) if your data has a single feature or X.reshape(1, -1) if it contains a single sample.\n",
      "  DeprecationWarning)\n",
      "/usr/local/lib/python2.7/site-packages/sklearn/utils/validation.py:395: DeprecationWarning: Passing 1d arrays as data is deprecated in 0.17 and will raise ValueError in 0.19. Reshape your data either using X.reshape(-1, 1) if your data has a single feature or X.reshape(1, -1) if it contains a single sample.\n",
      "  DeprecationWarning)\n",
      "/usr/local/lib/python2.7/site-packages/sklearn/utils/validation.py:395: DeprecationWarning: Passing 1d arrays as data is deprecated in 0.17 and will raise ValueError in 0.19. Reshape your data either using X.reshape(-1, 1) if your data has a single feature or X.reshape(1, -1) if it contains a single sample.\n",
      "  DeprecationWarning)\n",
      "/usr/local/lib/python2.7/site-packages/sklearn/utils/validation.py:395: DeprecationWarning: Passing 1d arrays as data is deprecated in 0.17 and will raise ValueError in 0.19. Reshape your data either using X.reshape(-1, 1) if your data has a single feature or X.reshape(1, -1) if it contains a single sample.\n",
      "  DeprecationWarning)\n",
      "/usr/local/lib/python2.7/site-packages/sklearn/utils/validation.py:395: DeprecationWarning: Passing 1d arrays as data is deprecated in 0.17 and will raise ValueError in 0.19. Reshape your data either using X.reshape(-1, 1) if your data has a single feature or X.reshape(1, -1) if it contains a single sample.\n",
      "  DeprecationWarning)\n"
     ]
    }
   ],
   "source": [
    "team_probability_matrix = get_draft_probability_matrix()"
   ]
  },
  {
   "cell_type": "code",
   "execution_count": 44,
   "metadata": {},
   "outputs": [],
   "source": [
    "def determine_pick(team, team_need, player_rankings, position_likelihood):\n",
    "    best_player, best_score = None, 0\n",
    "    best_pos = None\n",
    "    idx_to_remove = None\n",
    "    \n",
    "    #DEBUG\n",
    "#     print 'PICKING NEW PLAYER'\n",
    "#     for position in position_likelihood:\n",
    "#         print position, '->', position_likelihood[position]\n",
    "    \n",
    "    \n",
    "    for position in team_need[team]:\n",
    "        if position not in team_need[team]:\n",
    "            continue\n",
    "        position_probability = team_need[team][position]+0.1\n",
    "        if position not in output:\n",
    "            continue\n",
    "        max_score = output[position].max()[1]\n",
    "        score = (position_probability * position_likelihood[position]) * max_score\n",
    "        \n",
    "        player, i = \"\", 0\n",
    "        for idx, row in player_rankings[position].iterrows():\n",
    "            if row[1] == max_score:\n",
    "                i = idx\n",
    "                player = row[0]\n",
    "                break\n",
    "#         print player, position_probability, '+', max_score, '*', position_likelihood[position], '=', score, position\n",
    "        if score > best_score:\n",
    "            best_score = score\n",
    "            best_pos = position\n",
    "            idx_to_remove = i\n",
    "            best_player = player\n",
    "    \n",
    "    player_rankings[best_pos].drop(idx_to_remove)\n",
    "    return best_player, best_pos, idx_to_remove\n",
    "        \n",
    "        "
   ]
  },
  {
   "cell_type": "code",
   "execution_count": 45,
   "metadata": {},
   "outputs": [
    {
     "name": "stdout",
     "output_type": "stream",
     "text": [
      "Not enough data for position: LS\n",
      "Not enough data for position: K\n",
      "Not enough data for position: P\n",
      "tampa bay buccaneers   \t\tMarcusMariota         QB \t1 \t2 \t1\n",
      "tennessee titans   \t\tCoreyRobinson         T \t2 \t240 \t238\n",
      "jacksonville jaguars   \t\tTyrusThompson         T \t3 \t185 \t182\n",
      "oakland raiders   \t\tByronJones            DB \t4 \t27 \t23\n",
      "washington redskins   \t\tChristianCovington    DT \t5 \t216 \t211\n",
      "new york jets   \t\tXavierCooper          DT \t6 \t96 \t90\n",
      "chicago bears   \t\tRonaldDarby           DB \t7 \t50 \t43\n",
      "atlanta falcons   \t\tCraigMager            DB \t8 \t83 \t75\n",
      "new york giants   \t\tEricRowe              DB \t9 \t47 \t38\n",
      "st. louis rams   \t\tTraeWaynes            DB \t10 \t11 \t1\n",
      "minnesota vikings   \t\tMarcusHardison        DE \t11 \t135 \t124\n",
      "cleveland browns   \t\tJoshShaw              DB \t12 \t120 \t108\n",
      "new orleans saints   \t\tKevinJohnson          DB \t13 \t16 \t3\n",
      "miami dolphins   \t\tEddieGoldman          DT \t14 \t39 \t25\n",
      "san francisco 49ers   \t\tBobbyMcCain           DB \t15 \t145 \t130\n",
      "houston texans   \t\tAlexCarter            DB \t16 \t80 \t64\n",
      "san diego chargers   \t\tCharlesGaines         DB \t17 \t189 \t172\n",
      "kansas city chiefs   \t\tAdrianAmos            DB \t18 \t142 \t124\n",
      "cleveland browns   \t\tDamariousRandall      DB \t19 \t30 \t11\n",
      "philadelphia eagles   \t\tJalenCollins          DB \t20 \t42 \t22\n",
      "cincinnati bengals   \t\tMelvinGordon          RB \t21 \t15 \t6\n",
      "pittsburgh steelers   \t\tDevinFunchess         TE \t22 \t41 \t19\n",
      "detroit lions   \t\tDJounSmith            DB \t23 \t65 \t42\n",
      "arizona cardinals   \t\tMarcusPeters          DB \t24 \t18 \t6\n",
      "carolina panthers   \t\tStevenNelson          DB \t25 \t98 \t73\n",
      "baltimore ravens   \t\tPJWilliams            DB \t26 \t78 \t52\n",
      "dallas cowboys   \t\tSenquezGolson         DB \t27 \t56 \t29\n",
      "denver broncos   \t\tBudDupree             LB \t28 \t22 \t6\n",
      "indianapolis colts   \t\tLandonCollins         DB \t29 \t33 \t4\n",
      "green bay packers   \t\tDoranGrant            DB \t30 \t121 \t91\n",
      "new orleans saints   \t\tToddGurley            RB \t31 \t10 \t21\n",
      "new england patriots   \t\tTevinColeman          RB \t32 \t73 \t41\n",
      "64\n"
     ]
    }
   ],
   "source": [
    "scores = {}\n",
    "relativeError = {} \n",
    "coefficients = {}\n",
    "output = {}\n",
    "for p in positions:\n",
    "    if len(xTrain[p]) > 1 and len(xTest[p]) > 1:\n",
    "        predictor.fit(np.array(xTrain[p]), np.array(yTrain[p]))\n",
    "        coefficients[p] = pd.DataFrame(zip(features, predictor.coef_), columns = ['feature', 'coefficient']).sort_values(by=['coefficient'], ascending=False)\n",
    "        prediction = predictor.predict(np.array(xTest[p])) \n",
    "        output[p] = pd.DataFrame(zip(names[p], prediction), columns = ['name', 'value']).sort_values(by=['value'], ascending=False)\n",
    "        # scores[p] = predictor.score(np.array(xTest[p]), np.array(yTest[p]))\n",
    "        scores[p] = (mean_squared_error(np.array(yTest[p]), np.array(prediction)),\n",
    "                     r2_score(np.array(yTest[p]), np.array(prediction)))\n",
    "        relativeError[p] = get_relative_error(output[p], TEST_YEAR)\n",
    "    else:\n",
    "        print 'Not enough data for position: {}'.format(p)\n",
    "draft_order = [\n",
    "    'TAM',\n",
    "    'TEN',\n",
    "    'JAX',\n",
    "    'OAK',\n",
    "    'WAS',\n",
    "    'NYJ',\n",
    "    'CHI',\n",
    "    'ATL',\n",
    "    'NYG',\n",
    "    'STL',\n",
    "    'MIN',\n",
    "    'CLE',\n",
    "    'NOR',\n",
    "    'MIA',\n",
    "    'SFO',\n",
    "    'HOU',\n",
    "    'SDG',\n",
    "    'KAN',\n",
    "    'CLE',\n",
    "    'PHI',\n",
    "    'CIN',\n",
    "    'PIT',\n",
    "    'DET',\n",
    "    'ARI',\n",
    "    'CAR',\n",
    "    'BAL',\n",
    "    'DAL',\n",
    "    'DEN',\n",
    "    'IND',\n",
    "    'GNB',\n",
    "    'NOR',\n",
    "    'NWE'\n",
    "]\n",
    "teams = {'PIT':'pittsburgh-steelers', 'CIN':'cincinnati-bengals', 'BAL':'baltimore-ravens', 'CLE':'cleveland-browns',\n",
    "         'NWE':'new-england-patriots', 'BUF':'buffalo-bills', 'MIA':'miami-dolphins', 'NYJ':'new-york-jets',\n",
    "         'TEN':'tennessee-titans', 'HOU':'houston-texans', 'IND':'indianapolis-colts', 'JAX':'jacksonville-jaguars',\n",
    "         'KAN':'kansas-city-chiefs', 'OAK':'oakland-raiders', 'DEN':'denver-broncos', 'SDG':'san-diego-chargers',\n",
    "         'GNB':'green-bay-packers', 'MIN':'minnesota-vikings', 'DET':'detroit-lions', 'CHI':'chicago-bears',\n",
    "         'DAL':'dallas-cowboys', 'NYG':'new-york-giants', 'PHI':'philadelphia-eagles', 'WAS':'washington-redskins',\n",
    "         'CAR':'carolina-panthers', 'ATL':'atlanta-falcons', 'NOR':'new-orleans-saints', 'TAM':'tampa-bay-buccaneers',\n",
    "         'SEA':'seattle-seahawks', 'ARI':'arizona-cardinals', 'STL':'st.-louis-rams', 'SFO':'san-francisco-49ers'}\n",
    "draft = [teams[abbr] for abbr in draft_order]\n",
    "\n",
    "avg_error = 0\n",
    "position_likelihood = positionMLE('data/draftpositions.train.csv')\n",
    "for i, team in enumerate(draft):\n",
    "    player, pos, idx =  determine_pick(team, team_probability_matrix, output, position_likelihood[i+1])\n",
    "    output[pos] = output[pos].drop(idx)\n",
    "    true_result = get_player_draft(player, 2015, draftPositions)\n",
    "    error = abs(i+1 - true_result)\n",
    "    print ' '.join(team.split('-')), '  \\t\\t', player, ' ' * (20-len(player)), pos, '\\t', i+1, '\\t', true_result, '\\t', error\n",
    "    avg_error += error\n",
    "print avg_error / 32"
   ]
  },
  {
   "cell_type": "code",
   "execution_count": null,
   "metadata": {},
   "outputs": [],
   "source": []
  },
  {
   "cell_type": "code",
   "execution_count": null,
   "metadata": {},
   "outputs": [],
   "source": []
  },
  {
   "cell_type": "code",
   "execution_count": null,
   "metadata": {},
   "outputs": [],
   "source": []
  }
 ],
 "metadata": {
  "kernelspec": {
   "display_name": "Python 2",
   "language": "python",
   "name": "python2"
  },
  "language_info": {
   "codemirror_mode": {
    "name": "ipython",
    "version": 2
   },
   "file_extension": ".py",
   "mimetype": "text/x-python",
   "name": "python",
   "nbconvert_exporter": "python",
   "pygments_lexer": "ipython2",
   "version": "2.7.11"
  }
 },
 "nbformat": 4,
 "nbformat_minor": 2
}
