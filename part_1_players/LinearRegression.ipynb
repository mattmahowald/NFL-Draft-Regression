{
 "cells": [
  {
   "cell_type": "code",
   "execution_count": 1,
   "metadata": {
    "collapsed": true
   },
   "outputs": [],
   "source": [
    "import pandas as pd\n",
    "from sklearn import datasets, linear_model\n",
    "from sklearn.metrics import mean_squared_error, r2_score\n",
    "from sklearn.model_selection import cross_val_score\n",
    "from sklearn.model_selection import KFold\n",
    "from sklearn.preprocessing import StandardScaler\n",
    "from sklearn.pipeline import Pipeline\n",
    "import numpy as np\n",
    "from collections import defaultdict\n",
    "import math"
   ]
  },
  {
   "cell_type": "code",
   "execution_count": 2,
   "metadata": {},
   "outputs": [],
   "source": [
    "# format the data to be fed into the network\n",
    "combine_cleaned = pd.read_csv('combine_cleaned.csv')\n",
    "final_continuous = pd.read_csv('finalData.csv')\n",
    "final_discrete = pd.read_csv('discreteFeatures.csv')\n",
    "train_continuous = pd.read_csv('finalData.csv')\n",
    "test_continuous = pd.read_csv('finalData.csv')\n",
    "train_discrete = pd.read_csv('finalData.csv')\n",
    "test_discrete = pd.read_csv('finalData.csv')\n",
    "\n",
    "# Choose dataset to use\n",
    "data = final_continuous\n"
   ]
  },
  {
   "cell_type": "code",
   "execution_count": 3,
   "metadata": {
    "collapsed": true
   },
   "outputs": [],
   "source": [
    "# need to figure out how to add 'school', 'conference' back in. \n",
    "features = ['heightinchestotal', 'weight', 'fortyyd', 'vertical', 'bench', 'twentyss', 'threecone', 'broad', \n",
    "            'games', 'rushingAtt', 'rushingYds', 'rushingAvg', 'rushingTD', 'passCmp',\n",
    "            'passPct', 'passYds', 'passTD', 'passInt', 'passRate', 'recYds', 'recAtt', 'recTD', 'recAvg', 'soloTackles', \n",
    "            'tackleAssists', 'totalTackles', 'sacks', 'ints', 'intTDs', 'passDef', 'fumbles', 'fumblesForced']"
   ]
  },
  {
   "cell_type": "code",
   "execution_count": 4,
   "metadata": {
    "collapsed": true
   },
   "outputs": [],
   "source": [
    "MAX_YEAR = 2015 \n",
    "MIN_YEAR = 1999\n",
    "TEST_YEAR = 2015"
   ]
  },
  {
   "cell_type": "code",
   "execution_count": 5,
   "metadata": {
    "collapsed": true
   },
   "outputs": [],
   "source": [
    "# get player values/draft positions based on 'nfl_draft' data\n",
    "def get_player_draft_info():\n",
    "    valuesMap = {}\n",
    "    pickMap = {}\n",
    "    MAX_VALUE = 256 # number of draft picks + 1 (7 rounds * 32 picks + 32 compensatory + 1)\n",
    "    for index, row in data.iterrows():\n",
    "        primaryKey = (row['name'], row['year'])\n",
    "        valuesMap[primaryKey] = (MAX_VALUE - row['pick'])\n",
    "        pickMap[primaryKey] = row['pick']\n",
    "    return valuesMap, pickMap"
   ]
  },
  {
   "cell_type": "code",
   "execution_count": 6,
   "metadata": {},
   "outputs": [],
   "source": [
    "# Creates list of positions to partition by\n",
    "positionsSet = set()\n",
    "for position in data['pos']:\n",
    "    positionsSet.add(position)\n",
    "positions = list(positionsSet)"
   ]
  },
  {
   "cell_type": "code",
   "execution_count": 7,
   "metadata": {
    "collapsed": true
   },
   "outputs": [],
   "source": [
    "draftValues, draftPositions = get_player_draft_info()"
   ]
  },
  {
   "cell_type": "code",
   "execution_count": 8,
   "metadata": {
    "collapsed": true
   },
   "outputs": [],
   "source": [
    "# replace here with NEW dataset \n",
    "combineFeatures = data[['name', 'pos', 'year'] + features]"
   ]
  },
  {
   "cell_type": "code",
   "execution_count": 9,
   "metadata": {
    "collapsed": true
   },
   "outputs": [],
   "source": [
    "def get_position_maps():\n",
    "    positionMaps = {}\n",
    "    for position in positions:\n",
    "        positionMaps[position] = combineFeatures[combineFeatures['pos'] == position]\n",
    "    return positionMaps"
   ]
  },
  {
   "cell_type": "code",
   "execution_count": 10,
   "metadata": {},
   "outputs": [],
   "source": [
    "positionMaps = get_position_maps()"
   ]
  },
  {
   "cell_type": "code",
   "execution_count": 11,
   "metadata": {
    "collapsed": true
   },
   "outputs": [],
   "source": [
    "# build X matrix and Y values \n",
    "def build_data_arrays():\n",
    "    X = defaultdict(list)\n",
    "    Y = defaultdict(list)\n",
    "    xTrain = defaultdict(list)\n",
    "    yTrain = defaultdict(list)\n",
    "    xTest = defaultdict(list)\n",
    "    yTest = defaultdict(list)\n",
    "    names = defaultdict(list)\n",
    "    for position in positionMaps:\n",
    "        for index, row in positionMaps[position].iterrows(): \n",
    "            X[position].append(row[2:])                  \n",
    "            Y[position].append(draftValues[(row['name'], row['year'])])\n",
    "            if row['year'] == TEST_YEAR:\n",
    "                xTest[position].append(row[2:]) \n",
    "                yTest[position].append(draftValues[(row['name'], row['year'])])\n",
    "                names[position].append(row['name'])\n",
    "            if not row['year'] == TEST_YEAR:\n",
    "                xTrain[position].append(row[2:])                  \n",
    "                yTrain[position].append(draftValues[(row['name'], row['year'])])\n",
    "    return X, Y, xTrain, yTrain, xTest, yTest, names"
   ]
  },
  {
   "cell_type": "code",
   "execution_count": 12,
   "metadata": {},
   "outputs": [],
   "source": [
    "X, Y, xTrain, yTrain, xTest, yTest, names = build_data_arrays()"
   ]
  },
  {
   "cell_type": "code",
   "execution_count": 13,
   "metadata": {},
   "outputs": [],
   "source": [
    "seed = 7\n",
    "np.random.seed(seed)\n",
    "predictor = linear_model.LinearRegression(fit_intercept=True, normalize=True, copy_X=True, n_jobs=1)"
   ]
  },
  {
   "cell_type": "code",
   "execution_count": 14,
   "metadata": {
    "collapsed": true
   },
   "outputs": [],
   "source": [
    "numFolds = 10\n",
    "kFold = KFold(n_splits=numFolds, random_state=seed)\n",
    "def eval_data():\n",
    "    errorMap = {}\n",
    "    for p in positions:\n",
    "        print p, len(X[p])\n",
    "        if len(X[p]) > numFolds:\n",
    "            results = cross_val_score(predictor, np.array(X[p]), np.array(Y[p]), cv=kFold, scoring='mean_squared_error')\n",
    "            errorMap[p] = (results.mean(), results.std())\n",
    "            print 'Results[{}]: mean={} (std={}) Mean Squared Error'.format(p, results.mean(), results.std())\n",
    "        else:\n",
    "            print 'Position: {} has too little data ({} row(s))'.format(p, len(X[p]))\n",
    "    return errorMap"
   ]
  },
  {
   "cell_type": "code",
   "execution_count": 15,
   "metadata": {},
   "outputs": [],
   "source": [
    "# errors = eval_data()"
   ]
  },
  {
   "cell_type": "code",
   "execution_count": 16,
   "metadata": {},
   "outputs": [],
   "source": [
    "# errors"
   ]
  },
  {
   "cell_type": "code",
   "execution_count": 17,
   "metadata": {},
   "outputs": [
    {
     "name": "stdout",
     "output_type": "stream",
     "text": [
      "Not enough data for position: LS\n",
      "Not enough data for position: K\n",
      "Not enough data for position: P\n"
     ]
    }
   ],
   "source": [
    "scores = {}\n",
    "output = {}\n",
    "for p in positions:\n",
    "    if len(xTrain[p]) > 1 and len(xTest[p]) > 1:\n",
    "        predictor.fit(np.array(xTrain[p]), np.array(yTrain[p]))\n",
    "        prediction = predictor.predict(np.array(xTest[p])) \n",
    "        output[p] = pd.DataFrame(zip(names[p], prediction), columns = ['name', 'value']).sort_values(by=['value'], ascending=False)\n",
    "        # scores[p] = predictor.score(np.array(xTest[p]), np.array(yTest[p]))\n",
    "        scores[p] = (mean_squared_error(np.array(yTest[p]), np.array(prediction)),\n",
    "                     r2_score(np.array(yTest[p]), np.array(prediction)))\n",
    "    else:\n",
    "        print 'Not enough data for position: {}'.format(p)"
   ]
  },
  {
   "cell_type": "code",
   "execution_count": 18,
   "metadata": {},
   "outputs": [
    {
     "data": {
      "text/plain": [
       "{'C': (3043.7999088947449, 0.38272924015262477),\n",
       " 'DB': (3836.5147759834422, 0.33620556088290621),\n",
       " 'DE': (9039.6770511896211, -0.82273886035641053),\n",
       " 'DT': (6722.7212602597801, -0.32334233917001387),\n",
       " 'FB': (10003.531210798494, -3.6567309468091098),\n",
       " 'G': (3782.9059146091995, 0.0055524796039765345),\n",
       " 'LB': (5013.6383524941521, 0.033237534333101948),\n",
       " 'QB': (6961.6364454540044, -0.089861741206688661),\n",
       " 'RB': (3.1831414482313363e+29, -7.3260860986129957e+25),\n",
       " 'T': (8354.784844889251, -0.071427085924028688),\n",
       " 'TE': (3056.1162278529291, 0.27941288817403076),\n",
       " 'WR': (4505.3550419078165, 0.21883252302988376)}"
      ]
     },
     "execution_count": 18,
     "metadata": {},
     "output_type": "execute_result"
    }
   ],
   "source": [
    "scores"
   ]
  },
  {
   "cell_type": "code",
   "execution_count": 19,
   "metadata": {},
   "outputs": [
    {
     "data": {
      "text/plain": [
       "{'C':             name       value\n",
       " 4      MaxGarcia  162.144792\n",
       " 0  CameronErving  160.366601\n",
       " 2   HronissGrasu  148.751202\n",
       " 1      AliMarpet  146.878715\n",
       " 5     AndyGallik  124.835336\n",
       " 3      ShaqMason   68.827499\n",
       " 6   AustinReiter   68.827499, 'DB':                 name       value\n",
       " 3         ByronJones  196.745811\n",
       " 9        RonaldDarby  176.254383\n",
       " 16        CraigMager  173.807453\n",
       " 8           EricRowe  171.067323\n",
       " 26       BobbyMcCain  166.149385\n",
       " 0         TraeWaynes  165.762846\n",
       " 1       KevinJohnson  161.337891\n",
       " 21          JoshShaw  155.928957\n",
       " 24        AdrianAmos  144.664892\n",
       " 4   DamariousRandall  143.220844\n",
       " 15        AlexCarter  143.117959\n",
       " 19   ClaytonGeathers  140.749176\n",
       " 33     CharlesGaines  138.697984\n",
       " 5      LandonCollins  137.568757\n",
       " 13        DJounSmith  135.345795\n",
       " 2       MarcusPeters  130.685767\n",
       " 14        PJWilliams  128.440037\n",
       " 6       JalenCollins  128.308691\n",
       " 17      StevenNelson  127.724295\n",
       " 22        DoranGrant  127.508895\n",
       " 18       JamesSample  127.178601\n",
       " 10     SenquezGolson  122.797636\n",
       " 29       DamianSwann  118.964685\n",
       " 37      QuandreDiggs  116.364888\n",
       " 7      JaquiskiTartt  115.498094\n",
       " 28       LorenzoDoss  111.814966\n",
       " 20  IbraheimCampbell  111.688938\n",
       " 36       DerronSmith  107.722321\n",
       " 11    QuintenRollins  107.443670\n",
       " 30          TyeSmith  106.442997\n",
       " 42        RyanMurphy  105.099252\n",
       " 25   MykkeleThompson  104.642626\n",
       " 35      RandallEvans  104.034522\n",
       " 41     DarrylRoberts  103.143203\n",
       " 27    CedricThompson  103.045959\n",
       " 32      TevinMitchel  101.223555\n",
       " 38     GerodHolliman   98.753498\n",
       " 43         AkeemKing   97.140031\n",
       " 45        JoshFurman   95.284896\n",
       " 40    DexterMcDonald   94.315582\n",
       " 34   JaCoreyShepherd   93.031394\n",
       " 44      TaureanNixon   92.569462\n",
       " 31    KyshoenJarrett   81.858085\n",
       " 23        TrayWalker   80.841725\n",
       " 39     IfoEkpreOlomu   76.019141\n",
       " 12    JordanRichards   71.569274, 'DE':                   name       value\n",
       " 12      MarcusHardison  276.042477\n",
       " 6   OwamagbeOdighizuwa  151.363156\n",
       " 1             ShaneRay  145.148186\n",
       " 0      LeonardWilliams  133.727693\n",
       " 8        HenryAnderson  126.233585\n",
       " 3          NateOrchard  124.287016\n",
       " 19         MartinIfedi  113.748817\n",
       " 5           FrankClark  105.897875\n",
       " 16         ObumGwacham  101.315550\n",
       " 14         RyanRussell   95.077006\n",
       " 13    ShaquilleRiddick   92.534419\n",
       " 10         TreyFlowers   88.365679\n",
       " 11       ZaDariusSmith   83.763677\n",
       " 17      ChristianRingo   77.495968\n",
       " 20        BrianMihalik   68.297809\n",
       " 18    AnthonyChickillo   68.038474\n",
       " 7       DanielleHunter   63.644073\n",
       " 2         PrestonSmith   50.160967\n",
       " 15            BJDubose   43.838911\n",
       " 9         GeneoGrissom    4.898355\n",
       " 4         MarkusGolden  -11.429880, 'DT':                   name       value\n",
       " 19  ChristianCovington  197.420474\n",
       " 7         XavierCooper  189.817715\n",
       " 4         EddieGoldman  179.482259\n",
       " 13       TyelerDavison  170.661791\n",
       " 14      MichaelBennett  169.829258\n",
       " 5       JordanPhillips  165.581922\n",
       " 15        DariusPhilon  163.612012\n",
       " 0         DannyShelton  153.163213\n",
       " 21           DeonSimon  144.799346\n",
       " 16     LeterriusWalton  144.414761\n",
       " 9           GabeWright  143.999406\n",
       " 2          MalcomBrown  142.942028\n",
       " 11        GradyJarrett  141.694875\n",
       " 1         ArikArmstead  132.917298\n",
       " 20   RakeemNunezRoches  126.672256\n",
       " 8       AngeloBlackson  126.180208\n",
       " 6            CarlDavis  121.283472\n",
       " 12          DavidParry  118.522848\n",
       " 17         DariusKilgo   78.020211\n",
       " 18      KristjanSokoli   60.393005\n",
       " 10        RodneyGunter   49.789496\n",
       " 3         MarioEdwards   49.789496, 'FB':              name       value\n",
       " 3      JoeyIosefa  224.777240\n",
       " 0   JalstonFowler  153.408112\n",
       " 1   MichaelBurton   95.425506\n",
       " 2  AaronRipkowski   45.664851, 'G':                name       value\n",
       " 17        BobbyHart  183.787655\n",
       " 3            AJCann  172.032079\n",
       " 7     ArieKouandjio  167.668957\n",
       " 10       TerryPoole  156.296639\n",
       " 18     TrentonBrown  151.446500\n",
       " 12   JarvisHarrison  148.078589\n",
       " 0    LakenTomlinson  147.040339\n",
       " 1        MitchMorse  145.512737\n",
       " 11    MarkGlowinski  144.961094\n",
       " 5     DarylWilliams  139.810139\n",
       " 2   JeremiahPoutasi  138.507140\n",
       " 9      JonFeliciano  122.612298\n",
       " 4        JohnMiller  122.347879\n",
       " 13      RobertMyers  122.186554\n",
       " 8      JamilDouglas  122.178770\n",
       " 6        TreJackson   93.333046\n",
       " 14     IanSilberman   81.191998\n",
       " 15     CodyWichmann   81.191998\n",
       " 16    AnthonyMorris   81.191998, 'LB':                   name       value\n",
       " 1           VicBeasley  189.814976\n",
       " 3         ShaqThompson  185.827976\n",
       " 27           MaxValles  177.011870\n",
       " 2            BudDupree  173.582792\n",
       " 6         HauoliKikaha  173.469471\n",
       " 4      StephoneAnthony  170.691304\n",
       " 10           EliHarold  167.879646\n",
       " 35      XzavierDickson  165.102441\n",
       " 11      LorenzoMauldin  164.681265\n",
       " 5   BenardrickMcKinney  157.821917\n",
       " 7        EricKendricks  155.873959\n",
       " 33      EdmondRobinson  154.095414\n",
       " 9         RandyGregory  141.534614\n",
       " 17            JakeRyan  141.160501\n",
       " 20           DavisTull  140.821019\n",
       " 32          BryceHager  136.643204\n",
       " 16        DamienWilson  135.747258\n",
       " 19     MartrellSpaight  134.021468\n",
       " 29       AmarloHerrera  132.347513\n",
       " 15       KwonAlexander  126.725418\n",
       " 22          NeironBall  114.470780\n",
       " 12         JordanHicks  114.128025\n",
       " 31        HayesPullard  110.503879\n",
       " 21         KyleEmanuel  104.713686\n",
       " 8       DenzelPerryman  103.559157\n",
       " 18           BenHeeney  102.780413\n",
       " 34         MarkNzeocha   98.919288\n",
       " 26        MatthewWells   83.040487\n",
       " 14         RamikWilson   81.155070\n",
       " 25      DeiontrezMount   77.607861\n",
       " 30       ReshardCliett   75.147761\n",
       " 24         DJAlexander   74.678874\n",
       " 28         TonySteward   69.571361\n",
       " 23           DavidMayo   69.074116\n",
       " 13          PaulDawson   51.730130\n",
       " 0          DanteFowler   46.018245, 'QB':              name       value\n",
       " 1   MarcusMariota  243.078587\n",
       " 5    BrettHundley  207.051624\n",
       " 4      BrycePetty  205.044719\n",
       " 3     SeanMannion  144.375617\n",
       " 0   JameisWinston  109.622807\n",
       " 2  GarrettGrayson   90.652871\n",
       " 6   TrevorSiemian   86.500989, 'RB':                  name         value\n",
       " 15       JoshRobinson  2.393670e+15\n",
       " 1        MelvinGordon  2.058408e+02\n",
       " 0          ToddGurley  1.780074e+02\n",
       " 3       AmeerAbdullah  1.671592e+02\n",
       " 4        TevinColeman  1.582937e+02\n",
       " 9       JavoriusAllen  1.582021e+02\n",
       " 5         DukeJohnson  1.551210e+02\n",
       " 12           JayAjayi  1.507432e+02\n",
       " 7           MattJones  1.147359e+02\n",
       " 8      JeremyLangford  1.135359e+02\n",
       " 2            TJYeldon  9.947616e+01\n",
       " 11          DavidCobb  9.741793e+01\n",
       " 13     KarlosWilliams  8.626766e+01\n",
       " 6        DavidJohnson  7.888975e+01\n",
       " 14  CameronArtisPayne  7.842037e+01\n",
       " 10          MikeDavis  3.824865e+01\n",
       " 16       MarcusMurphy  2.934626e+01\n",
       " 17      KennyHilliard -3.282762e+01, 'T':               name       value\n",
       " 17   CoreyRobinson  233.549956\n",
       " 14   TyrusThompson  217.365173\n",
       " 9       JamonBrown  214.179915\n",
       " 3    CedricOgbuehi  207.469044\n",
       " 5     DonovanSmith  184.631786\n",
       " 18  LaurenceGibson  177.348924\n",
       " 1     EreckFlowers  166.303800\n",
       " 6       JakeFisher  165.982710\n",
       " 0   BrandonScherff  163.600966\n",
       " 11     TJClemmings  162.458942\n",
       " 10       ChazGreen  160.233598\n",
       " 4      DJHumphries  159.681033\n",
       " 2       AndrusPeat  151.946973\n",
       " 13    TayoFabuluje  137.465557\n",
       " 12    AndrewDonnal  128.734299\n",
       " 7    RobHavenstein  118.031312\n",
       " 8      TySambrailo  117.093274\n",
       " 16  AustinShepherd  110.674281\n",
       " 15     JakeRodgers  101.099903\n",
       " 19    DenzellGoode  101.099903, 'TE':                  name       value\n",
       " 0       DevinFunchess  153.791967\n",
       " 2        CliveWalford  133.259839\n",
       " 3          TylerKroft  123.216958\n",
       " 8          JesseJames  115.935663\n",
       " 1        MaxxWilliams  112.476517\n",
       " 4        JeffHeuerman  104.077919\n",
       " 13      RandallTelfer   98.725840\n",
       " 11         NickOLeary   96.575920\n",
       " 16          BenKoyack   94.012209\n",
       " 19    GeraldChristian   83.045074\n",
       " 15     KennardBackman   82.893781\n",
       " 12     MalcolmJohnson   78.280776\n",
       " 14            AJDerby   78.118555\n",
       " 6        MyColePruitt   77.304719\n",
       " 18  RoryBustaAnderson   74.643992\n",
       " 5           BlakeBell   45.386294\n",
       " 9           NickBoyle   42.087559\n",
       " 7            CJUzomah   38.831602\n",
       " 17         GeoffSwaim   38.831602\n",
       " 10  JamesOShaughnessy   38.831602, 'WR':                   name       value\n",
       " 0          AmariCooper  189.136274\n",
       " 10         ChrisConley  179.340402\n",
       " 9         JaelenStrong  173.787222\n",
       " 8         TylerLockett  173.106072\n",
       " 11        SammieCoates  168.530894\n",
       " 21           KennyBell  157.598511\n",
       " 5       PhillipDorsett  154.323204\n",
       " 6           DevinSmith  146.938948\n",
       " 30          DaRonBrown  145.761349\n",
       " 12        TyMontgomery  144.921496\n",
       " 17        RashadGreene  144.280602\n",
       " 18         StefonDiggs  140.274444\n",
       " 7   DorialGreenBeckham  137.824604\n",
       " 27        DarrenWaller  131.759834\n",
       " 20            JJNelson  129.672176\n",
       " 32         MarioAlford  127.922065\n",
       " 33          TreMcBride  126.205160\n",
       " 2        DeVanteParker  125.504146\n",
       " 4      BreshadPerriman  124.775023\n",
       " 3        NelsonAgholor  122.862702\n",
       " 24         GeremyDavis  120.370756\n",
       " 15          VinceMayle  114.105476\n",
       " 1           KevinWhite  107.859746\n",
       " 14         JustinHardy  107.696885\n",
       " 26           BudSasser  107.330579\n",
       " 19         TonyLippett  105.043995\n",
       " 13      JamisonCrowder  103.816765\n",
       " 31         DezminLewis   93.663946\n",
       " 16      DeAndreSmelter   91.282805\n",
       " 22       KeithMumphery   87.362669\n",
       " 29         AndreDebose   83.911954\n",
       " 28        NealSterling   83.911954\n",
       " 25         EvanSpencer   83.911954\n",
       " 23          KaelinClay   53.614175}"
      ]
     },
     "execution_count": 19,
     "metadata": {},
     "output_type": "execute_result"
    }
   ],
   "source": [
    "output"
   ]
  },
  {
   "cell_type": "code",
   "execution_count": null,
   "metadata": {
    "collapsed": true
   },
   "outputs": [],
   "source": []
  }
 ],
 "metadata": {
  "kernelspec": {
   "display_name": "Python 2",
   "language": "python",
   "name": "python2"
  },
  "language_info": {
   "codemirror_mode": {
    "name": "ipython",
    "version": 2
   },
   "file_extension": ".py",
   "mimetype": "text/x-python",
   "name": "python",
   "nbconvert_exporter": "python",
   "pygments_lexer": "ipython2",
   "version": "2.7.14"
  }
 },
 "nbformat": 4,
 "nbformat_minor": 2
}
