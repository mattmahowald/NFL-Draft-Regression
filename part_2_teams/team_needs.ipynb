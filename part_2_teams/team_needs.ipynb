{
 "cells": [
  {
   "cell_type": "code",
   "execution_count": 1,
   "metadata": {
    "collapsed": true
   },
   "outputs": [],
   "source": [
    "import pandas as pd\n",
    "from sklearn import datasets, linear_model\n",
    "from sklearn.metrics import mean_squared_error, r2_score\n",
    "from sklearn.model_selection import cross_val_score\n",
    "from sklearn.model_selection import KFold\n",
    "from sklearn.preprocessing import StandardScaler\n",
    "from sklearn.pipeline import Pipeline\n",
    "import numpy as np\n",
    "from collections import defaultdict\n",
    "import math"
   ]
  },
  {
   "cell_type": "code",
   "execution_count": 66,
   "metadata": {},
   "outputs": [],
   "source": [
    "df = pd.read_csv('data/salaries.test.csv')"
   ]
  },
  {
   "cell_type": "code",
   "execution_count": 69,
   "metadata": {},
   "outputs": [
    {
     "data": {
      "text/plain": [
       "array(['QB', 'LB', 'WR', 'DB', 'DE', 'C', 'TE', 'T', 'DT', 'G', 'FB', 'RB',\n",
       "       'LS', 'P', 'K'], dtype=object)"
      ]
     },
     "execution_count": 69,
     "metadata": {},
     "output_type": "execute_result"
    }
   ],
   "source": [
    "df['Pos.'].unique()"
   ]
  },
  {
   "cell_type": "code",
   "execution_count": 70,
   "metadata": {},
   "outputs": [
    {
     "data": {
      "text/plain": [
       "array([2011, 2012, 2013])"
      ]
     },
     "execution_count": 70,
     "metadata": {},
     "output_type": "execute_result"
    }
   ],
   "source": [
    "salaries.year.unique()"
   ]
  },
  {
   "cell_type": "code",
   "execution_count": 51,
   "metadata": {},
   "outputs": [],
   "source": [
    "def featureExtractor(filename, features):\n",
    "    salaries = pd.read_csv(filename)\n",
    "    teams = salaries.team.unique()\n",
    "    years = salaries.year.unique()\n",
    "    allFeatures = []\n",
    "    for year in years:\n",
    "        for team in teams:\n",
    "            result = []\n",
    "            sliced = salaries[((salaries['team'] == team) & (salaries['year'] == year))]\n",
    "            teamFeatures = defaultdict(lambda: [])\n",
    "            for index, row in sliced.iterrows():                \n",
    "                pos = row['Pos.']\n",
    "                cap = row['Cap %']\n",
    "                teamFeatures[pos].append(cap)\n",
    "            for (position, count) in features:\n",
    "                posList = sorted(teamFeatures[position], reverse=True)\n",
    "                for count in range(count):\n",
    "                    if len(posList) == 0:\n",
    "                        result.append(0)\n",
    "                    else:\n",
    "                        result.append(posList[0])\n",
    "                        posList = posList[1:]\n",
    "            allFeatures.append((team, year, result))\n",
    "    return allFeatures"
   ]
  },
  {
   "cell_type": "code",
   "execution_count": 52,
   "metadata": {},
   "outputs": [],
   "source": [
    "features = [('QB', 1), ('RB', 1), ('DB', 4), ('LB', 3), ('C', 1), ('DE', 2), ('DT', 2), ('G', 2), ('TE', 2), ('WR', 3), ('T', 2)]\n",
    "teamFeatures = featureExtractor('data/salaries.train.csv', features)\n",
    "# for (team, year, vec) in teamFeatures:\n",
    "#     print team, year, vec"
   ]
  },
  {
   "cell_type": "code",
   "execution_count": 53,
   "metadata": {},
   "outputs": [],
   "source": [
    "def distance(vec1, vec2):\n",
    "    return np.linalg.norm(np.array(vec1)-np.array(vec2))"
   ]
  },
  {
   "cell_type": "code",
   "execution_count": 54,
   "metadata": {},
   "outputs": [],
   "source": [
    "def kNN(featureVec, teamFeatures, k):\n",
    "    kTop = [float('inf')] * k\n",
    "    kTeams = [('', 0)] * k\n",
    "    for (team, year, vec) in teamFeatures:\n",
    "        dist = distance(vec, featureVec)\n",
    "        if dist < max(kTop):\n",
    "            minIndex = kTop.index(max(kTop))\n",
    "            kTop[minIndex] = dist\n",
    "            kTeams[minIndex] = (team, year, dist)\n",
    "    return kTeams"
   ]
  },
  {
   "cell_type": "code",
   "execution_count": 55,
   "metadata": {},
   "outputs": [
    {
     "name": "stdout",
     "output_type": "stream",
     "text": [
      "[('pittsburgh-steelers', 2012, 11.365214472239403), ('kansas-city-chiefs', 2013, 10.250731681202078), ('baltimore-ravens', 2011, 10.996344847266295), ('indianapolis-colts', 2012, 8.5193309596470073), ('denver-broncos', 2011, 0.0), ('baltimore-ravens', 2012, 11.894465099364494), ('baltimore-ravens', 2013, 11.906850969084983), ('indianapolis-colts', 2013, 11.079115488160596), ('new-york-jets', 2012, 10.730745547258122), ('san-francisco-49ers', 2012, 11.587186888973527)]\n"
     ]
    }
   ],
   "source": [
    "print kNN([1.95, 2.39, 10.16, 3.22, 0.75, 0.55, 14.43, 5.68, 3.53, 0.56, 1.9, 0.8, 2.54, 1.77, 4.54, 0.8, 0.49, 0.44, 2.0, 1.13, 0.54, 4.51, 0.37], teamFeatures, 10)"
   ]
  },
  {
   "cell_type": "code",
   "execution_count": 56,
   "metadata": {},
   "outputs": [],
   "source": [
    "teams = {'PIT':'pittsburgh-steelers', 'CIN':'cincinnati-bengals', 'BAL':'baltimore-ravens', 'CLE':'cleveland-browns',\n",
    "         'NWE':'new-england-patriots', 'BUF':'buffalo-bills', 'MIA':'miami-dolphins', 'NYJ':'new-york-jets',\n",
    "         'TEN':'tennessee-titans', 'HOU':'houston-texans', 'IND':'indianapolis-colts', 'JAX':'jacksonville-jaguars',\n",
    "         'KAN':'kansas-city-chiefs', 'OAK':'oakland-raiders', 'DEN':'denver-broncos', 'SDG':'san-diego-chargers',\n",
    "         'GNB':'green-bay-packers', 'MIN':'minnesota-vikings', 'DET':'detroit-lions', 'CHI':'chicago-bears',\n",
    "         'DAL':'dallas-cowboys', 'NYG':'new-york-giants', 'PHI':'philadelphia-eagles', 'WAS':'washington-redskins',\n",
    "         'CAR':'carolina-panthers', 'ATL':'atlanta-falcons', 'NWO':'new-orleans-saints', 'TAM':'tampa-bay-buccaneers',\n",
    "         'SEA':'seattle-seahawks', 'ARI':'arizona-cardinals', 'STL':'st.-louis-rams', 'SFO':'san-francisco-49ers'}"
   ]
  },
  {
   "cell_type": "code",
   "execution_count": 80,
   "metadata": {},
   "outputs": [],
   "source": [
    "def get_draft_position(filename):\n",
    "    '''Returns a dict mapping team to position selected in the first round'''\n",
    "    teams = {'PIT':'pittsburgh-steelers', 'CIN':'cincinnati-bengals', 'BAL':'baltimore-ravens', 'CLE':'cleveland-browns',\n",
    "         'NWE':'new-england-patriots', 'BUF':'buffalo-bills', 'MIA':'miami-dolphins', 'NYJ':'new-york-jets',\n",
    "         'TEN':'tennessee-titans', 'HOU':'houston-texans', 'IND':'indianapolis-colts', 'JAX':'jacksonville-jaguars',\n",
    "         'KAN':'kansas-city-chiefs', 'OAK':'oakland-raiders', 'DEN':'denver-broncos', 'SDG':'san-diego-chargers',\n",
    "         'GNB':'green-bay-packers', 'MIN':'minnesota-vikings', 'DET':'detroit-lions', 'CHI':'chicago-bears',\n",
    "         'DAL':'dallas-cowboys', 'NYG':'new-york-giants', 'PHI':'philadelphia-eagles', 'WAS':'washington-redskins',\n",
    "         'CAR':'carolina-panthers', 'ATL':'atlanta-falcons', 'NOR':'new-orleans-saints', 'TAM':'tampa-bay-buccaneers',\n",
    "         'SEA':'seattle-seahawks', 'ARI':'arizona-cardinals', 'STL':'st.-louis-rams', 'SFO':'san-francisco-49ers'}\n",
    "    draft = pd.read_csv(filename)\n",
    "#     print draft.head(3)\n",
    "    draft_order = {}\n",
    "    for _, row in draft.iterrows():\n",
    "        if row['Tm'] in teams:\n",
    "            draft_order[(row['Year'], teams[row['Tm']])] = row['Position Standard']\n",
    "        else:\n",
    "            print 'not found', row\n",
    "    return draft_order\n",
    "    "
   ]
  },
  {
   "cell_type": "code",
   "execution_count": 85,
   "metadata": {},
   "outputs": [],
   "source": [
    "def predict_draft_position(feature_vector, draft_picks, teamFeatures):\n",
    "    kTeams = kNN(feature_vector, teamFeatures, 10)\n",
    "    similar_drafts = defaultdict(int)\n",
    "    for team_data in kTeams:\n",
    "        team, year, distance = team_data\n",
    "        if (year, team) in draft_picks:\n",
    "            similar_drafts[draft_picks[(year, team)]] += 1\n",
    "    return similar_drafts\n",
    "        "
   ]
  },
  {
   "cell_type": "code",
   "execution_count": 86,
   "metadata": {},
   "outputs": [
    {
     "name": "stdout",
     "output_type": "stream",
     "text": [
      "defaultdict(<type 'int'>, {'LB': 1, 'G': 1, 'DE': 2, 'DB': 1, 'T': 3, 'DT': 1})\n",
      "defaultdict(<type 'int'>, {'G': 1, 'DE': 2, 'QB': 4, 'WR': 1, 'RB': 1, 'TE': 1})\n",
      "defaultdict(<type 'int'>, {'LB': 1, 'DE': 4, 'DB': 1, 'T': 2, 'G': 1})\n",
      "defaultdict(<type 'int'>, {'DT': 1, 'DE': 3, 'WR': 1, 'G': 1, 'QB': 4})\n",
      "defaultdict(<type 'int'>, {'DB': 1, 'DE': 2, 'LB': 1, 'T': 3, 'RB': 1})\n",
      "defaultdict(<type 'int'>, {'DT': 1, 'DE': 5, 'DB': 1, 'G': 1, 'QB': 1})\n",
      "defaultdict(<type 'int'>, {'LB': 2, 'G': 1, 'DE': 2, 'QB': 2, 'T': 1, 'DT': 1})\n",
      "defaultdict(<type 'int'>, {'C': 1, 'G': 1, 'DE': 1, 'DB': 1, 'T': 2, 'DT': 3})\n",
      "defaultdict(<type 'int'>, {'G': 2, 'DE': 2, 'DB': 1, 'QB': 2, 'WR': 2, 'T': 1})\n",
      "defaultdict(<type 'int'>, {'G': 1, 'DE': 4, 'QB': 1, 'WR': 2, 'TE': 1, 'T': 1})\n",
      "defaultdict(<type 'int'>, {'C': 1, 'DE': 1, 'WR': 2, 'RB': 1, 'DT': 1, 'T': 3})\n",
      "defaultdict(<type 'int'>, {'DE': 2, 'DB': 2, 'QB': 2, 'T': 1, 'DT': 2, 'WR': 1})\n",
      "defaultdict(<type 'int'>, {'G': 1, 'DE': 3, 'DB': 1, 'WR': 2, 'RB': 1, 'DT': 2})\n",
      "defaultdict(<type 'int'>, {'DB': 1, 'DT': 1, 'DE': 1, 'LB': 1, 'G': 1})\n",
      "defaultdict(<type 'int'>, {'LB': 1, 'G': 1, 'DE': 2, 'DB': 2, 'QB': 1, 'T': 1, 'WR': 1})\n",
      "defaultdict(<type 'int'>, {'DT': 2, 'DE': 1, 'DB': 2, 'T': 3, 'WR': 1})\n",
      "defaultdict(<type 'int'>, {'DE': 3, 'DB': 1, 'T': 1, 'QB': 1})\n",
      "defaultdict(<type 'int'>, {'G': 1, 'DE': 3, 'DB': 1, 'QB': 3, 'WR': 1, 'T': 1})\n",
      "defaultdict(<type 'int'>, {'LB': 1, 'G': 1, 'DE': 1, 'DB': 2, 'T': 1, 'RB': 1, 'DT': 1})\n",
      "defaultdict(<type 'int'>, {'C': 1, 'G': 1, 'DE': 3, 'T': 1, 'DT': 3, 'WR': 1})\n"
     ]
    }
   ],
   "source": [
    "features = [('QB', 1), ('RB', 1), ('DB', 4), ('LB', 3), ('C', 1), ('DE', 2), ('DT', 2), ('G', 2), ('TE', 2), ('WR', 3), ('T', 2)]\n",
    "teamFeatures = featureExtractor('data/salaries.train.csv', features)\n",
    "# teamFeatures[0][2] selects the feature vector from the head elem\n",
    "for i in range(20):\n",
    "    print predict_draft_position(teamFeatures[i][2], get_draft_position('data/nfldraft.train.csv'), teamFeatures)"
   ]
  },
  {
   "cell_type": "code",
   "execution_count": null,
   "metadata": {},
   "outputs": [],
   "source": []
  },
  {
   "cell_type": "code",
   "execution_count": null,
   "metadata": {},
   "outputs": [],
   "source": []
  },
  {
   "cell_type": "code",
   "execution_count": null,
   "metadata": {},
   "outputs": [],
   "source": []
  },
  {
   "cell_type": "code",
   "execution_count": null,
   "metadata": {},
   "outputs": [],
   "source": []
  },
  {
   "cell_type": "code",
   "execution_count": null,
   "metadata": {},
   "outputs": [],
   "source": []
  },
  {
   "cell_type": "code",
   "execution_count": null,
   "metadata": {},
   "outputs": [],
   "source": []
  },
  {
   "cell_type": "code",
   "execution_count": null,
   "metadata": {},
   "outputs": [],
   "source": []
  },
  {
   "cell_type": "code",
   "execution_count": 10,
   "metadata": {},
   "outputs": [
    {
     "ename": "IOError",
     "evalue": "File data/nfl_data.train.csv does not exist",
     "output_type": "error",
     "traceback": [
      "\u001b[0;31m---------------------------------------------------------------------------\u001b[0m",
      "\u001b[0;31mIOError\u001b[0m                                   Traceback (most recent call last)",
      "\u001b[0;32m<ipython-input-10-56adf4130c9d>\u001b[0m in \u001b[0;36m<module>\u001b[0;34m()\u001b[0m\n\u001b[0;32m----> 1\u001b[0;31m \u001b[0;32mprint\u001b[0m \u001b[0mget_draft_position\u001b[0m\u001b[0;34m(\u001b[0m\u001b[0;34m'data/nfl_data.train.csv'\u001b[0m\u001b[0;34m)\u001b[0m\u001b[0;34m\u001b[0m\u001b[0m\n\u001b[0m",
      "\u001b[0;32m<ipython-input-8-40153e665c8f>\u001b[0m in \u001b[0;36mget_draft_position\u001b[0;34m(filename)\u001b[0m\n\u001b[1;32m      9\u001b[0m          \u001b[0;34m'CAR'\u001b[0m\u001b[0;34m:\u001b[0m\u001b[0;34m'carolina-panthers'\u001b[0m\u001b[0;34m,\u001b[0m \u001b[0;34m'ATL'\u001b[0m\u001b[0;34m:\u001b[0m\u001b[0;34m'atlanta-falcons'\u001b[0m\u001b[0;34m,\u001b[0m \u001b[0;34m'NWO'\u001b[0m\u001b[0;34m:\u001b[0m\u001b[0;34m'new-orleans-saints'\u001b[0m\u001b[0;34m,\u001b[0m \u001b[0;34m'TAM'\u001b[0m\u001b[0;34m:\u001b[0m\u001b[0;34m'tampa-bay-buccaneers'\u001b[0m\u001b[0;34m,\u001b[0m\u001b[0;34m\u001b[0m\u001b[0m\n\u001b[1;32m     10\u001b[0m          'SEA':'seattle-seahawks', 'ARI':'arizona-cardinals', 'STL':'st.-louis-rams', 'SFO':'san-francisco-49ers'}\n\u001b[0;32m---> 11\u001b[0;31m     \u001b[0mdraft\u001b[0m \u001b[0;34m=\u001b[0m \u001b[0mpd\u001b[0m\u001b[0;34m.\u001b[0m\u001b[0mread_csv\u001b[0m\u001b[0;34m(\u001b[0m\u001b[0mfilename\u001b[0m\u001b[0;34m)\u001b[0m\u001b[0;34m\u001b[0m\u001b[0m\n\u001b[0m\u001b[1;32m     12\u001b[0m     \u001b[0;32mreturn\u001b[0m \u001b[0;34m'test'\u001b[0m\u001b[0;34m\u001b[0m\u001b[0m\n\u001b[1;32m     13\u001b[0m \u001b[0;34m\u001b[0m\u001b[0m\n",
      "\u001b[0;32m/usr/local/lib/python2.7/site-packages/pandas/io/parsers.pyc\u001b[0m in \u001b[0;36mparser_f\u001b[0;34m(filepath_or_buffer, sep, delimiter, header, names, index_col, usecols, squeeze, prefix, mangle_dupe_cols, dtype, engine, converters, true_values, false_values, skipinitialspace, skiprows, nrows, na_values, keep_default_na, na_filter, verbose, skip_blank_lines, parse_dates, infer_datetime_format, keep_date_col, date_parser, dayfirst, iterator, chunksize, compression, thousands, decimal, lineterminator, quotechar, quoting, escapechar, comment, encoding, dialect, tupleize_cols, error_bad_lines, warn_bad_lines, skipfooter, skip_footer, doublequote, delim_whitespace, as_recarray, compact_ints, use_unsigned, low_memory, buffer_lines, memory_map, float_precision)\u001b[0m\n\u001b[1;32m    643\u001b[0m                     skip_blank_lines=skip_blank_lines)\n\u001b[1;32m    644\u001b[0m \u001b[0;34m\u001b[0m\u001b[0m\n\u001b[0;32m--> 645\u001b[0;31m         \u001b[0;32mreturn\u001b[0m \u001b[0m_read\u001b[0m\u001b[0;34m(\u001b[0m\u001b[0mfilepath_or_buffer\u001b[0m\u001b[0;34m,\u001b[0m \u001b[0mkwds\u001b[0m\u001b[0;34m)\u001b[0m\u001b[0;34m\u001b[0m\u001b[0m\n\u001b[0m\u001b[1;32m    646\u001b[0m \u001b[0;34m\u001b[0m\u001b[0m\n\u001b[1;32m    647\u001b[0m     \u001b[0mparser_f\u001b[0m\u001b[0;34m.\u001b[0m\u001b[0m__name__\u001b[0m \u001b[0;34m=\u001b[0m \u001b[0mname\u001b[0m\u001b[0;34m\u001b[0m\u001b[0m\n",
      "\u001b[0;32m/usr/local/lib/python2.7/site-packages/pandas/io/parsers.pyc\u001b[0m in \u001b[0;36m_read\u001b[0;34m(filepath_or_buffer, kwds)\u001b[0m\n\u001b[1;32m    386\u001b[0m \u001b[0;34m\u001b[0m\u001b[0m\n\u001b[1;32m    387\u001b[0m     \u001b[0;31m# Create the parser.\u001b[0m\u001b[0;34m\u001b[0m\u001b[0;34m\u001b[0m\u001b[0m\n\u001b[0;32m--> 388\u001b[0;31m     \u001b[0mparser\u001b[0m \u001b[0;34m=\u001b[0m \u001b[0mTextFileReader\u001b[0m\u001b[0;34m(\u001b[0m\u001b[0mfilepath_or_buffer\u001b[0m\u001b[0;34m,\u001b[0m \u001b[0;34m**\u001b[0m\u001b[0mkwds\u001b[0m\u001b[0;34m)\u001b[0m\u001b[0;34m\u001b[0m\u001b[0m\n\u001b[0m\u001b[1;32m    389\u001b[0m \u001b[0;34m\u001b[0m\u001b[0m\n\u001b[1;32m    390\u001b[0m     \u001b[0;32mif\u001b[0m \u001b[0;34m(\u001b[0m\u001b[0mnrows\u001b[0m \u001b[0;32mis\u001b[0m \u001b[0;32mnot\u001b[0m \u001b[0mNone\u001b[0m\u001b[0;34m)\u001b[0m \u001b[0;32mand\u001b[0m \u001b[0;34m(\u001b[0m\u001b[0mchunksize\u001b[0m \u001b[0;32mis\u001b[0m \u001b[0;32mnot\u001b[0m \u001b[0mNone\u001b[0m\u001b[0;34m)\u001b[0m\u001b[0;34m:\u001b[0m\u001b[0;34m\u001b[0m\u001b[0m\n",
      "\u001b[0;32m/usr/local/lib/python2.7/site-packages/pandas/io/parsers.pyc\u001b[0m in \u001b[0;36m__init__\u001b[0;34m(self, f, engine, **kwds)\u001b[0m\n\u001b[1;32m    727\u001b[0m             \u001b[0mself\u001b[0m\u001b[0;34m.\u001b[0m\u001b[0moptions\u001b[0m\u001b[0;34m[\u001b[0m\u001b[0;34m'has_index_names'\u001b[0m\u001b[0;34m]\u001b[0m \u001b[0;34m=\u001b[0m \u001b[0mkwds\u001b[0m\u001b[0;34m[\u001b[0m\u001b[0;34m'has_index_names'\u001b[0m\u001b[0;34m]\u001b[0m\u001b[0;34m\u001b[0m\u001b[0m\n\u001b[1;32m    728\u001b[0m \u001b[0;34m\u001b[0m\u001b[0m\n\u001b[0;32m--> 729\u001b[0;31m         \u001b[0mself\u001b[0m\u001b[0;34m.\u001b[0m\u001b[0m_make_engine\u001b[0m\u001b[0;34m(\u001b[0m\u001b[0mself\u001b[0m\u001b[0;34m.\u001b[0m\u001b[0mengine\u001b[0m\u001b[0;34m)\u001b[0m\u001b[0;34m\u001b[0m\u001b[0m\n\u001b[0m\u001b[1;32m    730\u001b[0m \u001b[0;34m\u001b[0m\u001b[0m\n\u001b[1;32m    731\u001b[0m     \u001b[0;32mdef\u001b[0m \u001b[0mclose\u001b[0m\u001b[0;34m(\u001b[0m\u001b[0mself\u001b[0m\u001b[0;34m)\u001b[0m\u001b[0;34m:\u001b[0m\u001b[0;34m\u001b[0m\u001b[0m\n",
      "\u001b[0;32m/usr/local/lib/python2.7/site-packages/pandas/io/parsers.pyc\u001b[0m in \u001b[0;36m_make_engine\u001b[0;34m(self, engine)\u001b[0m\n\u001b[1;32m    920\u001b[0m     \u001b[0;32mdef\u001b[0m \u001b[0m_make_engine\u001b[0m\u001b[0;34m(\u001b[0m\u001b[0mself\u001b[0m\u001b[0;34m,\u001b[0m \u001b[0mengine\u001b[0m\u001b[0;34m=\u001b[0m\u001b[0;34m'c'\u001b[0m\u001b[0;34m)\u001b[0m\u001b[0;34m:\u001b[0m\u001b[0;34m\u001b[0m\u001b[0m\n\u001b[1;32m    921\u001b[0m         \u001b[0;32mif\u001b[0m \u001b[0mengine\u001b[0m \u001b[0;34m==\u001b[0m \u001b[0;34m'c'\u001b[0m\u001b[0;34m:\u001b[0m\u001b[0;34m\u001b[0m\u001b[0m\n\u001b[0;32m--> 922\u001b[0;31m             \u001b[0mself\u001b[0m\u001b[0;34m.\u001b[0m\u001b[0m_engine\u001b[0m \u001b[0;34m=\u001b[0m \u001b[0mCParserWrapper\u001b[0m\u001b[0;34m(\u001b[0m\u001b[0mself\u001b[0m\u001b[0;34m.\u001b[0m\u001b[0mf\u001b[0m\u001b[0;34m,\u001b[0m \u001b[0;34m**\u001b[0m\u001b[0mself\u001b[0m\u001b[0;34m.\u001b[0m\u001b[0moptions\u001b[0m\u001b[0;34m)\u001b[0m\u001b[0;34m\u001b[0m\u001b[0m\n\u001b[0m\u001b[1;32m    923\u001b[0m         \u001b[0;32melse\u001b[0m\u001b[0;34m:\u001b[0m\u001b[0;34m\u001b[0m\u001b[0m\n\u001b[1;32m    924\u001b[0m             \u001b[0;32mif\u001b[0m \u001b[0mengine\u001b[0m \u001b[0;34m==\u001b[0m \u001b[0;34m'python'\u001b[0m\u001b[0;34m:\u001b[0m\u001b[0;34m\u001b[0m\u001b[0m\n",
      "\u001b[0;32m/usr/local/lib/python2.7/site-packages/pandas/io/parsers.pyc\u001b[0m in \u001b[0;36m__init__\u001b[0;34m(self, src, **kwds)\u001b[0m\n\u001b[1;32m   1387\u001b[0m         \u001b[0mkwds\u001b[0m\u001b[0;34m[\u001b[0m\u001b[0;34m'allow_leading_cols'\u001b[0m\u001b[0;34m]\u001b[0m \u001b[0;34m=\u001b[0m \u001b[0mself\u001b[0m\u001b[0;34m.\u001b[0m\u001b[0mindex_col\u001b[0m \u001b[0;32mis\u001b[0m \u001b[0;32mnot\u001b[0m \u001b[0mFalse\u001b[0m\u001b[0;34m\u001b[0m\u001b[0m\n\u001b[1;32m   1388\u001b[0m \u001b[0;34m\u001b[0m\u001b[0m\n\u001b[0;32m-> 1389\u001b[0;31m         \u001b[0mself\u001b[0m\u001b[0;34m.\u001b[0m\u001b[0m_reader\u001b[0m \u001b[0;34m=\u001b[0m \u001b[0m_parser\u001b[0m\u001b[0;34m.\u001b[0m\u001b[0mTextReader\u001b[0m\u001b[0;34m(\u001b[0m\u001b[0msrc\u001b[0m\u001b[0;34m,\u001b[0m \u001b[0;34m**\u001b[0m\u001b[0mkwds\u001b[0m\u001b[0;34m)\u001b[0m\u001b[0;34m\u001b[0m\u001b[0m\n\u001b[0m\u001b[1;32m   1390\u001b[0m \u001b[0;34m\u001b[0m\u001b[0m\n\u001b[1;32m   1391\u001b[0m         \u001b[0;31m# XXX\u001b[0m\u001b[0;34m\u001b[0m\u001b[0;34m\u001b[0m\u001b[0m\n",
      "\u001b[0;32mpandas/parser.pyx\u001b[0m in \u001b[0;36mpandas.parser.TextReader.__cinit__ (pandas/parser.c:4175)\u001b[0;34m()\u001b[0m\n",
      "\u001b[0;32mpandas/parser.pyx\u001b[0m in \u001b[0;36mpandas.parser.TextReader._setup_parser_source (pandas/parser.c:8440)\u001b[0;34m()\u001b[0m\n",
      "\u001b[0;31mIOError\u001b[0m: File data/nfl_data.train.csv does not exist"
     ]
    }
   ],
   "source": []
  },
  {
   "cell_type": "code",
   "execution_count": null,
   "metadata": {},
   "outputs": [],
   "source": []
  },
  {
   "cell_type": "code",
   "execution_count": null,
   "metadata": {},
   "outputs": [],
   "source": []
  },
  {
   "cell_type": "code",
   "execution_count": null,
   "metadata": {},
   "outputs": [],
   "source": []
  },
  {
   "cell_type": "code",
   "execution_count": null,
   "metadata": {},
   "outputs": [],
   "source": []
  }
 ],
 "metadata": {
  "kernelspec": {
   "display_name": "Python 2",
   "language": "python",
   "name": "python2"
  },
  "language_info": {
   "codemirror_mode": {
    "name": "ipython",
    "version": 2
   },
   "file_extension": ".py",
   "mimetype": "text/x-python",
   "name": "python",
   "nbconvert_exporter": "python",
   "pygments_lexer": "ipython2",
   "version": "2.7.11"
  }
 },
 "nbformat": 4,
 "nbformat_minor": 2
}
