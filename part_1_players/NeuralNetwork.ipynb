{
 "cells": [
  {
   "cell_type": "code",
   "execution_count": 1,
   "metadata": {},
   "outputs": [
    {
     "name": "stderr",
     "output_type": "stream",
     "text": [
      "Using TensorFlow backend.\n"
     ]
    }
   ],
   "source": [
    "import numpy as np\n",
    "import pandas as pd\n",
    "from keras.models import Sequential\n",
    "from keras.layers import Dense\n",
    "from keras.wrappers.scikit_learn import KerasRegressor\n",
    "from sklearn.model_selection import cross_val_score\n",
    "from sklearn.metrics import mean_squared_error, r2_score\n",
    "from sklearn.model_selection import KFold\n",
    "from sklearn.preprocessing import StandardScaler\n",
    "from sklearn.pipeline import Pipeline\n",
    "from collections import defaultdict\n",
    "import math"
   ]
  },
  {
   "cell_type": "code",
   "execution_count": 2,
   "metadata": {
    "collapsed": true
   },
   "outputs": [],
   "source": [
    "# format the data to be fed into the network\n",
    "combine_cleaned = pd.read_csv('combine_cleaned.csv')\n",
    "final_continuous = pd.read_csv('finalData.csv')\n",
    "final_discrete = pd.read_csv('discreteFeatures.csv')\n",
    "train_continuous = pd.read_csv('finalData.csv')\n",
    "test_continuous = pd.read_csv('finalData.csv')\n",
    "train_discrete = pd.read_csv('finalData.csv')\n",
    "test_discrete = pd.read_csv('finalData.csv')\n",
    "\n",
    "# Set which of the datasets to use \n",
    "data = final_continuous\n",
    "TEST_YEAR = 2015"
   ]
  },
  {
   "cell_type": "code",
   "execution_count": 3,
   "metadata": {
    "collapsed": true
   },
   "outputs": [],
   "source": [
    "features = ['heightinchestotal', 'weight', 'fortyyd', 'vertical', 'bench', 'twentyss', 'threecone', 'broad', \n",
    "            'games', 'rushingAtt', 'rushingYds', 'rushingAvg', 'rushingTD', 'passCmp',\n",
    "            'passPct', 'passYds', 'passTD', 'passInt', 'passRate', 'recYds', 'recAtt', 'recTD', 'recAvg', 'soloTackles', \n",
    "            'tackleAssists', 'totalTackles', 'sacks', 'ints', 'intTDs', 'passDef', 'fumbles', 'fumblesForced']"
   ]
  },
  {
   "cell_type": "code",
   "execution_count": 4,
   "metadata": {
    "collapsed": true
   },
   "outputs": [],
   "source": [
    "featuresDiscrete = [] # TO-DO - add all features from discretized data"
   ]
  },
  {
   "cell_type": "code",
   "execution_count": 5,
   "metadata": {
    "collapsed": true,
    "scrolled": true
   },
   "outputs": [],
   "source": [
    "numFeatures = len(features) + 1"
   ]
  },
  {
   "cell_type": "code",
   "execution_count": 6,
   "metadata": {
    "collapsed": true
   },
   "outputs": [],
   "source": [
    "# get player values/draft positions based on 'nfl_draft' data\n",
    "def get_player_draft_info():\n",
    "    valuesMap = {}\n",
    "    pickMap = {}\n",
    "    MAX_VALUE = 256 # number of draft picks + 1 (7 rounds * 32 picks + 32 compensatory + 1)\n",
    "    for index, row in data.iterrows():\n",
    "        primaryKey = (row['name'], row['year'])\n",
    "        valuesMap[primaryKey] = (MAX_VALUE - row['pick'])\n",
    "        pickMap[primaryKey] = row['pick']\n",
    "    return valuesMap, pickMap"
   ]
  },
  {
   "cell_type": "code",
   "execution_count": 7,
   "metadata": {
    "collapsed": true
   },
   "outputs": [],
   "source": [
    "# Creates list of positions to partition by\n",
    "positionsSet = set()\n",
    "for position in data['pos']:\n",
    "    positionsSet.add(position)\n",
    "positions = list(positionsSet)"
   ]
  },
  {
   "cell_type": "code",
   "execution_count": 8,
   "metadata": {
    "collapsed": true
   },
   "outputs": [],
   "source": [
    "draftValues, draftPositions = get_player_draft_info()"
   ]
  },
  {
   "cell_type": "code",
   "execution_count": 9,
   "metadata": {
    "collapsed": true
   },
   "outputs": [],
   "source": [
    "combineFeatures = data[['name', 'pos', 'year'] + features]"
   ]
  },
  {
   "cell_type": "code",
   "execution_count": 10,
   "metadata": {
    "collapsed": true
   },
   "outputs": [],
   "source": [
    "def get_position_maps():\n",
    "    positionMaps = {}\n",
    "    for position in positions:\n",
    "        positionMaps[position] = combineFeatures[combineFeatures['pos'] == position]\n",
    "    return positionMaps"
   ]
  },
  {
   "cell_type": "code",
   "execution_count": 11,
   "metadata": {
    "collapsed": true
   },
   "outputs": [],
   "source": [
    "positionMaps = get_position_maps()"
   ]
  },
  {
   "cell_type": "code",
   "execution_count": 12,
   "metadata": {
    "collapsed": true
   },
   "outputs": [],
   "source": [
    "# build X matrix and \n",
    "def build_data_arrays():\n",
    "    X = defaultdict(list)\n",
    "    Y = defaultdict(list)\n",
    "    xTrain = defaultdict(list)\n",
    "    yTrain = defaultdict(list)\n",
    "    xTest = defaultdict(list)\n",
    "    yTest = defaultdict(list)\n",
    "    names = defaultdict(list)\n",
    "    for position in positionMaps:\n",
    "        for index, row in positionMaps[position].iterrows(): \n",
    "            X[position].append(row[3:])                  \n",
    "            Y[position].append(draftValues[(row['name'], row['year'])])\n",
    "            if row['year'] == TEST_YEAR:\n",
    "                xTest[position].append(row[3:]) \n",
    "                yTest[position].append(draftValues[(row['name'], row['year'])])\n",
    "                names[position].append(row['name'])\n",
    "            if not row['year'] == TEST_YEAR:\n",
    "                xTrain[position].append(row[3:])                  \n",
    "                yTrain[position].append(draftValues[(row['name'], row['year'])])\n",
    "    return X, Y, xTrain, yTrain, xTest, yTest, names"
   ]
  },
  {
   "cell_type": "code",
   "execution_count": 13,
   "metadata": {
    "collapsed": true
   },
   "outputs": [],
   "source": [
    "X, Y, xTrain, yTrain, xTest, yTest, names = build_data_arrays()"
   ]
  },
  {
   "cell_type": "code",
   "execution_count": 14,
   "metadata": {
    "collapsed": true
   },
   "outputs": [],
   "source": [
    "def base_model():\n",
    "    model = Sequential()\n",
    "    model.add(Dense(numFeatures, input_dim=numFeatures, kernel_initializer='normal', activation='relu'))\n",
    "    model.add(Dense(1, kernel_initializer='normal'))\n",
    "    model.compile(loss='mean_squared_error', optimizer='adam')\n",
    "    return model"
   ]
  },
  {
   "cell_type": "code",
   "execution_count": 15,
   "metadata": {
    "collapsed": true
   },
   "outputs": [],
   "source": [
    "def deep_model():\n",
    "    model = Sequential()\n",
    "    model.add(Dense(numFeatures, input_dim=numFeatures, kernel_initializer='normal', activation='relu'))\n",
    "    model.add(Dense(numFeatures // 2, kernel_initializer='normal'))\n",
    "    model.add(Dense(1, kernel_initializer='normal'))\n",
    "    model.compile(loss='mean_squared_error', optimizer='adam')\n",
    "    return model"
   ]
  },
  {
   "cell_type": "code",
   "execution_count": 16,
   "metadata": {
    "collapsed": true
   },
   "outputs": [],
   "source": [
    "def wide_model():\n",
    "    model = Sequential()\n",
    "    model.add(Dense(numFeatures, input_dim=numFeatures, kernel_initializer='normal', activation='relu'))\n",
    "    model.add(Dense(numFeatures * 2, kernel_initializer='normal'))\n",
    "    model.add(Dense(1, kernel_initializer='normal'))\n",
    "    model.compile(loss='mean_squared_error', optimizer='adam')\n",
    "    # model.compile(optimizer='rmsprop', loss='mse')\n",
    "    return model"
   ]
  },
  {
   "cell_type": "code",
   "execution_count": 17,
   "metadata": {
    "collapsed": true
   },
   "outputs": [],
   "source": [
    "seed = 7\n",
    "np.random.seed(seed)\n",
    "estimators = []\n",
    "estimators.append(('standardize', StandardScaler())) # Makes data Gaussian \n",
    "predictor = KerasRegressor(build_fn=base_model, nb_epoch=1000, batch_size=5, verbose=0)\n",
    "estimators.append(('mlp', predictor))\n",
    "pipeline = Pipeline(estimators)"
   ]
  },
  {
   "cell_type": "code",
   "execution_count": 18,
   "metadata": {
    "collapsed": true
   },
   "outputs": [],
   "source": [
    "numFolds = 10\n",
    "kFold = KFold(n_splits=numFolds, random_state=seed)\n",
    "def eval_data():\n",
    "    errorMap = {}\n",
    "    for p in positions:\n",
    "        if len(X[p]) > numFolds:\n",
    "            results = cross_val_score(pipeline, np.array(X[p]), np.array(Y[p]), cv=kFold)\n",
    "            errorMap[p] = (results.mean(), results.std())\n",
    "            print 'Results[{}]: mean={} (std={}) Mean Squared Error'.format(p, results.mean(), results.std())\n",
    "        else:\n",
    "            print 'Position: {} has too little data ({} row(s))'.format(p, len(X[p]))\n",
    "    return errorMap"
   ]
  },
  {
   "cell_type": "code",
   "execution_count": 19,
   "metadata": {
    "collapsed": true
   },
   "outputs": [],
   "source": [
    "# errors = eval_data()"
   ]
  },
  {
   "cell_type": "code",
   "execution_count": 20,
   "metadata": {
    "collapsed": true
   },
   "outputs": [],
   "source": [
    "# Map players to their true and predicted draft positions \n",
    "def get_relative_error(results, test_year):\n",
    "    trueDraftMap = {}      # true pick number\n",
    "    predictedDraftMap = {} # relative pick based on regression\n",
    "    i = 0\n",
    "    for index, row in results.iterrows():\n",
    "        trueDraftMap[row['name']] = draftPositions[(row['name'], test_year)] #need primary key to get draft positions \n",
    "        predictedDraftMap[row['name']] = i\n",
    "        i += 1\n",
    "    \n",
    "    # Compute absolute_error based on relative draft positions\n",
    "    i = 0\n",
    "    absolute_error = 0\n",
    "    errors = {}\n",
    "    for key, value in sorted(trueDraftMap.iteritems(), key=lambda (k,v): (v,k)):  \n",
    "        errors[key] = math.fabs(i - predictedDraftMap[key]) \n",
    "        absolute_error += errors[key]\n",
    "        i += 1\n",
    "        \n",
    "    #Add the errors to the results Dataframe (for visualization)\n",
    "    results['error'] = 0.0\n",
    "    for index, row in results.iterrows():\n",
    "        results.at[index, 'error'] = errors[row['name']]\n",
    "\n",
    "    #average the error by the total number of players\n",
    "    return absolute_error / float(len(results))"
   ]
  },
  {
   "cell_type": "code",
   "execution_count": 21,
   "metadata": {},
   "outputs": [
    {
     "name": "stdout",
     "output_type": "stream",
     "text": [
      "Not enough data for position: LS\n",
      "Not enough data for position: K\n",
      "Not enough data for position: P\n"
     ]
    }
   ],
   "source": [
    "scores = {}\n",
    "output = {}\n",
    "relativeError = {} \n",
    "scaler = StandardScaler()\n",
    "for p in positions:\n",
    "    if len(xTrain[p]) > 1 and len(xTest[p]) > 1:\n",
    "#         scaler.fit(np.array(xTrain[p]))\n",
    "#         predictor.fit(scaler.transform(np.array(xTrain[p])), np.array(yTrain[p]))\n",
    "#         prediction = predictor.predict(scaler.transform(np.array(xTest[p])))\n",
    "        predictor.fit(np.array(xTrain[p]), np.array(yTrain[p]))\n",
    "        prediction = predictor.predict(np.array(xTest[p]))\n",
    "        output[p] = pd.DataFrame(zip(names[p], prediction), columns = ['name', 'value']).sort_values(by=['value'], ascending=False)\n",
    "        # scores[p] = predictor.score(np.array(xTest[p]), np.array(yTest[p]))\n",
    "        scores[p] = (mean_squared_error(np.array(yTest[p]), np.array(prediction)), \n",
    "                     r2_score(np.array(yTest[p]), np.array(prediction)))\n",
    "        relativeError[p] = get_relative_error(output[p], TEST_YEAR)\n",
    "    else:\n",
    "        print 'Not enough data for position: {}'.format(p)"
   ]
  },
  {
   "cell_type": "code",
   "execution_count": 22,
   "metadata": {},
   "outputs": [
    {
     "data": {
      "text/plain": [
       "{'C': (10977.630418087374, -1.2262206690048147),\n",
       " 'DB': (5775.454365590319, 0.00072990328294186835),\n",
       " 'DE': (4946.7564242139815, 0.0025478658061179882),\n",
       " 'DT': (5102.2083498078919, -0.0043504811780106234),\n",
       " 'FB': (2519.8988119453643, -0.17303485470675373),\n",
       " 'G': (3774.8951797279879, 0.0076583356889523557),\n",
       " 'LB': (5263.2967150021641, -0.014903220373015946),\n",
       " 'QB': (6658.148287500987, -0.042349904750724976),\n",
       " 'RB': (4688.1736001201307, -0.078995828438863214),\n",
       " 'T': (7646.8259933918716, 0.019362360279120527),\n",
       " 'TE': (4338.6231497419994, -0.022983319901512589),\n",
       " 'WR': (5605.1514126098964, 0.028142744290840405)}"
      ]
     },
     "execution_count": 22,
     "metadata": {},
     "output_type": "execute_result"
    }
   ],
   "source": [
    "scores"
   ]
  },
  {
   "cell_type": "code",
   "execution_count": 23,
   "metadata": {},
   "outputs": [
    {
     "data": {
      "text/plain": [
       "{'C':             name      value  error\n",
       " 0  CameronErving  57.698215    0.0\n",
       " 1      AliMarpet  57.569374    0.0\n",
       " 4      MaxGarcia  57.466431    2.0\n",
       " 2   HronissGrasu  57.413815    1.0\n",
       " 5     AndyGallik  57.185734    1.0\n",
       " 3      ShaqMason  57.035084    2.0\n",
       " 6   AustinReiter  57.035084    0.0,\n",
       " 'DB':                 name       value  error\n",
       " 3         ByronJones  132.282837    3.0\n",
       " 24        AdrianAmos  132.002823   23.0\n",
       " 19   ClaytonGeathers  131.900024   17.0\n",
       " 8           EricRowe  131.767365    5.0\n",
       " 5      LandonCollins  131.742065    1.0\n",
       " 12    JordanRichards  131.386795    7.0\n",
       " 1       KevinJohnson  131.310898    5.0\n",
       " 16        CraigMager  131.309677    9.0\n",
       " 26       BobbyMcCain  131.229706   18.0\n",
       " 22        DoranGrant  131.172745   13.0\n",
       " 6       JalenCollins  131.091965    4.0\n",
       " 42        RyanMurphy  131.090546   31.0\n",
       " 15        AlexCarter  131.067032    3.0\n",
       " 41     DarrylRoberts  131.065445   28.0\n",
       " 25   MykkeleThompson  131.062317   11.0\n",
       " 35      RandallEvans  131.058578   20.0\n",
       " 20  IbraheimCampbell  131.056152    4.0\n",
       " 31    KyshoenJarrett  131.017487   14.0\n",
       " 37      QuandreDiggs  130.937027   19.0\n",
       " 36       DerronSmith  130.899704   17.0\n",
       " 2       MarcusPeters  130.842133   18.0\n",
       " 14        PJWilliams  130.838943    7.0\n",
       " 32      TevinMitchel  130.825089   10.0\n",
       " 29       DamianSwann  130.779724    6.0\n",
       " 38     GerodHolliman  130.748596   14.0\n",
       " 27    CedricThompson  130.746704    2.0\n",
       " 7      JaquiskiTartt  130.652283   19.0\n",
       " 18       JamesSample  130.603561    9.0\n",
       " 9        RonaldDarby  130.594467   19.0\n",
       " 13        DJounSmith  130.482132   16.0\n",
       " 40    DexterMcDonald  130.447617   10.0\n",
       " 45        JoshFurman  130.443130   14.0\n",
       " 21          JoshShaw  130.441330   11.0\n",
       " 4   DamariousRandall  130.420853   29.0\n",
       " 34   JaCoreyShepherd  130.372604    0.0\n",
       " 0         TraeWaynes  130.284851   35.0\n",
       " 17      StevenNelson  130.269394   19.0\n",
       " 43         AkeemKing  130.223801    6.0\n",
       " 10     SenquezGolson  130.167160   28.0\n",
       " 11    QuintenRollins  130.054382   28.0\n",
       " 33     CharlesGaines  130.052414    7.0\n",
       " 44      TaureanNixon  130.021484    3.0\n",
       " 28       LorenzoDoss  129.873627   14.0\n",
       " 30          TyeSmith  129.831787   13.0\n",
       " 23        TrayWalker  129.629593   21.0\n",
       " 39     IfoEkpreOlomu  128.966446    6.0,\n",
       " 'DE':                   name       value  error\n",
       " 6   OwamagbeOdighizuwa  141.986160    6.0\n",
       " 12      MarcusHardison  141.857101   11.0\n",
       " 10         TreyFlowers  141.796371    8.0\n",
       " 2         PrestonSmith  141.619995    1.0\n",
       " 0      LeonardWilliams  141.516846    4.0\n",
       " 14         RyanRussell  141.444641    9.0\n",
       " 5           FrankClark  141.318985    1.0\n",
       " 18    AnthonyChickillo  141.314911   11.0\n",
       " 8        HenryAnderson  141.279343    0.0\n",
       " 15            BJDubose  141.155640    6.0\n",
       " 11       ZaDariusSmith  141.070007    1.0\n",
       " 9         GeneoGrissom  140.946136    2.0\n",
       " 19         MartinIfedi  140.753510    7.0\n",
       " 16         ObumGwacham  140.662796    3.0\n",
       " 7       DanielleHunter  140.314804    7.0\n",
       " 3          NateOrchard  140.281845   12.0\n",
       " 4         MarkusGolden  140.132523   12.0\n",
       " 1             ShaneRay  139.800888   16.0\n",
       " 17      ChristianRingo  138.359863    1.0\n",
       " 20        BrianMihalik  138.293259    1.0\n",
       " 13    ShaquilleRiddick  138.155716    7.0,\n",
       " 'DT':                   name       value  error\n",
       " 0         DannyShelton  123.768494    0.0\n",
       " 13       TyelerDavison  123.301735   12.0\n",
       " 11        GradyJarrett  122.796249    9.0\n",
       " 4         EddieGoldman  122.672661    1.0\n",
       " 5       JordanPhillips  122.604439    1.0\n",
       " 6            CarlDavis  122.536507    1.0\n",
       " 12          DavidParry  122.474136    6.0\n",
       " 16     LeterriusWalton  122.444199    9.0\n",
       " 8       AngeloBlackson  122.439644    0.0\n",
       " 9           GabeWright  122.196938    0.0\n",
       " 1         ArikArmstead  122.013382    9.0\n",
       " 14      MichaelBennett  121.903618    3.0\n",
       " 7         XavierCooper  121.879059    5.0\n",
       " 15        DariusPhilon  121.827644    2.0\n",
       " 2          MalcomBrown  121.683739   12.0\n",
       " 21           DeonSimon  121.635300    6.0\n",
       " 20   RakeemNunezRoches  121.307915    4.0\n",
       " 19  ChristianCovington  121.089531    2.0\n",
       " 18      KristjanSokoli  118.406136    0.0\n",
       " 17         DariusKilgo  118.365906    2.0\n",
       " 10        RodneyGunter  116.824303   10.0\n",
       " 3         MarioEdwards  116.824303   18.0,\n",
       " 'FB':              name      value  error\n",
       " 3      JoeyIosefa  60.968426    3.0\n",
       " 0   JalstonFowler  59.259544    1.0\n",
       " 1   MichaelBurton  59.087322    1.0\n",
       " 2  AaronRipkowski  58.663498    1.0,\n",
       " 'G':                name       value  error\n",
       " 1        MitchMorse  122.104416    1.0\n",
       " 11    MarkGlowinski  121.966774   10.0\n",
       " 10       TerryPoole  121.844902    8.0\n",
       " 3            AJCann  121.561897    0.0\n",
       " 0    LakenTomlinson  121.505150    4.0\n",
       " 12   JarvisHarrison  121.477379    7.0\n",
       " 17        BobbyHart  121.443718   11.0\n",
       " 4        JohnMiller  121.413841    3.0\n",
       " 7     ArieKouandjio  121.299568    1.0\n",
       " 18     TrentonBrown  121.246910    9.0\n",
       " 8      JamilDouglas  121.221367    2.0\n",
       " 2   JeremiahPoutasi  121.188499    9.0\n",
       " 5     DarylWilliams  121.185493    7.0\n",
       " 9      JonFeliciano  120.834602    4.0\n",
       " 13      RobertMyers  120.824524    1.0\n",
       " 6        TreJackson  120.810577    9.0\n",
       " 14     IanSilberman  120.446671    2.0\n",
       " 15     CodyWichmann  120.446671    2.0\n",
       " 16    AnthonyMorris  120.446671    2.0,\n",
       " 'LB':                   name       value  error\n",
       " 1           VicBeasley  141.253326    1.0\n",
       " 4      StephoneAnthony  141.013519    3.0\n",
       " 11      LorenzoMauldin  140.756851    9.0\n",
       " 2            BudDupree  140.752960    1.0\n",
       " 29       AmarloHerrera  140.744888   25.0\n",
       " 6         HauoliKikaha  140.535065    1.0\n",
       " 10           EliHarold  140.527420    4.0\n",
       " 35      XzavierDickson  140.479782   28.0\n",
       " 7        EricKendricks  140.479645    1.0\n",
       " 8       DenzelPerryman  140.424026    1.0\n",
       " 5   BenardrickMcKinney  140.420120    5.0\n",
       " 12         JordanHicks  140.375763    1.0\n",
       " 27           MaxValles  140.370483   15.0\n",
       " 31        HayesPullard  140.342163   18.0\n",
       " 17            JakeRyan  140.309158    3.0\n",
       " 32          BryceHager  140.286819   17.0\n",
       " 16        DamienWilson  140.253586    0.0\n",
       " 9         RandyGregory  140.214066    8.0\n",
       " 21         KyleEmanuel  140.170761    3.0\n",
       " 14         RamikWilson  140.110382    5.0\n",
       " 20           DavisTull  140.097092    0.0\n",
       " 22          NeironBall  140.016739    1.0\n",
       " 19     MartrellSpaight  139.939072    3.0\n",
       " 18           BenHeeney  139.893448    5.0\n",
       " 15       KwonAlexander  139.726135    9.0\n",
       " 3         ShaqThompson  139.674545   22.0\n",
       " 33      EdmondRobinson  139.614853    7.0\n",
       " 13          PaulDawson  139.587555   14.0\n",
       " 34         MarkNzeocha  139.539841    6.0\n",
       " 26        MatthewWells  138.886459    3.0\n",
       " 30       ReshardCliett  138.458450    0.0\n",
       " 23           DavidMayo  138.438568    8.0\n",
       " 25      DeiontrezMount  138.431137    7.0\n",
       " 28         TonySteward  138.388809    5.0\n",
       " 24         DJAlexander  138.365723   10.0\n",
       " 0          DanteFowler  137.654984   35.0,\n",
       " 'QB':              name       value  error\n",
       " 4      BrycePetty  139.164093    4.0\n",
       " 1   MarcusMariota  138.274826    0.0\n",
       " 0   JameisWinston  137.856735    2.0\n",
       " 5    BrettHundley  137.410385    2.0\n",
       " 3     SeanMannion  136.929001    1.0\n",
       " 2  GarrettGrayson  136.300583    3.0\n",
       " 6   TrevorSiemian  130.865097    0.0,\n",
       " 'RB':                  name       value  error\n",
       " 1        MelvinGordon  121.264977    1.0\n",
       " 4        TevinColeman  119.587257    3.0\n",
       " 3       AmeerAbdullah  119.498268    1.0\n",
       " 11          DavidCobb  119.111000    8.0\n",
       " 12           JayAjayi  118.919792    8.0\n",
       " 0          ToddGurley  118.407913    5.0\n",
       " 5         DukeJohnson  118.383278    1.0\n",
       " 8      JeremyLangford  118.214302    1.0\n",
       " 2            TJYeldon  117.980232    6.0\n",
       " 9       JavoriusAllen  117.604126    0.0\n",
       " 15       JoshRobinson  116.981483    5.0\n",
       " 14  CameronArtisPayne  116.796593    3.0\n",
       " 7           MattJones  116.573280    5.0\n",
       " 13     KarlosWilliams  115.592941    0.0\n",
       " 10          MikeDavis  114.937767    4.0\n",
       " 17      KennyHilliard  113.897743    2.0\n",
       " 16       MarcusMurphy  113.696678    0.0\n",
       " 6        DavidJohnson  113.175133   11.0,\n",
       " 'T':               name       value  error\n",
       " 13    TayoFabuluje  151.671890   13.0\n",
       " 5     DonovanSmith  151.529251    4.0\n",
       " 1     EreckFlowers  151.473343    1.0\n",
       " 17   CoreyRobinson  150.631104   14.0\n",
       " 0   BrandonScherff  149.991180    4.0\n",
       " 9       JamonBrown  149.803543    4.0\n",
       " 14   TyrusThompson  149.801102    8.0\n",
       " 18  LaurenceGibson  149.780121   11.0\n",
       " 11     TJClemmings  149.682877    3.0\n",
       " 10       ChazGreen  149.473236    1.0\n",
       " 6       JakeFisher  149.470535    4.0\n",
       " 4      DJHumphries  149.259949    7.0\n",
       " 2       AndrusPeat  149.216949   10.0\n",
       " 3    CedricOgbuehi  149.202164   10.0\n",
       " 12    AndrewDonnal  148.929688    2.0\n",
       " 7    RobHavenstein  148.923111    8.0\n",
       " 8      TySambrailo  148.764984    8.0\n",
       " 16  AustinShepherd  148.379440    1.0\n",
       " 15     JakeRodgers  142.884445    3.0\n",
       " 19    DenzellGoode  142.884445    0.0,\n",
       " 'TE':                  name       value  error\n",
       " 8          JesseJames  107.052376    8.0\n",
       " 2        CliveWalford  106.877983    1.0\n",
       " 1        MaxxWilliams  106.431297    1.0\n",
       " 0       DevinFunchess  106.342949    3.0\n",
       " 11         NickOLeary  106.330315    7.0\n",
       " 19    GeraldChristian  106.258034   14.0\n",
       " 16          BenKoyack  105.743156   10.0\n",
       " 3          TylerKroft  105.737144    4.0\n",
       " 13      RandallTelfer  105.694969    5.0\n",
       " 9           NickBoyle  105.534050    0.0\n",
       " 4        JeffHeuerman  105.369667    6.0\n",
       " 6        MyColePruitt  105.321945    5.0\n",
       " 5           BlakeBell  105.200363    7.0\n",
       " 15     KennardBackman  105.149864    2.0\n",
       " 12     MalcolmJohnson  105.003006    2.0\n",
       " 14            AJDerby  104.953423    1.0\n",
       " 18  RoryBustaAnderson  104.834427    2.0\n",
       " 7            CJUzomah  103.986992   10.0\n",
       " 17         GeoffSwaim  103.986992    1.0\n",
       " 10  JamesOShaughnessy  103.986992    9.0,\n",
       " 'WR':                   name       value  error\n",
       " 0          AmariCooper  140.638397    0.0\n",
       " 14         JustinHardy  139.924545   13.0\n",
       " 8         TylerLockett  139.867538    6.0\n",
       " 9         JaelenStrong  139.865845    6.0\n",
       " 17        RashadGreene  139.838287   13.0\n",
       " 11        SammieCoates  139.293015    6.0\n",
       " 21           KennyBell  139.242142   15.0\n",
       " 15          VinceMayle  139.241074    8.0\n",
       " 13      JamisonCrowder  139.169830    5.0\n",
       " 24         GeremyDavis  138.982422   15.0\n",
       " 12        TyMontgomery  138.888977    2.0\n",
       " 18         StefonDiggs  138.793564    7.0\n",
       " 30          DaRonBrown  138.781342   18.0\n",
       " 10         ChrisConley  138.701050    3.0\n",
       " 6           DevinSmith  138.256134    8.0\n",
       " 4      BreshadPerriman  138.076233   11.0\n",
       " 1           KevinWhite  138.069809   15.0\n",
       " 3        NelsonAgholor  137.914642   14.0\n",
       " 19         TonyLippett  137.837875    1.0\n",
       " 5       PhillipDorsett  137.756531   14.0\n",
       " 7   DorialGreenBeckham  137.735886   13.0\n",
       " 32         MarioAlford  137.482849   11.0\n",
       " 22       KeithMumphery  137.130051    0.0\n",
       " 26           BudSasser  136.725220    3.0\n",
       " 23          KaelinClay  134.534714    1.0\n",
       " 27        DarrenWaller  132.593079    2.0\n",
       " 2        DeVanteParker  132.001144   24.0\n",
       " 33          TreMcBride  131.816391    6.0\n",
       " 31         DezminLewis  131.720932    3.0\n",
       " 16      DeAndreSmelter  131.348694   13.0\n",
       " 25         EvanSpencer  130.882874    5.0\n",
       " 28        NealSterling  130.882874    3.0\n",
       " 29         AndreDebose  130.882874    3.0\n",
       " 20            JJNelson  130.696533   13.0}"
      ]
     },
     "execution_count": 23,
     "metadata": {},
     "output_type": "execute_result"
    }
   ],
   "source": [
    "output"
   ]
  },
  {
   "cell_type": "code",
   "execution_count": 24,
   "metadata": {},
   "outputs": [
    {
     "data": {
      "text/plain": [
       "{'C': 0.8571428571428571,\n",
       " 'DB': 13.391304347826088,\n",
       " 'DE': 6.0,\n",
       " 'DT': 5.090909090909091,\n",
       " 'FB': 1.5,\n",
       " 'G': 4.842105263157895,\n",
       " 'LB': 7.888888888888889,\n",
       " 'QB': 1.7142857142857142,\n",
       " 'RB': 3.5555555555555554,\n",
       " 'T': 5.8,\n",
       " 'TE': 4.9,\n",
       " 'WR': 8.235294117647058}"
      ]
     },
     "execution_count": 24,
     "metadata": {},
     "output_type": "execute_result"
    }
   ],
   "source": [
    "relativeError"
   ]
  }
 ],
 "metadata": {
  "kernelspec": {
   "display_name": "221",
   "language": "python",
   "name": "221"
  },
  "language_info": {
   "codemirror_mode": {
    "name": "ipython",
    "version": 2
   },
   "file_extension": ".py",
   "mimetype": "text/x-python",
   "name": "python",
   "nbconvert_exporter": "python",
   "pygments_lexer": "ipython2",
   "version": "2.7.14"
  }
 },
 "nbformat": 4,
 "nbformat_minor": 2
}
