{
 "cells": [
  {
   "cell_type": "code",
   "execution_count": 1,
   "metadata": {
    "collapsed": true
   },
   "outputs": [],
   "source": [
    "import pandas as pd\n",
    "from sklearn import datasets, linear_model\n",
    "from sklearn.metrics import mean_squared_error, r2_score\n",
    "from sklearn.model_selection import cross_val_score\n",
    "from sklearn.model_selection import KFold\n",
    "from sklearn.preprocessing import StandardScaler\n",
    "from sklearn.pipeline import Pipeline\n",
    "import numpy as np\n",
    "from collections import defaultdict\n",
    "import math"
   ]
  },
  {
   "cell_type": "code",
   "execution_count": 66,
   "metadata": {},
   "outputs": [],
   "source": [
    "df = pd.read_csv('data/salaries.test.csv')"
   ]
  },
  {
   "cell_type": "code",
   "execution_count": 69,
   "metadata": {},
   "outputs": [
    {
     "data": {
      "text/plain": [
       "array(['QB', 'LB', 'WR', 'DB', 'DE', 'C', 'TE', 'T', 'DT', 'G', 'FB', 'RB',\n",
       "       'LS', 'P', 'K'], dtype=object)"
      ]
     },
     "execution_count": 69,
     "metadata": {},
     "output_type": "execute_result"
    }
   ],
   "source": [
    "df['Pos.'].unique()"
   ]
  },
  {
   "cell_type": "code",
   "execution_count": 70,
   "metadata": {},
   "outputs": [
    {
     "data": {
      "text/plain": [
       "array([2011, 2012, 2013])"
      ]
     },
     "execution_count": 70,
     "metadata": {},
     "output_type": "execute_result"
    }
   ],
   "source": [
    "salaries.year.unique()"
   ]
  },
  {
   "cell_type": "code",
   "execution_count": 111,
   "metadata": {},
   "outputs": [],
   "source": [
    "def featureExtractor(filename, features):\n",
    "    salaries = pd.read_csv(filename)\n",
    "    teams = salaries.team.unique()\n",
    "    years = salaries.year.unique()\n",
    "    allFeatures = []\n",
    "    for year in years:\n",
    "        for team in teams:\n",
    "            result = []\n",
    "            sliced = salaries[((salaries['team'] == team) & (salaries['year'] == year))]\n",
    "            teamFeatures = defaultdict(lambda: [])\n",
    "            for index, row in sliced.iterrows():                \n",
    "                pos = row['Pos.']\n",
    "                cap = row['Cap %']\n",
    "                teamFeatures[pos].append(cap)\n",
    "            for (position, count) in features:\n",
    "                posList = sorted(teamFeatures[position], reverse=True)\n",
    "                for count in range(count):\n",
    "                    if len(posList) == 0:\n",
    "                        result.append(0)\n",
    "                    else:\n",
    "                        result.append(posList[0])\n",
    "                        posList = posList[1:]\n",
    "            allFeatures.append((team, year, result))\n",
    "    return allFeatures"
   ]
  },
  {
   "cell_type": "code",
   "execution_count": 125,
   "metadata": {},
   "outputs": [],
   "source": [
    "features = [('QB', 1), ('RB', 1), ('DB', 4), ('LB', 3), ('C', 1), ('DE', 2), ('DT', 2), ('G', 2), ('TE', 2), ('WR', 3), ('T', 2)]\n",
    "teamFeatures = featureExtractor('data/salaries.train.csv', features)\n",
    "# for (team, year, vec) in teamFeatures:\n",
    "#     print team, year, vec"
   ]
  },
  {
   "cell_type": "code",
   "execution_count": 126,
   "metadata": {},
   "outputs": [],
   "source": [
    "def distance(vec1, vec2):\n",
    "    return np.linalg.norm(np.array(vec1)-np.array(vec2))"
   ]
  },
  {
   "cell_type": "code",
   "execution_count": 131,
   "metadata": {},
   "outputs": [],
   "source": [
    "def kNN(featureVec, teamFeatures, k):\n",
    "    kTop = [float('inf')] * k\n",
    "    kTeams = [('', 0)] * k\n",
    "    for (team, year, vec) in teamFeatures:\n",
    "        dist = distance(vec, featureVec)\n",
    "        if dist < max(kTop):\n",
    "            minIndex = kTop.index(max(kTop))\n",
    "            kTop[minIndex] = dist\n",
    "            kTeams[minIndex] = (team, year, dist)\n",
    "    return kTeams"
   ]
  },
  {
   "cell_type": "code",
   "execution_count": 133,
   "metadata": {},
   "outputs": [
    {
     "name": "stdout",
     "output_type": "stream",
     "text": [
      "[('pittsburgh-steelers', 2012, 11.365214472239403), ('kansas-city-chiefs', 2013, 10.250731681202078), ('baltimore-ravens', 2011, 10.996344847266295), ('indianapolis-colts', 2012, 8.5193309596470073), ('denver-broncos', 2011, 0.0), ('baltimore-ravens', 2012, 11.894465099364494), ('baltimore-ravens', 2013, 11.906850969084983), ('indianapolis-colts', 2013, 11.079115488160596), ('new-york-jets', 2012, 10.730745547258122), ('san-francisco-49ers', 2012, 11.587186888973527)]\n"
     ]
    }
   ],
   "source": [
    "print kNN([1.95, 2.39, 10.16, 3.22, 0.75, 0.55, 14.43, 5.68, 3.53, 0.56, 1.9, 0.8, 2.54, 1.77, 4.54, 0.8, 0.49, 0.44, 2.0, 1.13, 0.54, 4.51, 0.37], teamFeatures, 10)"
   ]
  },
  {
   "cell_type": "code",
   "execution_count": null,
   "metadata": {
    "collapsed": true
   },
   "outputs": [],
   "source": []
  }
 ],
 "metadata": {
  "kernelspec": {
   "display_name": "Python 2",
   "language": "python",
   "name": "python2"
  },
  "language_info": {
   "codemirror_mode": {
    "name": "ipython",
    "version": 2
   },
   "file_extension": ".py",
   "mimetype": "text/x-python",
   "name": "python",
   "nbconvert_exporter": "python",
   "pygments_lexer": "ipython2",
   "version": "2.7.14"
  }
 },
 "nbformat": 4,
 "nbformat_minor": 2
}
